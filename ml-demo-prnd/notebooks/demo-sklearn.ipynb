{
 "cells": [
  {
   "cell_type": "code",
   "execution_count": 1,
   "metadata": {},
   "outputs": [],
   "source": [
    "import pandas as pd\n",
    "import numpy as np\n",
    "from sklearn.model_selection import train_test_split\n",
    "from sklearn.pipeline import Pipeline\n",
    "from sklearn.preprocessing import Imputer\n",
    "from sklearn.ensemble import RandomForestClassifier, GradientBoostingClassifier"
   ]
  },
  {
   "cell_type": "code",
   "execution_count": 2,
   "metadata": {},
   "outputs": [
    {
     "data": {
      "text/html": [
       "<div>\n",
       "<style scoped>\n",
       "    .dataframe tbody tr th:only-of-type {\n",
       "        vertical-align: middle;\n",
       "    }\n",
       "\n",
       "    .dataframe tbody tr th {\n",
       "        vertical-align: top;\n",
       "    }\n",
       "\n",
       "    .dataframe thead th {\n",
       "        text-align: right;\n",
       "    }\n",
       "</style>\n",
       "<table border=\"1\" class=\"dataframe\">\n",
       "  <thead>\n",
       "    <tr style=\"text-align: right;\">\n",
       "      <th></th>\n",
       "      <th>rn</th>\n",
       "      <th>activity</th>\n",
       "      <th>tBodyAcc.mean.X</th>\n",
       "      <th>tBodyAcc.mean.Y</th>\n",
       "      <th>tBodyAcc.mean.Z</th>\n",
       "      <th>tBodyAcc.std.X</th>\n",
       "      <th>tBodyAcc.std.Y</th>\n",
       "      <th>tBodyAcc.std.Z</th>\n",
       "      <th>tBodyAcc.mad.X</th>\n",
       "      <th>tBodyAcc.mad.Y</th>\n",
       "      <th>...</th>\n",
       "      <th>fBodyBodyGyroJerkMag.meanFreq</th>\n",
       "      <th>fBodyBodyGyroJerkMag.skewness</th>\n",
       "      <th>fBodyBodyGyroJerkMag.kurtosis</th>\n",
       "      <th>angle.tBodyAccMean.gravity</th>\n",
       "      <th>angle.tBodyAccJerkMean.gravityMean</th>\n",
       "      <th>angle.tBodyGyroMean.gravityMean</th>\n",
       "      <th>angle.tBodyGyroJerkMean.gravityMean</th>\n",
       "      <th>angle.X.gravityMean</th>\n",
       "      <th>angle.Y.gravityMean</th>\n",
       "      <th>angle.Z.gravityMean</th>\n",
       "    </tr>\n",
       "  </thead>\n",
       "  <tbody>\n",
       "    <tr>\n",
       "      <th>1788</th>\n",
       "      <td>5111</td>\n",
       "      <td>SITTING</td>\n",
       "      <td>0.280</td>\n",
       "      <td>-0.0178</td>\n",
       "      <td>-0.1080</td>\n",
       "      <td>-0.996</td>\n",
       "      <td>-0.985</td>\n",
       "      <td>-0.983</td>\n",
       "      <td>-0.996</td>\n",
       "      <td>-0.987</td>\n",
       "      <td>...</td>\n",
       "      <td>0.175</td>\n",
       "      <td>-0.280</td>\n",
       "      <td>-0.570</td>\n",
       "      <td>-0.25200</td>\n",
       "      <td>0.36800</td>\n",
       "      <td>-0.0631</td>\n",
       "      <td>-0.649</td>\n",
       "      <td>-0.316</td>\n",
       "      <td>-0.2740</td>\n",
       "      <td>-0.25900</td>\n",
       "    </tr>\n",
       "    <tr>\n",
       "      <th>1214</th>\n",
       "      <td>3474</td>\n",
       "      <td>SITTING</td>\n",
       "      <td>0.279</td>\n",
       "      <td>-0.0174</td>\n",
       "      <td>-0.1120</td>\n",
       "      <td>-0.998</td>\n",
       "      <td>-0.991</td>\n",
       "      <td>-0.988</td>\n",
       "      <td>-0.998</td>\n",
       "      <td>-0.990</td>\n",
       "      <td>...</td>\n",
       "      <td>0.528</td>\n",
       "      <td>-0.779</td>\n",
       "      <td>-0.937</td>\n",
       "      <td>-0.11800</td>\n",
       "      <td>-0.15100</td>\n",
       "      <td>-0.2400</td>\n",
       "      <td>-0.191</td>\n",
       "      <td>-0.892</td>\n",
       "      <td>0.0207</td>\n",
       "      <td>0.00637</td>\n",
       "    </tr>\n",
       "    <tr>\n",
       "      <th>1399</th>\n",
       "      <td>3973</td>\n",
       "      <td>STANDING</td>\n",
       "      <td>0.282</td>\n",
       "      <td>-0.0141</td>\n",
       "      <td>-0.1080</td>\n",
       "      <td>-0.995</td>\n",
       "      <td>-0.985</td>\n",
       "      <td>-0.986</td>\n",
       "      <td>-0.996</td>\n",
       "      <td>-0.984</td>\n",
       "      <td>...</td>\n",
       "      <td>0.354</td>\n",
       "      <td>-0.574</td>\n",
       "      <td>-0.838</td>\n",
       "      <td>-0.13100</td>\n",
       "      <td>-0.62800</td>\n",
       "      <td>-0.8970</td>\n",
       "      <td>-0.784</td>\n",
       "      <td>-0.653</td>\n",
       "      <td>0.3000</td>\n",
       "      <td>0.15000</td>\n",
       "    </tr>\n",
       "    <tr>\n",
       "      <th>2452</th>\n",
       "      <td>7021</td>\n",
       "      <td>SITTING</td>\n",
       "      <td>0.276</td>\n",
       "      <td>-0.0146</td>\n",
       "      <td>-0.1060</td>\n",
       "      <td>-0.996</td>\n",
       "      <td>-0.978</td>\n",
       "      <td>-0.981</td>\n",
       "      <td>-0.996</td>\n",
       "      <td>-0.982</td>\n",
       "      <td>...</td>\n",
       "      <td>0.169</td>\n",
       "      <td>-0.107</td>\n",
       "      <td>-0.429</td>\n",
       "      <td>0.06810</td>\n",
       "      <td>-0.00418</td>\n",
       "      <td>0.0104</td>\n",
       "      <td>0.261</td>\n",
       "      <td>-0.767</td>\n",
       "      <td>0.1310</td>\n",
       "      <td>-0.14800</td>\n",
       "    </tr>\n",
       "    <tr>\n",
       "      <th>1094</th>\n",
       "      <td>3118</td>\n",
       "      <td>SITTING</td>\n",
       "      <td>0.275</td>\n",
       "      <td>-0.0165</td>\n",
       "      <td>-0.0945</td>\n",
       "      <td>-0.989</td>\n",
       "      <td>-0.968</td>\n",
       "      <td>-0.960</td>\n",
       "      <td>-0.990</td>\n",
       "      <td>-0.965</td>\n",
       "      <td>...</td>\n",
       "      <td>0.235</td>\n",
       "      <td>-0.469</td>\n",
       "      <td>-0.784</td>\n",
       "      <td>-0.00887</td>\n",
       "      <td>0.02850</td>\n",
       "      <td>0.6920</td>\n",
       "      <td>-0.632</td>\n",
       "      <td>-0.861</td>\n",
       "      <td>0.1390</td>\n",
       "      <td>-0.07400</td>\n",
       "    </tr>\n",
       "  </tbody>\n",
       "</table>\n",
       "<p>5 rows × 563 columns</p>\n",
       "</div>"
      ],
      "text/plain": [
       "        rn  activity  tBodyAcc.mean.X  tBodyAcc.mean.Y  tBodyAcc.mean.Z  \\\n",
       "1788  5111   SITTING            0.280          -0.0178          -0.1080   \n",
       "1214  3474   SITTING            0.279          -0.0174          -0.1120   \n",
       "1399  3973  STANDING            0.282          -0.0141          -0.1080   \n",
       "2452  7021   SITTING            0.276          -0.0146          -0.1060   \n",
       "1094  3118   SITTING            0.275          -0.0165          -0.0945   \n",
       "\n",
       "      tBodyAcc.std.X  tBodyAcc.std.Y  tBodyAcc.std.Z  tBodyAcc.mad.X  \\\n",
       "1788          -0.996          -0.985          -0.983          -0.996   \n",
       "1214          -0.998          -0.991          -0.988          -0.998   \n",
       "1399          -0.995          -0.985          -0.986          -0.996   \n",
       "2452          -0.996          -0.978          -0.981          -0.996   \n",
       "1094          -0.989          -0.968          -0.960          -0.990   \n",
       "\n",
       "      tBodyAcc.mad.Y         ...           fBodyBodyGyroJerkMag.meanFreq  \\\n",
       "1788          -0.987         ...                                   0.175   \n",
       "1214          -0.990         ...                                   0.528   \n",
       "1399          -0.984         ...                                   0.354   \n",
       "2452          -0.982         ...                                   0.169   \n",
       "1094          -0.965         ...                                   0.235   \n",
       "\n",
       "      fBodyBodyGyroJerkMag.skewness  fBodyBodyGyroJerkMag.kurtosis  \\\n",
       "1788                         -0.280                         -0.570   \n",
       "1214                         -0.779                         -0.937   \n",
       "1399                         -0.574                         -0.838   \n",
       "2452                         -0.107                         -0.429   \n",
       "1094                         -0.469                         -0.784   \n",
       "\n",
       "      angle.tBodyAccMean.gravity  angle.tBodyAccJerkMean.gravityMean  \\\n",
       "1788                    -0.25200                             0.36800   \n",
       "1214                    -0.11800                            -0.15100   \n",
       "1399                    -0.13100                            -0.62800   \n",
       "2452                     0.06810                            -0.00418   \n",
       "1094                    -0.00887                             0.02850   \n",
       "\n",
       "      angle.tBodyGyroMean.gravityMean  angle.tBodyGyroJerkMean.gravityMean  \\\n",
       "1788                          -0.0631                               -0.649   \n",
       "1214                          -0.2400                               -0.191   \n",
       "1399                          -0.8970                               -0.784   \n",
       "2452                           0.0104                                0.261   \n",
       "1094                           0.6920                               -0.632   \n",
       "\n",
       "      angle.X.gravityMean  angle.Y.gravityMean  angle.Z.gravityMean  \n",
       "1788               -0.316              -0.2740             -0.25900  \n",
       "1214               -0.892               0.0207              0.00637  \n",
       "1399               -0.653               0.3000              0.15000  \n",
       "2452               -0.767               0.1310             -0.14800  \n",
       "1094               -0.861               0.1390             -0.07400  \n",
       "\n",
       "[5 rows x 563 columns]"
      ]
     },
     "execution_count": 2,
     "metadata": {},
     "output_type": "execute_result"
    }
   ],
   "source": [
    "# import data\n",
    "df = pd.read_csv(\"../data/train.csv\")\n",
    "# source: https://www.kaggle.com/mboaglio/simplifiedhuarus\n",
    "# Classification of activities of daily living using smartphone inertial sensors\n",
    "\n",
    "# first 5 rows\n",
    "df.sample(5)"
   ]
  },
  {
   "cell_type": "code",
   "execution_count": 3,
   "metadata": {},
   "outputs": [
    {
     "name": "stdout",
     "output_type": "stream",
     "text": [
      "(3609,)\n",
      "(3609, 562)\n"
     ]
    }
   ],
   "source": [
    "# separate the target variable (y) with the features (X)\n",
    "y = df[\"activity\"]\n",
    "X = df.drop([\"activity\"], axis = 1)\n",
    "\n",
    "print(y.shape)\n",
    "print(X.shape)"
   ]
  },
  {
   "cell_type": "code",
   "execution_count": 4,
   "metadata": {},
   "outputs": [
    {
     "name": "stdout",
     "output_type": "stream",
     "text": [
      "(2526, 562)\n",
      "(1083, 562)\n"
     ]
    }
   ],
   "source": [
    "# split into training and testing sets for cross-validation, 70:30\n",
    "X_train, X_test, y_train, y_test = train_test_split(X, y,\n",
    "                                                    test_size = 0.3,\n",
    "                                                    random_state = 123)\n",
    "\n",
    "print(X_train.shape)\n",
    "print(X_test.shape)"
   ]
  },
  {
   "cell_type": "code",
   "execution_count": 5,
   "metadata": {},
   "outputs": [],
   "source": [
    "# use a pipeline to capture all steps necessary for to reach the trained model\n",
    "# algorithm used here is the random forest\n",
    "# any data preparation or cleaning steps goes before the model building, e.g.\n",
    "pipeline_rf = Pipeline([(\"imputation\", Imputer(missing_values = \"Nan\",\n",
    "                                            strategy = \"mean\",\n",
    "                                            axis = 0)), \n",
    "                     (\"rf_classifier\", RandomForestClassifier())])\n",
    "# in this example, no data cleaning steps are required\n",
    "pipeline_rf = Pipeline([(\"rf_classifier\", RandomForestClassifier())])"
   ]
  },
  {
   "cell_type": "code",
   "execution_count": 6,
   "metadata": {},
   "outputs": [
    {
     "data": {
      "text/plain": [
       "Pipeline(memory=None,\n",
       "     steps=[('rf_classifier', RandomForestClassifier(bootstrap=True, class_weight=None, criterion='gini',\n",
       "            max_depth=None, max_features='auto', max_leaf_nodes=None,\n",
       "            min_impurity_decrease=0.0, min_impurity_split=None,\n",
       "            min_samples_leaf=1, min_samples_split=2,\n",
       "            min_weight_fraction_leaf=0.0, n_estimators=10, n_jobs=1,\n",
       "            oob_score=False, random_state=None, verbose=0,\n",
       "            warm_start=False))])"
      ]
     },
     "execution_count": 6,
     "metadata": {},
     "output_type": "execute_result"
    }
   ],
   "source": [
    "# fit pipeline to training set (X_train and y_train)\n",
    "pipeline_rf.fit(X_train, y_train)"
   ]
  },
  {
   "cell_type": "code",
   "execution_count": 7,
   "metadata": {},
   "outputs": [],
   "source": [
    "# now use the pipeline to make predictions on the testing set (X_test)\n",
    "y_pred = pipeline_rf.predict(X_test)"
   ]
  },
  {
   "cell_type": "code",
   "execution_count": 8,
   "metadata": {},
   "outputs": [
    {
     "data": {
      "text/plain": [
       "0.9455216989843028"
      ]
     },
     "execution_count": 8,
     "metadata": {},
     "output_type": "execute_result"
    }
   ],
   "source": [
    "# check accuracy with the \"answer key\" (y_test)\n",
    "pipeline_rf.score(X_test, y_test)"
   ]
  },
  {
   "cell_type": "code",
   "execution_count": 9,
   "metadata": {},
   "outputs": [
    {
     "data": {
      "text/plain": [
       "0.9778393351800554"
      ]
     },
     "execution_count": 9,
     "metadata": {},
     "output_type": "execute_result"
    }
   ],
   "source": [
    "# repeat the steps with another algorithm\n",
    "# gradient boosting\n",
    "\n",
    "# make pipeline\n",
    "pipeline_gb = Pipeline([(\"gb_classifier\", GradientBoostingClassifier())])\n",
    "\n",
    "# fit to training set\n",
    "pipeline_gb.fit(X_train, y_train)\n",
    "\n",
    "# make predictions\n",
    "y_pred = pipeline_gb.predict(X_test)\n",
    "\n",
    "# check accuracy\n",
    "pipeline_gb.score(X_test, y_test)"
   ]
  },
  {
   "cell_type": "code",
   "execution_count": null,
   "metadata": {},
   "outputs": [],
   "source": []
  }
 ],
 "metadata": {
  "kernelspec": {
   "display_name": "Python 3",
   "language": "python",
   "name": "python3"
  },
  "language_info": {
   "codemirror_mode": {
    "name": "ipython",
    "version": 3
   },
   "file_extension": ".py",
   "mimetype": "text/x-python",
   "name": "python",
   "nbconvert_exporter": "python",
   "pygments_lexer": "ipython3",
   "version": "3.6.5"
  }
 },
 "nbformat": 4,
 "nbformat_minor": 2
}
