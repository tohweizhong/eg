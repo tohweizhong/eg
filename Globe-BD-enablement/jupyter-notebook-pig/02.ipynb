{
 "cells": [
  {
   "cell_type": "markdown",
   "metadata": {},
   "source": [
    "# Apache Pig Execution"
   ]
  },
  {
   "cell_type": "markdown",
   "metadata": {},
   "source": [
    "Apache Pig Execution Modes\n",
    "---\n",
    "You can run Apache Pig in two modes, namely, Local Mode and HDFS mode.\n",
    "\n",
    "<b>Local Mode</b><br>\n",
    "In this mode, all the files are installed and run from your local host and local file system. There is no need of Hadoop or HDFS. This mode is generally used for testing purpose.\n",
    "\n",
    "<b>MapReduce Mode</b><br>\n",
    "MapReduce mode is where we load or process the data that exists in the Hadoop File System (HDFS) using Apache Pig. In this mode, whenever we execute the Pig Latin statements to process the data, a MapReduce job is invoked in the back-end to perform a particular operation on the data that exists in the HDFS.\n",
    "\n",
    "<b>Apache Pig Execution Mechanisms</b><br>\n",
    "Apache Pig scripts can be executed in three ways, namely, interactive mode, batch mode, and embedded mode.\n",
    "\n",
    "- Interactive Mode (Grunt shell) − You can run Apache Pig in interactive mode using the Grunt shell. In this shell, you can enter the Pig Latin statements and get the output (using Dump operator).\n",
    "\n",
    "- Batch Mode (Script) − You can run Apache Pig in Batch mode by writing the Pig Latin script in a single file with .pig extension.\n",
    "\n",
    "- Embedded Mode (UDF) − Apache Pig provides the provision of defining our own functions (User Defined Functions) in programming languages such as Java, and using them in our script."
   ]
  },
  {
   "cell_type": "markdown",
   "metadata": {},
   "source": [
    "Invoking the Grunt Shell\n",
    "---\n",
    "You can invoke the Grunt shell in a desired mode (local/MapReduce) using the −x option as shown below."
   ]
  },
  {
   "cell_type": "markdown",
   "metadata": {},
   "source": [
    "<table class=\"table table-bordered\">\n",
    "<tr>\n",
    "<th style=\"text-align:center;\">Local mode</th>\n",
    "<th style=\"text-align:center;\">MapReduce mode</th>\n",
    "</tr>\n",
    "<tr>\n",
    "<p>$ ./pig -x mapreduce</p>\n",
    "</tr>\n",
    "<tr>\n",
    "\n",
    "<p>$ ./pig –x local</p>\n",
    "</tr>\n",
    "<tr>\n",
    "<td><p><b>Output</b> &minus;</p>\n",
    "<img src=\"files/local_mode_output.jpg\" alt=\"Local Mode Output\" /></td>\n",
    "<td><p><b>Output</b> &minus;</p>\n",
    "<img src=\"files/mapreduce_mode_output.jpg\" alt=\"MapReduce Mode Output\" /></td>\n",
    "</tr>\n",
    "</table>"
   ]
  },
  {
   "cell_type": "markdown",
   "metadata": {},
   "source": [
    "Either of these commands gives you the Grunt shell prompt as shown below."
   ]
  },
  {
   "cell_type": "raw",
   "metadata": {},
   "source": [
    "grunt>"
   ]
  },
  {
   "cell_type": "markdown",
   "metadata": {},
   "source": [
    "You can exit the Grunt shell using ‘ctrl + d’.\n",
    "\n",
    "After invoking the Grunt shell, you can execute a Pig script by directly entering the Pig Latin statements in it."
   ]
  },
  {
   "cell_type": "raw",
   "metadata": {},
   "source": [
    "grunt> customers = LOAD 'customers.txt' USING PigStorage(',');"
   ]
  },
  {
   "cell_type": "markdown",
   "metadata": {},
   "source": [
    "Executing Apache Pig in Batch Mode\n",
    "---\n",
    "You can write an entire Pig Latin script in a file and execute it using the –x command. Let us suppose we have a Pig script in a file named sample_script.pig as shown below."
   ]
  },
  {
   "cell_type": "markdown",
   "metadata": {},
   "source": [
    "<b>Sample_Script.Pig</b><br>"
   ]
  },
  {
   "cell_type": "raw",
   "metadata": {},
   "source": [
    "student = LOAD 'hdfs://localhost:9000/pig_data/student.txt' USING\n",
    "   PigStorage(',') as (id:int,name:chararray,city:chararray);\n",
    "  \n",
    "Dump student;"
   ]
  },
  {
   "cell_type": "markdown",
   "metadata": {},
   "source": [
    "Now, you can execute the script in the above file as shown below."
   ]
  },
  {
   "cell_type": "markdown",
   "metadata": {},
   "source": [
    "<b>Local Mode</b>"
   ]
  },
  {
   "cell_type": "raw",
   "metadata": {},
   "source": [
    "$ pig -x local Sample_script.pig"
   ]
  },
  {
   "cell_type": "markdown",
   "metadata": {},
   "source": [
    "<b>MapReduce Mode</b>"
   ]
  },
  {
   "cell_type": "raw",
   "metadata": {},
   "source": [
    "$ pig -x mapreduce Sample_script.pig"
   ]
  }
 ],
 "metadata": {
  "anaconda-cloud": {},
  "kernelspec": {
   "display_name": "Python [Root]",
   "language": "python",
   "name": "Python [Root]"
  },
  "language_info": {
   "codemirror_mode": {
    "name": "ipython",
    "version": 3
   },
   "file_extension": ".py",
   "mimetype": "text/x-python",
   "name": "python",
   "nbconvert_exporter": "python",
   "pygments_lexer": "ipython3",
   "version": "3.5.1"
  }
 },
 "nbformat": 4,
 "nbformat_minor": 0
}
