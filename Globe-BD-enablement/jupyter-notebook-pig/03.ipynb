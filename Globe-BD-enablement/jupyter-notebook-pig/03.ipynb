{
 "cells": [
  {
   "cell_type": "markdown",
   "metadata": {},
   "source": [
    "# Apache Pig - Grunt Shell"
   ]
  },
  {
   "cell_type": "markdown",
   "metadata": {},
   "source": [
    "After invoking the Grunt shell, you can run your Pig scripts in the shell. In addition to that, there are certain useful shell and utility commands provided by the Grunt shell. This chapter explains the shell and utility commands provided by the Grunt shell."
   ]
  },
  {
   "cell_type": "markdown",
   "metadata": {},
   "source": [
    "Shell Commands\n",
    "---\n",
    "The Grunt shell of Apache Pig is mainly used to write Pig Latin scripts. Prior to that, we can invoke any shell commands using sh and fs.\n",
    "\n",
    "<b>sh Command</b>\n",
    "Using sh command, we can invoke any shell commands from the Grunt shell. Using sh command from the Grunt shell, we cannot execute the commands that are a part of the shell environment (ex − cd).\n",
    "\n",
    "Syntax\n",
    "\n",
    "Given below is the syntax of sh command."
   ]
  },
  {
   "cell_type": "raw",
   "metadata": {},
   "source": [
    "grunt> sh shell command parameters"
   ]
  },
  {
   "cell_type": "markdown",
   "metadata": {},
   "source": [
    "Example\n",
    "\n",
    "We can invoke the ls command of Linux shell from the Grunt shell using the sh option as shown below. In this example, it lists out the files in the /pig/bin/ directory."
   ]
  },
  {
   "cell_type": "raw",
   "metadata": {},
   "source": [
    "grunt> sh ls\n",
    "   \n",
    "pig \n",
    "pig_1444799121955.log \n",
    "pig.cmd \n",
    "pig.py"
   ]
  },
  {
   "cell_type": "markdown",
   "metadata": {},
   "source": [
    "<b>fs Command</b><br>\n",
    "Using the fs command, we can invoke any FsShell commands from the Grunt shell.\n",
    "\n",
    "Syntax\n",
    "\n",
    "Given below is the syntax of fs command."
   ]
  },
  {
   "cell_type": "raw",
   "metadata": {},
   "source": [
    "grunt> sh File System command parameters"
   ]
  },
  {
   "cell_type": "markdown",
   "metadata": {},
   "source": [
    "Example\n",
    "\n",
    "We can invoke the ls command of HDFS from the Grunt shell using fs command. In the following example, it lists the files in the HDFS root directory."
   ]
  },
  {
   "cell_type": "raw",
   "metadata": {},
   "source": [
    "grunt> fs –ls\n",
    "  \n",
    "Found 3 items\n",
    "drwxrwxrwx   - Hadoop supergroup          0 2015-09-08 14:13 Hbase\n",
    "drwxr-xr-x   - Hadoop supergroup          0 2015-09-09 14:52 seqgen_data\n",
    "drwxr-xr-x   - Hadoop supergroup          0 2015-09-08 11:30 twitter_data"
   ]
  },
  {
   "cell_type": "markdown",
   "metadata": {},
   "source": [
    "In the same way, we can invoke all the other file system shell commands from the Grunt shell using the fs command."
   ]
  },
  {
   "cell_type": "markdown",
   "metadata": {},
   "source": [
    "Utility Commands\n",
    "---\n",
    "The Grunt shell provides a set of utility commands. These include utility commands such as clear, help, history, quit, and set; and commands such as exec, kill, and run to control Pig from the Grunt shell. Given below is the description of the utility commands provided by the Grunt shell.\n",
    "\n",
    "clear Command\n",
    "The clear command is used to clear the screen of the Grunt shell.\n",
    "\n",
    "Syntax\n",
    "\n",
    "You can clear the screen of the grunt shell using the clear command as shown below."
   ]
  },
  {
   "cell_type": "raw",
   "metadata": {},
   "source": [
    "grunt> clear"
   ]
  },
  {
   "cell_type": "markdown",
   "metadata": {},
   "source": [
    "<b>help Command</b><br>\n",
    "The help command gives you a list of Pig commands or Pig properties.\n",
    "\n",
    "Usage\n",
    "\n",
    "You can get a list of Pig commands using the help command as shown below."
   ]
  },
  {
   "cell_type": "raw",
   "metadata": {},
   "source": [
    "grunt> help\n",
    "\n",
    "Commands: <pig latin statement>; - See the PigLatin manual for details:\n",
    "http://hadoop.apache.org/pig\n",
    "  \n",
    "File system commands:fs <fs arguments> - Equivalent to Hadoop dfs  command:\n",
    "http://hadoop.apache.org/common/docs/current/hdfs_shell.html\n",
    "\t \n",
    "Diagnostic Commands:describe <alias>[::<alias] - Show the schema for the alias.\n",
    "Inner aliases can be described as A::B.\n",
    "    explain [-script <pigscript>] [-out <path>] [-brief] [-dot|-xml] \n",
    "       [-param <param_name>=<pCram_value>]\n",
    "       [-param_file <file_name>] [<alias>] - \n",
    "       Show the execution plan to compute the alias or for entire script.\n",
    "       -script - Explain the entire script.\n",
    "       -out - Store the output into directory rather than print to stdout.\n",
    "       -brief - Don't expand nested plans (presenting a smaller graph for overview).\n",
    "       -dot - Generate the output in .dot format. Default is text format.\n",
    "       -xml - Generate the output in .xml format. Default is text format.\n",
    "       -param <param_name - See parameter substitution for details.\n",
    "       -param_file <file_name> - See parameter substitution for details.\n",
    "       alias - Alias to explain.\n",
    "       dump <alias> - Compute the alias and writes the results to stdout.\n",
    "\n",
    "Utility Commands: exec [-param <param_name>=param_value] [-param_file <file_name>] <script> -\n",
    "       Execute the script with access to grunt environment including aliases.\n",
    "       -param <param_name - See parameter substitution for details.\n",
    "       -param_file <file_name> - See parameter substitution for details.\n",
    "       script - Script to be executed.\n",
    "    run [-param <param_name>=param_value] [-param_file <file_name>] <script> -\n",
    "       Execute the script with access to grunt environment.\n",
    "\t\t -param <param_name - See parameter substitution for details.         \n",
    "       -param_file <file_name> - See parameter substitution for details.\n",
    "       script - Script to be executed.\n",
    "    sh  <shell command> - Invoke a shell command.\n",
    "    kill <job_id> - Kill the hadoop job specified by the hadoop job id.\n",
    "    set <key> <value> - Provide execution parameters to Pig. Keys and values are case sensitive.\n",
    "       The following keys are supported:\n",
    "       default_parallel - Script-level reduce parallelism. Basic input size heuristics used \n",
    "       by default.\n",
    "       debug - Set debug on or off. Default is off.\n",
    "       job.name - Single-quoted name for jobs. Default is PigLatin:<script name>     \n",
    "       job.priority - Priority for jobs. Values: very_low, low, normal, high, very_high.\n",
    "       Default is normal stream.skippath - String that contains the path.\n",
    "       This is used by streaming any hadoop property.\n",
    "    help - Display this message.\n",
    "    history [-n] - Display the list statements in cache.\n",
    "       -n Hide line numbers.\n",
    "    quit - Quit the grunt shell. "
   ]
  },
  {
   "cell_type": "markdown",
   "metadata": {},
   "source": [
    "<b>history Command</b><br>\n",
    "This command displays a list of statements executed / used so far since the Grunt sell is invoked.\n",
    "\n",
    "Usage\n",
    "\n",
    "Assume we have executed three statements since opening the Grunt shell."
   ]
  },
  {
   "cell_type": "raw",
   "metadata": {},
   "source": [
    "grunt> customers = LOAD 'hdfs://localhost:9000/pig_data/customers.txt' USING PigStorage(',');\n",
    " \n",
    "grunt> orders = LOAD 'hdfs://localhost:9000/pig_data/orders.txt' USING PigStorage(',');\n",
    " \n",
    "grunt> student = LOAD 'hdfs://localhost:9000/pig_data/student.txt' USING PigStorage(',');"
   ]
  },
  {
   "cell_type": "markdown",
   "metadata": {},
   "source": [
    "Then, using the history command will produce the following output."
   ]
  },
  {
   "cell_type": "raw",
   "metadata": {},
   "source": [
    "grunt> history\n",
    "\n",
    "customers = LOAD 'hdfs://localhost:9000/pig_data/customers.txt' USING PigStorage(','); \n",
    "  \n",
    "orders = LOAD 'hdfs://localhost:9000/pig_data/orders.txt' USING PigStorage(',');\n",
    "   \n",
    "student = LOAD 'hdfs://localhost:9000/pig_data/student.txt' USING PigStorage(',');"
   ]
  },
  {
   "cell_type": "markdown",
   "metadata": {},
   "source": [
    "<b>set Command</b><br>\n",
    "The set command is used to show/assign values to keys used in Pig.\n",
    "\n",
    "Usage\n",
    "\n",
    "Using this command, you can set values to the following keys."
   ]
  },
  {
   "cell_type": "markdown",
   "metadata": {},
   "source": [
    "<table class=\"table table-bordered\">\n",
    "<tr>\n",
    "<th style=\"text-align:center;\">Key</th>\n",
    "<th style=\"text-align:center;\">Description and values</th>\n",
    "</tr>\n",
    "<tr>\n",
    "<td><b>default_parallel</b></td>\n",
    "<td>You can set the number of reducers for a map job by passing any whole number as a value to this key.</td>\n",
    "</tr>\n",
    "<tr>\n",
    "<td><b>debug</b></td>\n",
    "<td>You can turn off or turn on the debugging freature in Pig by passing on/off to this key.</td>\n",
    "</tr>\n",
    "<tr>\n",
    "<td><b>job.name</b></td>\n",
    "<td>You can set the Job name to the required job by passing a string value to this key.</td>\n",
    "</tr>\n",
    "<tr>\n",
    "<td><b>job.priority</b></td>\n",
    "<td><p>You can set the job priority to a job by passing one of the following values to this key &minus;</p>\n",
    "<ul class=\"list\">\n",
    "<li>very_low</li>\n",
    "<li>low</li>\n",
    "<li>normal</li>\n",
    "<li>high</li>\n",
    "<li>very_high</li>\n",
    "</ul>\n",
    "</td>\n",
    "</tr>\n",
    "<tr>\n",
    "<td><b>stream.skippath</b></td>\n",
    "<td>For streaming, you can set the path from where the data is not to be transferred, by passing the desired path in the form of a string to this key.</td>\n",
    "</tr>\n",
    "</table>"
   ]
  },
  {
   "cell_type": "markdown",
   "metadata": {},
   "source": [
    "<b>quit Command</b><br>\n",
    "You can quit from the Grunt shell using this command.\n",
    "\n",
    "Usage\n",
    "\n",
    "Quit from the Grunt shell as shown below."
   ]
  },
  {
   "cell_type": "raw",
   "metadata": {},
   "source": [
    "grunt> quit"
   ]
  },
  {
   "cell_type": "markdown",
   "metadata": {},
   "source": [
    "Let us now take a look at the commands using which you can control Apache Pig from the Grunt shell.\n",
    "\n",
    "<b>exec Command</b><br>\n",
    "Using the exec command, we can execute Pig scripts from the Grunt shell.\n",
    "\n",
    "Syntax\n",
    "\n",
    "Given below is the syntax of the utility command exec."
   ]
  },
  {
   "cell_type": "raw",
   "metadata": {},
   "source": [
    "grunt> exec [–param param_name = param_value] [–param_file file_name] [script]"
   ]
  },
  {
   "cell_type": "markdown",
   "metadata": {},
   "source": [
    "Example\n",
    "\n",
    "Let us assume there is a file named student.txt in the /pig_data/ directory of HDFS with the following content.\n",
    "\n",
    "<b>students.txt</b>"
   ]
  },
  {
   "cell_type": "raw",
   "metadata": {},
   "source": [
    "001,Rajiv,Hyderabad\n",
    "002,siddarth,Kolkata\n",
    "003,Rajesh,Delhi"
   ]
  },
  {
   "cell_type": "markdown",
   "metadata": {},
   "source": [
    "And, assume we have a script file named sample_script.pig in the /pig_data/ directory of HDFS with the following content.\n",
    "\n",
    "<b>sample_script.pig</b>"
   ]
  },
  {
   "cell_type": "raw",
   "metadata": {},
   "source": [
    "student = LOAD 'hdfs://localhost:9000/pig_data/student.txt' USING PigStorage(',') \n",
    "   as (id:int,name:chararray,city:chararray);\n",
    "  \n",
    "Dump student;"
   ]
  },
  {
   "cell_type": "markdown",
   "metadata": {},
   "source": [
    "Now, let us execute the above script from the Grunt shell using the exec command as shown below."
   ]
  },
  {
   "cell_type": "raw",
   "metadata": {},
   "source": [
    "grunt> exec /sample_script.pig"
   ]
  },
  {
   "cell_type": "markdown",
   "metadata": {},
   "source": [
    "<b>Output</b><br>\n",
    "\n",
    "The exec command executes the script in the sample_script.pig. As directed in the script, it loads the student.txt file into Pig and gives you the result of the Dump operator displaying the following content."
   ]
  },
  {
   "cell_type": "raw",
   "metadata": {},
   "source": [
    "(1,Rajiv,Hyderabad)\n",
    "(2,siddarth,Kolkata)\n",
    "(3,Rajesh,Delhi) "
   ]
  },
  {
   "cell_type": "markdown",
   "metadata": {},
   "source": [
    "<b>kill Command</b><br>\n",
    "You can kill a job from the Grunt shell using this command.\n",
    "\n",
    "Syntax\n",
    "\n",
    "Given below is the syntax of the kill command."
   ]
  },
  {
   "cell_type": "raw",
   "metadata": {},
   "source": [
    "grunt> kill JobId"
   ]
  },
  {
   "cell_type": "markdown",
   "metadata": {},
   "source": [
    "Example\n",
    "\n",
    "Suppose there is a running Pig job having id Id_0055, you can kill it from the Grunt shell using the kill command, as shown below."
   ]
  },
  {
   "cell_type": "raw",
   "metadata": {},
   "source": [
    "grunt> kill Id_0055"
   ]
  },
  {
   "cell_type": "markdown",
   "metadata": {},
   "source": [
    "<b>run Command</b><br>\n",
    "You can run a Pig script from the Grunt shell using the run command\n",
    "\n",
    "Syntax\n",
    "\n",
    "Given below is the syntax of the run command."
   ]
  },
  {
   "cell_type": "raw",
   "metadata": {},
   "source": [
    "grunt> run [–param param_name = param_value] [–param_file file_name] script"
   ]
  },
  {
   "cell_type": "markdown",
   "metadata": {},
   "source": [
    "Example\n",
    "\n",
    "Let us assume there is a file named student.txt in the /pig_data/ directory of HDFS with the following content.\n",
    "\n",
    "<b>Student.txt</b>"
   ]
  },
  {
   "cell_type": "raw",
   "metadata": {},
   "source": [
    "001,Rajiv,Hyderabad\n",
    "002,siddarth,Kolkata\n",
    "003,Rajesh,Delhi"
   ]
  },
  {
   "cell_type": "markdown",
   "metadata": {},
   "source": [
    "And, assume we have a script file named sample_script.pig in the local filesystem with the following content.\n",
    "\n",
    "<b>Sample_script.pig</b>"
   ]
  },
  {
   "cell_type": "raw",
   "metadata": {},
   "source": [
    "student = LOAD 'hdfs://localhost:9000/pig_data/student.txt' USING\n",
    "   PigStorage(',') as (id:int,name:chararray,city:chararray);"
   ]
  },
  {
   "cell_type": "markdown",
   "metadata": {},
   "source": [
    "Now, let us run the above script from the Grunt shell using the run command as shown below."
   ]
  },
  {
   "cell_type": "raw",
   "metadata": {},
   "source": [
    "grunt> run /sample_script.pig"
   ]
  },
  {
   "cell_type": "markdown",
   "metadata": {},
   "source": [
    "Output"
   ]
  },
  {
   "cell_type": "raw",
   "metadata": {},
   "source": [
    "grunt> Dump;\n",
    "\n",
    "(1,Rajiv,Hyderabad)\n",
    "(2,siddarth,Kolkata)\n",
    "(3,Rajesh,Delhi)"
   ]
  },
  {
   "cell_type": "markdown",
   "metadata": {},
   "source": [
    "Note − The difference between exec and the run command is that if we use run, the statements from the script are available in the command history."
   ]
  },
  {
   "cell_type": "code",
   "execution_count": null,
   "metadata": {
    "collapsed": true
   },
   "outputs": [],
   "source": []
  }
 ],
 "metadata": {
  "kernelspec": {
   "display_name": "Python [Root]",
   "language": "python",
   "name": "Python [Root]"
  },
  "language_info": {
   "codemirror_mode": {
    "name": "ipython",
    "version": 3
   },
   "file_extension": ".py",
   "mimetype": "text/x-python",
   "name": "python",
   "nbconvert_exporter": "python",
   "pygments_lexer": "ipython3",
   "version": "3.5.1"
  }
 },
 "nbformat": 4,
 "nbformat_minor": 0
}
