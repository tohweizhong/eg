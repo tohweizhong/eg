{
 "cells": [
  {
   "cell_type": "markdown",
   "metadata": {},
   "source": [
    "# Introduction to Machine Learning & Other Examples using Python"
   ]
  },
  {
   "cell_type": "markdown",
   "metadata": {},
   "source": [
    "Mastering Python for Machine Learning\n",
    "---"
   ]
  },
  {
   "cell_type": "markdown",
   "metadata": {},
   "source": [
    "<b>Step 1: Basic Python Skills</b>\n",
    "\n",
    "If we intend to leverage Python in order to perform machine learning, having some base understanding of Python is crucial. Fortunately, due to its widespread popularity as a general purpose programming language, as well as its adoption in both scientific computing and machine learning, coming across beginner's tutorials is not very difficult. Your level of experience in both Python and programming in general are crucial to choosing a starting point. \n",
    "\n",
    "First, you need Python installed. Since we will be using scientific computing and machine learning packages at some point, I suggest that you install Anaconda. It is an industrial-strength Python implementation for Linux, OSX, and Windows, complete with the required packages for machine learning, including numpy, scikit-learn, and matplotlib. It also includes iPython Notebook, an interactive environment for many of our tutorials. I would suggest Python 2.7, for no other reason than it is still the dominant installed version. \n",
    "\n",
    "learn-pythonIf you have no knowledge of programming, my suggestion is to start with the following free online book, then move on to the subsequent materials: \n",
    "\n",
    "- Python The Hard Way by Zed A. Shaw \n",
    "\n",
    "If you have experience in programming but not with Python in particular, or if your Python is elementary, I would suggest one or both of the following: \n",
    "\n",
    "- Google Developers Python Course (highly recommended for visual learners) \n",
    "\n",
    "- An Introduction to Python for Scientific Computing (from UCSB Engineering) by M. Scott Shell (a great scientific Python intro ~60 pages) \n",
    "\n",
    "And for those looking for a 30 minute crash course in Python, here you go: \n",
    "\n",
    "- Learn X in Y Minutes (X = Python) \n",
    "\n",
    "Of course, if you are an experienced Python programmer you will be able to skip this step. Even if so, I suggest keeping the very readable Python documentation handy. \n"
   ]
  },
  {
   "cell_type": "markdown",
   "metadata": {},
   "source": [
    "<b>Step 2: Foundational Machine Learning Skills</b>\n",
    "\n",
    "KDnuggets' own Zachary Lipton has pointed out that there is a lot of variation in what people consider a \"data scientist.\" This actually is a reflection of the field of machine learning, since much of what data scientists do involves using machine learning algorithms to varying degrees. Is it necessary to intimately understand kernel methods in order to efficiently create and gain insight from a support vector machine model? Of course not. Like almost anything in life, required depth of theoretical understanding is relative to practical application. Gaining an intimate understanding of machine learning algorithms is beyond the scope of this article, and generally requires substantial amounts of time investment in a more academic setting, or via intense self-study at the very least. \n",
    "\n",
    "The good news is that you don't need to possess a PhD-level understanding of the theoretical aspects of machine learning in order to practice, in the same manner that not all programmers require a theoretical computer science education in order to be effective coders. \n",
    "\n",
    "Andrew Ng's Coursera course often gets rave reviews for its content; my suggestion, however, is to browse the course notes compiled by a former student of the online course's previous incarnation. Skip over the Octave-specific notes (a Matlab-like language unrelated to our Python pursuits). Be warned that these are not \"official\" notes, but do seem to capture the relevant content from Andrew's course material. Of course, if you have the time and interest, now would be the time to take Andrew Ng's Machine Learning course on Coursera. \n",
    "\n",
    "- Unofficial Andrew Ng course notes \n",
    "\n",
    "There all sorts of video lectures out there if you prefer, alongside Ng's course mentioned above. I'm a fan of Tom Mitchell, so here's a link to his recent lecture videos (along with Maria-Florina Balcan), which I find particularly approachable: \n",
    "\n",
    "- Tom Mitchell Machine Learning Lectures \n",
    "\n",
    "You don't need all of the notes and videos at this point. A valid strategy involves moving forward to particular exercises below, and referencing applicable sections of the above notes and videos when appropriate. For example, when you come across an exercise implementing a regression model below, read the appropriate regression section of Ng's notes and/or view Mitchell's regression videos at that time. \n"
   ]
  },
  {
   "cell_type": "markdown",
   "metadata": {},
   "source": [
    "<b>Step 3: Scientific Python Packages Overview</b>\n",
    "\n",
    "Alright. We have a handle on Python programming and understand a bit about machine learning. Beyond Python there are a number of open source libraries generally used to facilitate practical machine learning. In general, these are the main so-called scientific Python libraries we put to use when performing elementary machine learning tasks (there is clearly subjectivity in this): \n",
    "\n",
    "- numpy - mainly useful for its N-dimensional array objects \n",
    "- pandas - Python data analysis library, including structures such as dataframes \n",
    "- matplotlib - 2D plotting library producing publication quality figures \n",
    "- scikit-learn - the machine learning algorithms used for data analysis and data mining tasks \n",
    "\n",
    "A good approach to learning these is to cover this material: \n",
    "\n",
    "- Scipy Lecture Notes by Gaël Varoquaux, Emmanuelle Gouillart, and Olav Vahtras \n",
    "\n",
    "This pandas tutorial is good, and to the point: \n",
    "\n",
    "- 10 Minutes to Pandas \n",
    "\n",
    "You will see some other packages in the tutorials below, including, for example, Seaborn, which is a data visualization library based on matplotlib. The aforementioned packages are (again, subjectively) the core of a wide array of machine learning tasks in Python; however, understanding them should let you adapt to additional and related packages without confusion when they are referenced in the following tutorials. "
   ]
  },
  {
   "cell_type": "markdown",
   "metadata": {},
   "source": [
    "<b>Step 4. Getting Started with Scikit-Learn</b><br>\n",
    "\n",
    "The time has come. Let's start implementing machine learning algorithms with Python's de facto standard machine learning library, scikit-learn. "
   ]
  },
  {
   "cell_type": "markdown",
   "metadata": {},
   "source": [
    "![caption](files/scikit-learn-flow-chart.jpg)"
   ]
  },
  {
   "cell_type": "markdown",
   "metadata": {},
   "source": [
    "Many of the following tutorials and exercises will be driven by the iPython (Jupyter) Notebook, which is an interactive environment for executing Python. These iPython notebooks can optionally be viewed online or downloaded and interacted with locally on your own computer. \n",
    "\n",
    "- iPython Notebook Overview from Stanford \n",
    "\n",
    "Also note that the tutorials below are from a number of online sources. All Notebooks have been attributed to the authors; if, for some reason, you find that someone has not been properly credited for their work, please let me know and the situation will be rectified ASAP. In particular, I would like to tip my hat to Jake VanderPlas, Randal Olson, Donne Martin, Kevin Markham, and Colin Raffel for their fantastic freely-available resources. \n",
    "\n",
    "Our first tutorials for getting our feet wet with scikit-learn follow. I suggest doing all of these in order before moving to the following steps. \n",
    "\n",
    "A general introduction to scikit-learn, Python's most-used general purpose machine learning library, covering the k-nearest neighbors algorithm: \n",
    "\n",
    "- An Introduction to scikit-learn by Jake VanderPlas \n",
    "\n",
    "A more in-depth and expanded introduction, including a starter project with a well-known dataset from start to finish: \n",
    "\n",
    "- Example Machine Learning Notebook by Randal Olson \n",
    "\n",
    "A focus on strategies for evaluating different models in scikit-learn, covering train/test dataset splits: \n",
    "\n",
    "- Model Evaluation by Kevin Markham "
   ]
  },
  {
   "cell_type": "markdown",
   "metadata": {},
   "source": [
    "<b>Step 5: Machine Learning Topics with Python</b>\n",
    "\n",
    "With a foundation having been laid in scikit-learn, we can move on to some more in-depth explorations of the various common, and useful, algorithms. We start with k-means clustering, one of the most well-known machine learning algorithms. It is a simple and often effective method for solving unsupervised learning problems: \n",
    "\n",
    "- k-means Clustering by Jake VanderPlas \n",
    "\n",
    "Next, we move back toward classification, and take a look at one of the most historically popular classification methods: \n",
    "\n",
    "- Decision Trees via The Grimm Scientist \n",
    "\n",
    "From classification, we look at continuous numeric prediction: \n",
    "\n",
    "- Linear Regression by Jake VanderPlas \n",
    "\n",
    "We can then leverage regression for classification problems, via logistic regression: \n",
    "\n",
    "- Logistic Regression by Kevin Markham "
   ]
  },
  {
   "cell_type": "markdown",
   "metadata": {},
   "source": [
    "<b>Step 6: Advanced Machine Learning Topics with Python</b>\n",
    "\n",
    "We've gotten our feet wet with scikit-learn, and now we turn our attention to some more advanced topics. First up are support vector machines, a not-necessarily-linear classifier relying on complex transformations of data into higher dimensional space. \n",
    "\n",
    "- Support Vector Machines by Jake VanderPlas \n",
    "\n",
    "Next, random forests, an ensemble classifier, are examined via a Kaggle Titanic Competition walk-through: \n",
    "\n",
    "- Kaggle Titanic Competition (with Random Forests) by Donne Martin \n",
    "\n",
    "Dimensionality reduction is a method for reducing the number of variables being considered in a problem. Principal Component Analysis is a particular form of unsupervised dimensionality reduction: \n",
    "\n",
    "- Dimensionality Reduction by Jake VanderPlas \n",
    " \n",
    "Using Python and its machine learning libraries, we have covered some of the most common and well-known machine learning algorithms (k-nearest neighbors, k-means clustering, support vector machines), investigated a powerful ensemble technique (random forests), and examined some additional machine learning support tasks (dimensionality reduction, model validation techniques). Along with some foundational machine learning skills, we have started filling a useful toolkit for ourselves. "
   ]
  },
  {
   "cell_type": "markdown",
   "metadata": {},
   "source": [
    "<b>Step 7. Deep Learning in Python</b>\n",
    "\n",
    "![caption](files/deep-learning.png)\n",
    "\n",
    "Deep learning builds on neural network research going back several decades, but recent advances dating to the past several years have dramatically increased the perceived power of, and general interest in, deep neural networks. If you are unfamiliar with deep learning, KDnuggets has many articles detailing the numerous recent innovations, accomplishments, and accolades of the technology. \n",
    "\n",
    "This final step does not purport to be a deep learning clinic of any sort; we will take a look at a few simple network implementations in 2 of the leading contemporary Python deep learning libraries. For those interested in digging deeper into deep learning, I recommend starting with the following free online book: \n",
    "\n",
    "- Neural Networks and Deep Learning by Michael Nielsen \n",
    "\n",
    "<b>Theano</b>\n",
    "\n",
    "Theano is the first Python deep learning library we will look at. From the authors: \n",
    "\n",
    "Theano is a Python library that allows you to define, optimize, and evaluate mathematical expressions involving multi-dimensional arrays efficiently.\n",
    "\n",
    "The following introductory tutorial on deep learning in Theano is lengthy, but it is quite good, very descriptive, and heavily-commented: \n",
    "\n",
    "- Theano Deep Learning Tutorial by Colin Raffel \n",
    "\n",
    "<b>Caffe</b>\n",
    "\n",
    "The other library we will test drive is Caffe. Again, from the authors: \n",
    "\n",
    "Caffe is a deep learning framework made with expression, speed, and modularity in mind. It is developed by the Berkeley Vision and Learning Center (BVLC) and by community contributors.\n",
    "\n",
    "This tutorial is the cherry on the top of this article. While we have undertaken a few interesting examples above, none likely compete with the following, which is implementing Google's #DeepDream using Caffe. Enjoy this one! After understanding the tutorial, play around with it to get your processors dreaming on their own. \n",
    "\n",
    "- Dreaming Deep with Caffe via Google's GitHub "
   ]
  },
  {
   "cell_type": "markdown",
   "metadata": {},
   "source": [
    "Exercises\n",
    "---\n",
    "1. [Machine Learning](http://localhost:8888/notebooks/Globe/execution/machine_learning/example-data-science-notebook/00.ipynb)\n",
    "2. [Optimal Road Trip](http://localhost:8888/tree/Globe/execution/machine_learning/optimal-road-trip/00.ipynb)\n",
    "3. [Optimal Road Trip on a Budget](http://localhost:8888/tree/Globe/execution/machine_learning/pareto-optimized-road-trip/00.ipynb)\n",
    "4. [Bachelors Degrees Conferred By Women](http://localhost:8888/tree/Globe/execution/machine_learning/pct-bachelors-degrees-conferred-women-usa/00.ipynb)\n",
    "5. [Population Pyramid](http://localhost:8888/tree/Globe/execution/machine_learning/rethinking-population-pyramid/00.ipynb)\n",
    "6. [Vaccine Visualization](http://localhost:8888/tree/Globe/execution/machine_learning/revisiting-vaccine-visualizations/00.ipynb)\n",
    "7. [US Weather History](http://localhost:8888/tree/Globe/execution/machine_learning/us-weather-history/00.ipynb)\n",
    "8. [Automating Data Science](http://localhost:8888/tree/Globe/execution/machine_learning/automating-data-science/00.ipynb)"
   ]
  },
  {
   "cell_type": "code",
   "execution_count": null,
   "metadata": {
    "collapsed": true
   },
   "outputs": [],
   "source": []
  }
 ],
 "metadata": {
  "kernelspec": {
   "display_name": "Python [Root]",
   "language": "python",
   "name": "Python [Root]"
  },
  "language_info": {
   "codemirror_mode": {
    "name": "ipython",
    "version": 3
   },
   "file_extension": ".py",
   "mimetype": "text/x-python",
   "name": "python",
   "nbconvert_exporter": "python",
   "pygments_lexer": "ipython3",
   "version": "3.5.1"
  }
 },
 "nbformat": 4,
 "nbformat_minor": 0
}
