{
 "cells": [
  {
   "cell_type": "markdown",
   "metadata": {},
   "source": [
    "# Getting Started with Julia"
   ]
  },
  {
   "cell_type": "markdown",
   "metadata": {},
   "source": [
    "Start Julia either by\n",
    "\n",
    "- navigating to Julia through your menus or desktop icons (Windows, OSX), or\n",
    "- opening a terminal / command prompt and typing julia (Linux)"
   ]
  },
  {
   "cell_type": "markdown",
   "metadata": {},
   "source": [
    "![caption](files/julia_term_1.png)"
   ]
  },
  {
   "cell_type": "markdown",
   "metadata": {},
   "source": [
    "The program that’s running here is called the Julia REPL (Read Eval Print Loop) or Julia interpreter."
   ]
  },
  {
   "cell_type": "markdown",
   "metadata": {},
   "source": [
    "Basic Commands\n",
    "---"
   ]
  },
  {
   "cell_type": "code",
   "execution_count": 2,
   "metadata": {
    "collapsed": false
   },
   "outputs": [
    {
     "data": {
      "text/plain": [
       "10"
      ]
     },
     "execution_count": 2,
     "metadata": {},
     "output_type": "execute_result"
    }
   ],
   "source": [
    "x = 10"
   ]
  },
  {
   "cell_type": "code",
   "execution_count": 3,
   "metadata": {
    "collapsed": false
   },
   "outputs": [
    {
     "data": {
      "text/plain": [
       "20"
      ]
     },
     "execution_count": 3,
     "metadata": {},
     "output_type": "execute_result"
    }
   ],
   "source": [
    "2 * x"
   ]
  },
  {
   "cell_type": "markdown",
   "metadata": {},
   "source": [
    "The Julia intepreter has the kind of nice features you expect from a modern REPL\n",
    "\n",
    "For example,\n",
    "\n",
    "- Pushing the up arrow key retrieves the previously typed command\n",
    "- If you type ? the prompt will change to help?> and give you access to online documentation"
   ]
  },
  {
   "cell_type": "markdown",
   "metadata": {},
   "source": [
    "You can also type ; to get a shell prompt, at which you can enter shell commands"
   ]
  },
  {
   "cell_type": "markdown",
   "metadata": {},
   "source": [
    "![caption](files/julia_term_4.png)"
   ]
  },
  {
   "cell_type": "markdown",
   "metadata": {},
   "source": [
    "Installing Packages\n",
    "---\n",
    "\n",
    "Julia includes many useful tools in the base installation however to load external Julia code libraries you have to use Julia's package management system. \n",
    "\n",
    "For example, let’s install DataFrames, which provides useful functions and data types for manipulating data sets."
   ]
  },
  {
   "cell_type": "raw",
   "metadata": {},
   "source": [
    "julia> Pkg.add(\"DataFrames\")"
   ]
  },
  {
   "cell_type": "markdown",
   "metadata": {},
   "source": [
    "Assuming you have a working Internet connection this should install the DataFrames package\n",
    "\n",
    "If you now type Pkg.status() you’ll see DataFrames and its version number\n",
    "\n",
    "To pull the functionality from DataFrames into the current session we type using DataFrames"
   ]
  },
  {
   "cell_type": "raw",
   "metadata": {},
   "source": [
    "julia> Pkg.status()"
   ]
  },
  {
   "cell_type": "markdown",
   "metadata": {},
   "source": [
    "To update your installed packages and also update local information on the set of available packages."
   ]
  },
  {
   "cell_type": "raw",
   "metadata": {},
   "source": [
    "julia> Pkg.update()"
   ]
  },
  {
   "cell_type": "raw",
   "metadata": {},
   "source": [
    "julia> df = DataFrame(x1=[1, 2], x2=[\"foo\", \"bar\"])\n",
    "2x2 DataFrame\n",
    "| Row | x1 | x2    |\n",
    "|-----|----|-------|\n",
    "| 1   | 1  | \"foo\" |\n",
    "| 2   | 2  | \"bar\" |"
   ]
  },
  {
   "cell_type": "markdown",
   "metadata": {},
   "source": [
    "Running Julia Scripts\n",
    "---\n",
    "\n",
    "Julia programs (or “scripts”) are text files containing Julia code, typically with the file extension .jl\n",
    "\n",
    "Suppose we have a Julia script called <b>test_script.jl</b> that we wish to run.\n",
    "\n",
    "The contents of the file is as follows -"
   ]
  },
  {
   "cell_type": "code",
   "execution_count": 8,
   "metadata": {
    "collapsed": false
   },
   "outputs": [
    {
     "name": "stdout",
     "output_type": "stream",
     "text": [
      "i = 1\n",
      "i = 2\n",
      "i = 3\n"
     ]
    }
   ],
   "source": [
    "for i in 1:3\n",
    "    println(\"i = $i\")\n",
    "end"
   ]
  },
  {
   "cell_type": "markdown",
   "metadata": {},
   "source": [
    "If that file exists in the present working directory we can run it with include(\"test_script.jl\")\n",
    "\n",
    "Here’s an example, where test_script.jl sits in directory /home/john/temp"
   ]
  },
  {
   "cell_type": "code",
   "execution_count": 9,
   "metadata": {
    "collapsed": false
   },
   "outputs": [
    {
     "data": {
      "text/plain": [
       "\"/Users/garjac/Globe/datascience/julia\""
      ]
     },
     "execution_count": 9,
     "metadata": {},
     "output_type": "execute_result"
    }
   ],
   "source": [
    "pwd()"
   ]
  },
  {
   "cell_type": "raw",
   "metadata": {},
   "source": [
    "julia> pwd()\n",
    "\"/home/john/temp\"\n",
    "\n",
    "julia> include(\"test_script.jl\")\n",
    "i = 1\n",
    "i = 2\n",
    "i = 3"
   ]
  },
  {
   "cell_type": "markdown",
   "metadata": {},
   "source": [
    "If the file is not in your pwd you can run it by giving the full path — in the present case"
   ]
  },
  {
   "cell_type": "raw",
   "metadata": {},
   "source": [
    "julia> include(\"/home/john/temp/test_script.jl\")"
   ]
  },
  {
   "cell_type": "markdown",
   "metadata": {},
   "source": [
    "Alternatively you can change your pwd to the location of the script"
   ]
  },
  {
   "cell_type": "raw",
   "metadata": {},
   "source": [
    "julia> cd(\"/home/john/temp\")"
   ]
  }
 ],
 "metadata": {
  "anaconda-cloud": {},
  "kernelspec": {
   "display_name": "Julia 0.4.6",
   "language": "julia",
   "name": "julia-0.4"
  },
  "language_info": {
   "file_extension": ".jl",
   "mimetype": "application/julia",
   "name": "julia",
   "version": "0.4.6"
  }
 },
 "nbformat": 4,
 "nbformat_minor": 0
}
