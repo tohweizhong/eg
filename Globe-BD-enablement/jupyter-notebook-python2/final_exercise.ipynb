{
 "cells": [
  {
   "cell_type": "markdown",
   "metadata": {},
   "source": [
    "# Final Exercise"
   ]
  },
  {
   "cell_type": "markdown",
   "metadata": {},
   "source": [
    "Write a program that does the following -\n",
    "\n",
    "- Input a station name and list all MRT station names per color line (yellow, blue, purple) \n",
    "- Input a name (including your own) that shows what MRT station which is closer to your home\n",
    "- Input a name (including your own) that shows all MRT stops from Boni to your home station"
   ]
  },
  {
   "cell_type": "code",
   "execution_count": null,
   "metadata": {
    "collapsed": true
   },
   "outputs": [],
   "source": [
    "# Static\n",
    "# Creates list of stations\n",
    "\n",
    "yellow = ['Baclaran',\n",
    "          'EDSA',\n",
    "          'Libertad',\n",
    "          'Gil Puyat',\n",
    "          'Vito Cruz',\n",
    "          'Quirico Avenue',\n",
    "          'Pedro Gil',\n",
    "          'United Nations',\n",
    "          'Central Terminal',\n",
    "          'Cariedo',\n",
    "          'Doroteo Jose',\n",
    "          'Bambang',\n",
    "          'Tayuman',\n",
    "          'Blumentritt',\n",
    "          'Abad Santos',\n",
    "          'R. Papa',\n",
    "          '5th Avenue',\n",
    "          'Monumento',\n",
    "          'Malvar',\n",
    "          'Balintawak',\n",
    "          'Roosevelt',\n",
    "          'North Avenue']   \n",
    "        \n",
    "print(\"\\nAll stations for the YELLOW LINE:\\n\")\n",
    "for index, yellow_station in enumerate(yellow):\n",
    "    stops = str(index)\n",
    "    print(\"Station \" + stops + \": \" + yellow_station.title())\n",
    "    "
   ]
  },
  {
   "cell_type": "code",
   "execution_count": null,
   "metadata": {
    "collapsed": true
   },
   "outputs": [],
   "source": [
    "# Dynamic\n",
    "# Create an empty list to hold stations.\n",
    "\n",
    "yellow_line = []\n",
    "\n",
    "# Add Stations to the Line\n",
    "yellow_line.append('Baclaran')\n",
    "yellow_line.append('EDSA')\n",
    "yellow_line.append('Libertad')\n",
    "yellow_line.append('Gil Puyat')      \n",
    "yellow_line.append('Vito Cruz')\n",
    "yellow_line.append('Quirico Avenue')\n",
    "yellow_line.append('Pedro Gil')\n",
    "yellow_line.append('United Nations')\n",
    "yellow_line.append('Central Terminal')\n",
    "yellow_line.append('Cariedo')\n",
    "yellow_line.append('Doroteo Jose')\n",
    "yellow_line.append('Bambang')\n",
    "yellow_line.append('Tayuman')\n",
    "yellow_line.append('Blumentritt')\n",
    "yellow_line.append('Abad Santos')\n",
    "yellow_line.append('R. Papa')\n",
    "yellow_line.append('5th Avenue')\n",
    "yellow_line.append('Monumento')\n",
    "yellow_line.append('Malvar')\n",
    "yellow_line.append('Balintawak')\n",
    "yellow_line.append('Roosevelt')\n",
    "yellow_line.append('North Avenue')\n",
    "\n",
    "# List all of our stations.\n",
    "for index, yellow_line_station in enumerate(yellow_line):\n",
    "    stops = str(index)\n",
    "    print(\"Station \" + stops + \": \" + yellow_line_station.title())"
   ]
  },
  {
   "cell_type": "code",
   "execution_count": null,
   "metadata": {
    "collapsed": true
   },
   "outputs": [],
   "source": [
    "# Dynamic\n",
    "# Creates function to list stations\n",
    "\n",
    "def pick_station(color, station, stop):\n",
    "    # This function takes in a person's first and last name,\n",
    "    #  and their age.\n",
    "    # It then prints this information out in a simple format.\n",
    "    print(\"Station Color: %s\" % color.title())\n",
    "    print(\"Station Name: %s\" % station.title())\n",
    "    print(\"Number Stop: %d\\n\" % stop)\n",
    "      \n",
    "pick_station(color='Yellow', station='Baclaran', stop=1)\n",
    "pick_station(color='Yellow', station='EDSA', stop=2)\n",
    "pick_station(color='Yellow', station='Libertad', stop=3)\n",
    "pick_station(color='Yellow', station='Gil Puyat', stop=4)\n",
    "pick_station(color='Yellow', station='Vito Cruz', stop=5)\n",
    "pick_station(color='Yellow', station='Quirico Avenue', stop=6)\n",
    "pick_station(color='Yellow', station='Pedro Gil', stop=7)\n",
    "pick_station(color='Yellow', station='United Nations', stop=8)\n",
    "pick_station(color='Yellow', station='Central Terminal', stop=9)\n",
    "pick_station(color='Yellow', station='Cariedo', stop=10)\n",
    "pick_station(color='Yellow', station='Doroteo Jose', stop=11)\n",
    "pick_station(color='Yellow', station='Bambang', stop=12)\n",
    "pick_station(color='Yellow', station='Tayuman', stop=13)\n",
    "pick_station(color='Yellow', station='Blumentritt', stop=14)\n",
    "pick_station(color='Yellow', station='Abad Santos', stop=15)\n",
    "pick_station(color='Yellow', station='R. Papa', stop=16)\n",
    "pick_station(color='Yellow', station='5th Avenue', stop=17)\n",
    "pick_station(color='Yellow', station='Monumento', stop=18)\n",
    "pick_station(color='Yellow', station='Malvar', stop=19)\n",
    "pick_station(color='Yellow', station='Balintawak', stop=20)\n",
    "pick_station(color='Yellow', station='Roosevelt', stop=21)\n",
    "pick_station(color='Yellow', station='North Avenue', stop=22)"
   ]
  },
  {
   "cell_type": "markdown",
   "metadata": {},
   "source": [
    "![caption](files/metro-manila.png)"
   ]
  },
  {
   "cell_type": "markdown",
   "metadata": {},
   "source": [
    "Hints About Solution Exercise\n",
    "---\n",
    "\n",
    "This program will use the following exercises -\n",
    "\n",
    "- [Introducing Lists](http://localhost:8888/notebooks/Globe/datascience/python/lists_tuples.ipynb#Introducing-Lists)\n",
    "-- Listing and Looping\n",
    "-- Enumerating a List"
   ]
  },
  {
   "cell_type": "markdown",
   "metadata": {},
   "source": [
    "Example of taking guesses\n",
    "----"
   ]
  },
  {
   "cell_type": "code",
   "execution_count": null,
   "metadata": {
    "collapsed": true
   },
   "outputs": [],
   "source": [
    "while True:\n",
    "\n",
    "    station_guess = input(\"What station: \")\n",
    "    station_guess = str(station_guess)\n",
    "\n",
    "    found_station = False\n",
    "        if station_guess == yellow_station:\n",
    "            found_station = True\n",
    "            \n",
    "    if found_station:\n",
    "        print(yellow_station)\n",
    "    else:\n",
    "        print(\"Incorrect\")"
   ]
  },
  {
   "cell_type": "code",
   "execution_count": null,
   "metadata": {
    "collapsed": true
   },
   "outputs": [],
   "source": []
  }
 ],
 "metadata": {
  "kernelspec": {
   "display_name": "Python 3",
   "language": "python",
   "name": "python3"
  },
  "language_info": {
   "codemirror_mode": {
    "name": "ipython",
    "version": 3
   },
   "file_extension": ".py",
   "mimetype": "text/x-python",
   "name": "python",
   "nbconvert_exporter": "python",
   "pygments_lexer": "ipython3",
   "version": "3.5.1"
  }
 },
 "nbformat": 4,
 "nbformat_minor": 0
}
