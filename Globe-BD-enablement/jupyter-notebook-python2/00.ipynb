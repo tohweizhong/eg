{
 "cells": [
  {
   "cell_type": "markdown",
   "metadata": {
    "collapsed": true
   },
   "source": [
    "# INTRODUCTION TO PYTHON\n",
    "---\n",
    "Introduction to Python is a resource for students who want to learn Python as their first language."
   ]
  },
  {
   "cell_type": "markdown",
   "metadata": {},
   "source": [
    "TEST DRIVE\n",
    "---\n",
    "If your computer is already set up to run Python programs, you can get started with using [Hello World](http://localhost:8888/notebooks/Globe/datascience/python/01.ipynb) - your very first Python program."
   ]
  },
  {
   "cell_type": "markdown",
   "metadata": {},
   "source": [
    "INSTALLING PYTHON DISTRIBUTION PACKAGES\n",
    "---"
   ]
  },
  {
   "cell_type": "markdown",
   "metadata": {},
   "source": [
    "The following command will install the latest version of a module and its dependencies from the [Python Packaging Index](https://pypi.python.org/pypi) and see the [highest ranked packages](http://pypi-ranking.info/alltime)"
   ]
  },
  {
   "cell_type": "raw",
   "metadata": {},
   "source": [
    "python -m pip install SomePackage"
   ]
  },
  {
   "cell_type": "markdown",
   "metadata": {},
   "source": [
    "It’s also possible to specify an exact or minimum version directly on the command line. When using comparator operators such as >, < or some other special character which get interpreted by shell, the package name and the version should be enclosed within double quotes:"
   ]
  },
  {
   "cell_type": "raw",
   "metadata": {},
   "source": [
    "python -m pip install SomePackage==1.0.4    # specific version\n",
    "python -m pip install \"SomePackage>=1.0.4\"  # minimum version"
   ]
  },
  {
   "cell_type": "markdown",
   "metadata": {},
   "source": [
    "Normally, if a suitable module is already installed, attempting to install it again will have no effect. Upgrading existing modules must be requested explicitly:"
   ]
  },
  {
   "cell_type": "raw",
   "metadata": {},
   "source": [
    "python -m pip install --upgrade SomePackage"
   ]
  },
  {
   "cell_type": "markdown",
   "metadata": {},
   "source": [
    "Top 20 Python Libraries\n",
    "---"
   ]
  },
  {
   "cell_type": "markdown",
   "metadata": {},
   "source": [
    "1. <b>Requests.</b> The most famous http library written by kenneth reitz. It’s a must have for every python developer.\n",
    "\n",
    "2. <b>Scrapy.</b> If you are involved in webscraping then this is a must have library for you. After using this library you won’t use any other.\n",
    "\n",
    "3. <b>Plotly.</b> Python plotting library for collaborative, interactive, publication-quality graphs.\n",
    "\n",
    "4. <b>Pillow.</b> A friendly fork of PIL (Python Imaging Library). It is more user friendly than PIL and is a must have for anyone who works with images.\n",
    "\n",
    "5. <b>SQLAlchemy.</b> A database library. Many love it and many hate it. The choice is yours.\n",
    "\n",
    "6. <b>BeautifulSoup.</b> I know it’s slow but this xml and html parsing library is very useful for beginners.\n",
    "\n",
    "7. <b>Twisted.</b> The most important tool for any network application developer. It has a very beautiful api and is used by a lot of famous python developers.\n",
    "\n",
    "8. <b>NumPy.</b> How can we leave this very important library ? It provides some advance math functionalities to python.\n",
    "\n",
    "9. <b>SciPy.</b> When we talk about NumPy then we have to talk about scipy. It is a library of algorithms and mathematical tools for python and has caused many scientists to switch from ruby to python.\n",
    "\n",
    "10. <b>matplotlib.</b> A numerical plotting library. It is very useful for any data scientist or any data analyzer.\n",
    "\n",
    "11. <b>Boto.</b> Boto is a Python package that provides interfaces to Amazon Web Services. \n",
    "\n",
    "12. <b>simplejson.</b> simplejson is a simple, fast, complete, correct and extensible JSON <http://json.org> encoder and decoder for Python 2.5+ and Python 3.3+.\n",
    "\n",
    "13. <b>pyQT.</b> A GUI toolkit for python. It is my second choice after wxpython for developing GUI’s for my python scripts.\n",
    "\n",
    "14. <b>pyGtk.</b> Another python GUI library. It is the same library in which the famous Bittorrent client is created.\n",
    "\n",
    "15. <b>Scapy.</b> A packet sniffer and analyzer for python made in python.\n",
    "\n",
    "16. <b>seaborn.</b> A python library which provides statistical data visualization.\n",
    "\n",
    "17. <b>nltk.</b> Natural Language Toolkit – I realize most people won’t be using this one, but it’s generic enough. It is a very useful library if you want to manipulate strings. But it’s capacity is beyond that. Do check it out.\n",
    "\n",
    "18. <b>nose.</b> A testing framework for python. It is used by millions of python developers. It is a must have if you do test driven development.\n",
    "\n",
    "19. <b>SymPy.</b> SymPy can do algebraic evaluation, differentiation, expansion, complex numbers, etc. It is contained in a pure Python distribution."
   ]
  },
  {
   "cell_type": "raw",
   "metadata": {},
   "source": [
    "python -m pip install Requests Scrapy plotly Pillow SQLAlchemy BeautifulSoup Twisted NumPy SciPy matplotlib boto simplejson pyQT pyGtk Scapy pywin32 nltk nose SymPy"
   ]
  },
  {
   "cell_type": "markdown",
   "metadata": {},
   "source": [
    "![caption](files/pip.png)"
   ]
  },
  {
   "cell_type": "markdown",
   "metadata": {},
   "source": [
    "If Packages already installed, feel free to upgrade by submitting the following command"
   ]
  },
  {
   "cell_type": "raw",
   "metadata": {},
   "source": [
    "python -m pip install Requests Scrapy wxPython Pillow SQLAlchemy BeautifulSoup Twisted NumPy SciPy matplotlib boto simplejson pyQT pyGtk Scapy pywin32 nltk nose SymPy --upgrade"
   ]
  },
  {
   "cell_type": "markdown",
   "metadata": {},
   "source": [
    "Also don't forget to upgrade PIP by issuing the following command"
   ]
  },
  {
   "cell_type": "raw",
   "metadata": {},
   "source": [
    "pip install --upgrade pip"
   ]
  },
  {
   "cell_type": "markdown",
   "metadata": {},
   "source": [
    "To list out all packages installed locally issue the following command"
   ]
  },
  {
   "cell_type": "raw",
   "metadata": {},
   "source": [
    "pip list"
   ]
  },
  {
   "cell_type": "markdown",
   "metadata": {},
   "source": [
    "To list all package versions installed locally issue the following command "
   ]
  },
  {
   "cell_type": "raw",
   "metadata": {},
   "source": [
    "pip freeze"
   ]
  },
  {
   "cell_type": "markdown",
   "metadata": {
    "collapsed": true
   },
   "source": [
    "Exercises\n",
    "---\n",
    "\n",
    "1. [Simple Code](http://localhost:8888/notebooks/Globe/datascience/python/01.ipynb)\n",
    "2. [Variables, Strings, Numbers](http://localhost:8888/notebooks/Globe/datascience/python/02.ipynb)\n",
    "3. [Lists and Tuples](http://localhost:8888/notebooks/Globe/datascience/python/03.ipynb)\n",
    "4. [Functions](http://localhost:8888/notebooks/Globe/datascience/python/04.ipynb)\n",
    "5. [If Statements](http://localhost:8888/notebooks/Globe/datascience/python/05.ipynb)\n",
    "6. [While Loops Input](http://localhost:8888/notebooks/Globe/datascience/python/06.ipynb)\n",
    "7. [Basic Terminal Apps](http://localhost:8888/notebooks/Globe/datascience/python/07.ipynb)\n",
    "8. [Dictionaries](http://localhost:8888/notebooks/Globe/datascience/python/08.ipynb)\n",
    "9. [More Functions](http://localhost:8888/notebooks/Globe/datascience/python/09.ipynb)\n",
    "10. [Classes](http://localhost:8888/notebooks/Globe/datascience/python/10.ipynb)\n",
    "11. [Error Handling](http://localhost:8888/notebooks/Globe/datascience/python/11.ipynb)\n",
    "12. [Widgets](http://localhost:8888/notebooks/Globe/datascience/python/12.ipynb)\n",
    "13. [Pandas & Seaborn](http://localhost:8888/notebooks/Globe/datascience/python/13.ipynb)\n",
    "14. [Calling C and Julia](http://localhost:8888/notebooks/Globe/datascience/python/14.ipynb)\n",
    "\n",
    "13. [FINAL EXERCISE](http://localhost:8888/notebooks/Globe/datascience/python/final_exercise.ipynb)"
   ]
  },
  {
   "cell_type": "markdown",
   "metadata": {},
   "source": [
    "Feedback\n",
    "---\n",
    "If you have any questions or comments, feel free to get in touch:\n",
    "\n",
    "Twitter: [@enterlol](https://twitter.com/enterlol)\n",
    "\n",
    "Email: garystephenjackson at gmail dot com\n",
    "\n",
    "LinkedIn: [https://hk.linkedin.com/in/gsjackson](https://hk.linkedin.com/in/gsjackson)"
   ]
  },
  {
   "cell_type": "markdown",
   "metadata": {},
   "source": [
    "About\n",
    "---\n",
    "Gary Jackson is a technologist, teacher, and data scientist. \n",
    "\n",
    "Gary brings with him nearly two decades of experiences in IT, Enterprise Architecture, and Big Data & Analytics working for and in multinational companies around the world.\n",
    "\n",
    "Gary formally was Regional Director of System Integrators (SIs) and Technology Partners for Qlik across Asia Pacific (including Japan, Australia, and New Zealand), Gary led the drive for interactive and collaborative partnerships between global and regional SIs, Business Consulting firms, and Technology Partners. These included Deloitte, KPMG, PwC, Accenture, Wipro, Cloudera, Revolution Analytics, MapR, Intel, and many others.\n",
    "\n",
    "Prior to that he was the Principal for Big Data & Analytics Growth Markets, for Computer Sciences Corporation (CSC), supporting Latin America and Asia-Pacific traveling back and forth between São Paulo, Brasil and Hong Kong. Gary has also worked for SAS Institute as Head of Technology for Asia Pacific, South Africa, Europe, and North America for more than a decade.\n",
    "\n",
    "Gary holds a Bachelor of Science in Computer Information Systems, Information Technology and Computer Information Systems from DeVry University. He is based in Hong Kong."
   ]
  }
 ],
 "metadata": {
  "kernelspec": {
   "display_name": "Python [Root]",
   "language": "python",
   "name": "Python [Root]"
  },
  "language_info": {
   "codemirror_mode": {
    "name": "ipython",
    "version": 3
   },
   "file_extension": ".py",
   "mimetype": "text/x-python",
   "name": "python",
   "nbconvert_exporter": "python",
   "pygments_lexer": "ipython3",
   "version": "3.5.1"
  }
 },
 "nbformat": 4,
 "nbformat_minor": 0
}
