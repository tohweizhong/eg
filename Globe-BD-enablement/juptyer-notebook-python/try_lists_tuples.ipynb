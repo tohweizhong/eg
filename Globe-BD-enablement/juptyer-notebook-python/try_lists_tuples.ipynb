{
 "cells": [
  {
   "cell_type": "code",
   "execution_count": 2,
   "metadata": {
    "collapsed": false
   },
   "outputs": [
    {
     "name": "stdout",
     "output_type": "stream",
     "text": [
      "Hello Bernice!\n",
      "Hello Aaron!\n",
      "Hello Cody!\n"
     ]
    }
   ],
   "source": [
    "students = ['bernice', 'aaron', 'cody']\n",
    "for one_student in students:\n",
    "    print(\"Hello \" + one_student.title() + \"!\")"
   ]
  },
  {
   "cell_type": "code",
   "execution_count": 6,
   "metadata": {
    "collapsed": false
   },
   "outputs": [
    {
     "ename": "IndexError",
     "evalue": "list index out of range",
     "output_type": "error",
     "traceback": [
      "\u001b[1;31m---------------------------------------------------------------------------\u001b[0m",
      "\u001b[1;31mIndexError\u001b[0m                                Traceback (most recent call last)",
      "\u001b[1;32m<ipython-input-6-82ea821763ee>\u001b[0m in \u001b[0;36m<module>\u001b[1;34m()\u001b[0m\n\u001b[1;32m----> 1\u001b[1;33m \u001b[0mprint\u001b[0m\u001b[1;33m(\u001b[0m\u001b[0mstudents\u001b[0m\u001b[1;33m[\u001b[0m\u001b[1;33m-\u001b[0m\u001b[1;36m4\u001b[0m\u001b[1;33m]\u001b[0m\u001b[1;33m)\u001b[0m\u001b[1;33m\u001b[0m\u001b[0m\n\u001b[0m",
      "\u001b[1;31mIndexError\u001b[0m: list index out of range"
     ]
    }
   ],
   "source": [
    "print(students[-4])"
   ]
  },
  {
   "cell_type": "code",
   "execution_count": 10,
   "metadata": {
    "collapsed": false
   },
   "outputs": [
    {
     "data": {
      "text/plain": [
       "1"
      ]
     },
     "execution_count": 10,
     "metadata": {},
     "output_type": "execute_result"
    }
   ],
   "source": [
    "students = [\"bernice\", \"aaron\", \"cody\", \"aaron\"]\n",
    "\n",
    "students.index(\"aaron\")"
   ]
  },
  {
   "cell_type": "code",
   "execution_count": 15,
   "metadata": {
    "collapsed": false
   },
   "outputs": [
    {
     "name": "stdout",
     "output_type": "stream",
     "text": [
      "0\n",
      "Place: 0 Student: Bernice\n",
      "1\n",
      "Place: 1 Student: Aaron\n",
      "2\n",
      "Place: 2 Student: Cody\n",
      "3\n",
      "Place: 3 Student: Aaron\n"
     ]
    },
    {
     "ename": "AttributeError",
     "evalue": "'enumerate' object has no attribute 'dtype'",
     "output_type": "error",
     "traceback": [
      "\u001b[1;31m---------------------------------------------------------------------------\u001b[0m",
      "\u001b[1;31mAttributeError\u001b[0m                            Traceback (most recent call last)",
      "\u001b[1;32m<ipython-input-15-065ed638cba1>\u001b[0m in \u001b[0;36m<module>\u001b[1;34m()\u001b[0m\n\u001b[0;32m      4\u001b[0m     \u001b[0mprint\u001b[0m\u001b[1;33m(\u001b[0m\u001b[1;34m\"Place: \"\u001b[0m \u001b[1;33m+\u001b[0m \u001b[0mplace\u001b[0m \u001b[1;33m+\u001b[0m \u001b[1;34m\" Student: \"\u001b[0m \u001b[1;33m+\u001b[0m \u001b[0mone_student\u001b[0m\u001b[1;33m.\u001b[0m\u001b[0mtitle\u001b[0m\u001b[1;33m(\u001b[0m\u001b[1;33m)\u001b[0m\u001b[1;33m)\u001b[0m\u001b[1;33m\u001b[0m\u001b[0m\n\u001b[0;32m      5\u001b[0m \u001b[1;33m\u001b[0m\u001b[0m\n\u001b[1;32m----> 6\u001b[1;33m \u001b[0menumerate\u001b[0m\u001b[1;33m(\u001b[0m\u001b[0mstudents\u001b[0m\u001b[1;33m)\u001b[0m\u001b[1;33m.\u001b[0m\u001b[0mdtype\u001b[0m\u001b[1;33m\u001b[0m\u001b[0m\n\u001b[0m",
      "\u001b[1;31mAttributeError\u001b[0m: 'enumerate' object has no attribute 'dtype'"
     ]
    }
   ],
   "source": [
    "for idx, one_student in enumerate(students):\n",
    "    print(idx)\n",
    "    place = str(idx)\n",
    "    print(\"Place: \" + place + \" Student: \" + one_student.title())\n",
    "    \n",
    "enumerate(students).dtype"
   ]
  },
  {
   "cell_type": "code",
   "execution_count": 27,
   "metadata": {
    "collapsed": false
   },
   "outputs": [
    {
     "name": "stdout",
     "output_type": "stream",
     "text": [
      "Alison\n",
      "Clifton\n",
      "Weizhong\n",
      "Xueshan\n",
      "Yinteng\n"
     ]
    }
   ],
   "source": [
    "sscda = []\n",
    "\n",
    "sscda.append(\"xueshan\")\n",
    "sscda.append(\"weizhong\")\n",
    "sscda.append(\"yinteng\")\n",
    "sscda.append(\"alison\")\n",
    "sscda.append(\"clifton\")\n",
    "#sscda.sort()\n",
    "\n",
    "for one_person in sorted(sscda):\n",
    "    print(one_person.title())"
   ]
  },
  {
   "cell_type": "code",
   "execution_count": 30,
   "metadata": {
    "collapsed": false
   },
   "outputs": [
    {
     "data": {
      "text/plain": [
       "['xueshan', 'weizhong']"
      ]
     },
     "execution_count": 30,
     "metadata": {},
     "output_type": "execute_result"
    }
   ],
   "source": [
    "sscda[0:2]"
   ]
  },
  {
   "cell_type": "code",
   "execution_count": 38,
   "metadata": {
    "collapsed": false
   },
   "outputs": [
    {
     "name": "stdout",
     "output_type": "stream",
     "text": [
      "['xueshan', 'weizhong', 'yinteng', 'alison', 'clifton']\n",
      "['xueshan', 'weizhong', 'yinteng', 'alison', 'clifton']\n"
     ]
    }
   ],
   "source": [
    "\n",
    "sscda = []\n",
    "\n",
    "sscda.append(\"xueshan\")\n",
    "sscda.append(\"weizhong\")\n",
    "sscda.append(\"yinteng\")\n",
    "sscda.append(\"alison\")\n",
    "sscda.append(\"clifton\")\n",
    "\n",
    "sscda2 = sscda[:]\n",
    "print(sscda2)\n",
    "\n",
    "del sscda[-1]\n",
    "del sscda[-2]\n",
    "del sscda[-3]\n",
    "\n",
    "print(sscda2)"
   ]
  },
  {
   "cell_type": "code",
   "execution_count": 42,
   "metadata": {
    "collapsed": false
   },
   "outputs": [
    {
     "name": "stdout",
     "output_type": "stream",
     "text": [
      "foobar\n"
     ]
    },
    {
     "data": {
      "text/plain": [
       "0"
      ]
     },
     "execution_count": 42,
     "metadata": {},
     "output_type": "execute_result"
    }
   ],
   "source": [
    "\n",
    "\n",
    "import os\n",
    "\n",
    "print(\"foobar\")\n",
    "\n",
    "os.system(\"cls\")"
   ]
  }
 ],
 "metadata": {
  "kernelspec": {
   "display_name": "Python [Root]",
   "language": "python",
   "name": "Python [Root]"
  },
  "language_info": {
   "codemirror_mode": {
    "name": "ipython",
    "version": 3
   },
   "file_extension": ".py",
   "mimetype": "text/x-python",
   "name": "python",
   "nbconvert_exporter": "python",
   "pygments_lexer": "ipython3",
   "version": "3.5.1"
  }
 },
 "nbformat": 4,
 "nbformat_minor": 0
}
