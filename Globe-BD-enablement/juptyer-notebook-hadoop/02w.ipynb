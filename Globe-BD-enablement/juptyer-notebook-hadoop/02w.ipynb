{
 "cells": [
  {
   "cell_type": "markdown",
   "metadata": {},
   "source": [
    "# Troubleshooting Hadoop 2.7.2"
   ]
  },
  {
   "cell_type": "markdown",
   "metadata": {},
   "source": [
    "Windows Configuration & Startup\n",
    "---"
   ]
  },
  {
   "cell_type": "markdown",
   "metadata": {},
   "source": [
    "<b>Encountering Error</b>"
   ]
  },
  {
   "cell_type": "raw",
   "metadata": {},
   "source": [
    "16/07/08 17:32:35 INFO impl.MetricsSystemImpl: Scheduled snapshot period at 10 s\n",
    "econd(s).\n",
    "16/07/08 17:32:35 INFO impl.MetricsSystemImpl: NodeManager metrics system starte\n",
    "d\n",
    "16/07/08 17:32:35 INFO service.AbstractService: Service org.apache.hadoop.yarn.s\n",
    "erver.nodemanager.LocalDirsHandlerService failed in state INITED; cause: java.la\n",
    "ng.NullPointerException\n",
    "16/07/08 17:32:35 INFO nodemanager.NodeManager: SHUTDOWN_MSG:\n",
    "/************************************************************\n",
    "SHUTDOWN_MSG: Shutting down NodeManager at GL1098129/10.225.137.143\n",
    "************************************************************/"
   ]
  },
  {
   "cell_type": "markdown",
   "metadata": {},
   "source": [
    "Apply patches NPE when NodeManager.serviceInit fails and stopRecoveryStore invoked"
   ]
  },
  {
   "cell_type": "markdown",
   "metadata": {},
   "source": [
    "Download patches from [here](https://issues.apache.org/jira/browse/YARN-3537)"
   ]
  }
 ],
 "metadata": {
  "anaconda-cloud": {},
  "kernelspec": {
   "display_name": "Python [Root]",
   "language": "python",
   "name": "Python [Root]"
  },
  "language_info": {
   "codemirror_mode": {
    "name": "ipython",
    "version": 3
   },
   "file_extension": ".py",
   "mimetype": "text/x-python",
   "name": "python",
   "nbconvert_exporter": "python",
   "pygments_lexer": "ipython3",
   "version": "3.5.1"
  }
 },
 "nbformat": 4,
 "nbformat_minor": 0
}
