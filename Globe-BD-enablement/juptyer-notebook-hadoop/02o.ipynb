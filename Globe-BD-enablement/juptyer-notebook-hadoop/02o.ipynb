{
 "cells": [
  {
   "cell_type": "markdown",
   "metadata": {},
   "source": [
    "# Troubleshooting Hadoop 2.7.2"
   ]
  },
  {
   "cell_type": "markdown",
   "metadata": {},
   "source": [
    "Mac OS X and Linux Configuration & Startup\n",
    "---"
   ]
  },
  {
   "cell_type": "markdown",
   "metadata": {},
   "source": [
    "<b>Encountering Error</b>"
   ]
  },
  {
   "cell_type": "markdown",
   "metadata": {},
   "source": [
    "CONNECTION REFUSED AFTER INSTALLING HADOOP\n",
    "---"
   ]
  },
  {
   "cell_type": "raw",
   "metadata": {},
   "source": [
    "hdfs dfs -ls\n",
    "15/03/06 20:13:54 WARN util.NativeCodeLoader: Unable to load native-hadoop library for your platform... using builtin-java classes where applicable\n",
    "ls: Call From spaceship.local/192.168.1.65 to localhost:9000 failed on connection exception: java.net.ConnectException: Connection refused; For more details see:   http://wiki.apache.org/hadoop/ConnectionRefused"
   ]
  },
  {
   "cell_type": "markdown",
   "metadata": {},
   "source": [
    "The start-up scripts such as <b>start-all.sh</b> do not provide you with specifics about why the startups failed. Some of the time it won’t even notify you that a startup failed.  To troubleshoot the service that isn’t functioning execute it manually."
   ]
  },
  {
   "cell_type": "raw",
   "metadata": {},
   "source": [
    "hdfs namenode\n",
    "15/03/06 20:18:31 WARN namenode.FSNamesystem: Encountered exception loading fsimage\n",
    "org.apache.hadoop.hdfs.server.common.InconsistentFSStateException: Directory /usr/local/Cellar/hadoop/hdfs/tmp/dfs/name is in an inconsistent state: storage directory does not exist or is not accessible.\n",
    "15/03/06 20:18:31 FATAL namenode.NameNode: Failed to start namenode."
   ]
  },
  {
   "cell_type": "markdown",
   "metadata": {},
   "source": [
    "And the problem derives from having to re-format the namenode."
   ]
  },
  {
   "cell_type": "raw",
   "metadata": {},
   "source": [
    "$ hadoop namenode -format"
   ]
  },
  {
   "cell_type": "markdown",
   "metadata": {},
   "source": [
    "To verify the problem is fixed run the following command - "
   ]
  },
  {
   "cell_type": "raw",
   "metadata": {},
   "source": [
    "$ hstart\n",
    "$ hdfs dfs -ls /"
   ]
  },
  {
   "cell_type": "markdown",
   "metadata": {},
   "source": [
    "If ‘hdfs dfs -ls’ gives you a error such as - "
   ]
  },
  {
   "cell_type": "raw",
   "metadata": {},
   "source": [
    "ls: `.': No such file or directory"
   ]
  },
  {
   "cell_type": "markdown",
   "metadata": {},
   "source": [
    "If so, then we need to create the default directory structure Hadoop expects (ie. /user/whoami_output/)."
   ]
  },
  {
   "cell_type": "raw",
   "metadata": {},
   "source": [
    "$ whoami\n",
    " spaceship\n",
    "$ hdfs dfs -mkdir -p /user/spaceship \n",
    " 15/03/06 20:31:19 WARN util.NativeCodeLoader: Unable to load native-hadoop library for your platform... using builtin-java classes where applicable\n",
    "$ hdfs dfs -ls\n",
    " 15/03/06 20:31:23 WARN util.NativeCodeLoader: Unable to load native-hadoop library for your platform... using builtin-java classes where applicable\n",
    "$ hdfs dfs -put book.txt\n",
    " 15/03/06 20:32:29 WARN util.NativeCodeLoader: Unable to load native-hadoop library for your platform... using builtin-java classes where applicable\n",
    "$ hdfs dfs -ls \n",
    " 15/03/06 20:32:50 WARN util.NativeCodeLoader: Unable to load native-hadoop library for your platform... using builtin-java classes where applicable\n",
    " Found 1 items\n",
    " -rw-r--r--   1 marekbejda supergroup      29578 2015-03-06 20:32 book.txt"
   ]
  },
  {
   "cell_type": "markdown",
   "metadata": {},
   "source": [
    "JAVA 1.8 ERRORS\n",
    "---"
   ]
  },
  {
   "cell_type": "markdown",
   "metadata": {},
   "source": [
    "Seems like certain builds of Java 1.8 (i.e.. 1.8_40) are missing a critical package that breaks Yarn. Check your logs at - "
   ]
  },
  {
   "cell_type": "raw",
   "metadata": {},
   "source": [
    "$ jps\n",
    " 5935 Jps\n",
    "$ vim /usr/local/Cellar/hadoop/2.6.0/libexec/logs/yarn-*\n",
    " 2015-03-07 16:21:32,934 FATAL org.apache.hadoop.hdfs.server.datanode.DataNode: Exception in secureMain java.lang.NoClassDefFoundError: sun/management/ExtendedPlatformComponent\n",
    "..\n",
    " 2015-03-07 16:21:32,937 INFO org.apache.hadoop.util.ExitUtil: Exiting with status 1\n",
    " 2015-03-07 16:21:32,939 INFO org.apache.hadoop.hdfs.server.datanode.DataNode: SHUTDOWN_MSG:\n",
    "http://mail.openjdk.java.net/pipermail/core-libs-dev/2014-November/029818.html"
   ]
  },
  {
   "cell_type": "markdown",
   "metadata": {},
   "source": [
    "Downgrade to Java 1.7 or verify you are running Java 1.8.0_20 -"
   ]
  },
  {
   "cell_type": "raw",
   "metadata": {},
   "source": [
    "$ java -version\n",
    " java version \"1.8.0_20\"\n",
    " Java(TM) SE Runtime Environment (build 1.8.0_20-b26)\n",
    " Java HotSpot(TM) 64-Bit Server VM (build 25.20-b23, mixed mode)"
   ]
  },
  {
   "cell_type": "markdown",
   "metadata": {},
   "source": [
    "SSH BEGINS ASKING FOR A PASSWORD\n",
    "---"
   ]
  },
  {
   "cell_type": "markdown",
   "metadata": {},
   "source": [
    "Somtimes ssh localhost will start requesting a password. Do the following -      "
   ]
  },
  {
   "cell_type": "raw",
   "metadata": {},
   "source": [
    "$ chmod go-w ~/        \n",
    "$ chmod 700 ~/.ssh       \n",
    "$ chmod 600 ~/.ssh/authorized_keys"
   ]
  }
 ],
 "metadata": {
  "kernelspec": {
   "display_name": "Python 3",
   "language": "python",
   "name": "python3"
  },
  "language_info": {
   "codemirror_mode": {
    "name": "ipython",
    "version": 3
   },
   "file_extension": ".py",
   "mimetype": "text/x-python",
   "name": "python",
   "nbconvert_exporter": "python",
   "pygments_lexer": "ipython3",
   "version": "3.5.1"
  }
 },
 "nbformat": 4,
 "nbformat_minor": 0
}
