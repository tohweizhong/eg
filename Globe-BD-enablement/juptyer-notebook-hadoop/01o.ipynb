{
 "cells": [
  {
   "cell_type": "markdown",
   "metadata": {},
   "source": [
    "# Install and Configuration of Hadoop 2.7.2\n",
    "Setting Up A Single Node Cluster\n",
    "--"
   ]
  },
  {
   "cell_type": "markdown",
   "metadata": {},
   "source": [
    "<b>HADOOP Configuration for Mac OS X and Linux</b>"
   ]
  },
  {
   "cell_type": "markdown",
   "metadata": {},
   "source": [
    "HADOOP-ENV.SH\n",
    "---"
   ]
  },
  {
   "cell_type": "raw",
   "metadata": {
    "collapsed": true
   },
   "source": [
    "vi hadoop-env.sh"
   ]
  },
  {
   "cell_type": "markdown",
   "metadata": {},
   "source": [
    "The file can be located at"
   ]
  },
  {
   "cell_type": "raw",
   "metadata": {},
   "source": [
    "/usr/local/Cellar/hadoop/2.7.2/libexec/etc/hadoop/hadoop-env.sh"
   ]
  },
  {
   "cell_type": "markdown",
   "metadata": {},
   "source": [
    "Find the line with"
   ]
  },
  {
   "cell_type": "raw",
   "metadata": {},
   "source": [
    "export HADOOP_OPTS=\"$HADOOP_OPTS -Djava.net.preferIPv4Stack=true\""
   ]
  },
  {
   "cell_type": "markdown",
   "metadata": {},
   "source": [
    "And change to"
   ]
  },
  {
   "cell_type": "raw",
   "metadata": {},
   "source": [
    "export HADOOP_OPTS=\"$HADOOP_OPTS -Djava.net.preferIPv4Stack=true -Djava.security.krb5.realm= -Djava.security.krb5.kdc=\""
   ]
  },
  {
   "cell_type": "markdown",
   "metadata": {},
   "source": [
    "CORE-SITE.XML\n",
    "---"
   ]
  },
  {
   "cell_type": "raw",
   "metadata": {},
   "source": [
    "vi core-site.xml"
   ]
  },
  {
   "cell_type": "markdown",
   "metadata": {},
   "source": [
    "The file can be located at"
   ]
  },
  {
   "cell_type": "raw",
   "metadata": {},
   "source": [
    "/usr/local/Cellar/hadoop/2.7.2/libexec/etc/hadoop/core-site.xml"
   ]
  },
  {
   "cell_type": "raw",
   "metadata": {},
   "source": [
    "<configuration>  \n",
    "<property>\n",
    "     <name>hadoop.tmp.dir</name>\n",
    "     <value>/usr/local/Cellar/hadoop/hdfs/tmp</value>\n",
    "     <description>A base for other temporary directories.</description>\n",
    "  </property>\n",
    "  <property>\n",
    "     <name>fs.default.name</name>                                     \n",
    "     <value>hdfs://localhost:9000</value>                             \n",
    "  </property>\n",
    "</configuration>"
   ]
  },
  {
   "cell_type": "markdown",
   "metadata": {},
   "source": [
    "MAPRED-SITE.XML\n",
    "---"
   ]
  },
  {
   "cell_type": "raw",
   "metadata": {},
   "source": [
    "vi mapred-site.xml"
   ]
  },
  {
   "cell_type": "markdown",
   "metadata": {},
   "source": [
    "The file can be located at -"
   ]
  },
  {
   "cell_type": "raw",
   "metadata": {},
   "source": [
    "/usr/local/Cellar/hadoop/2.7.2/libexec/etc/hadoop/mapred-site.xml"
   ]
  },
  {
   "cell_type": "markdown",
   "metadata": {},
   "source": [
    "By default this file will be blank.  Insert the following - "
   ]
  },
  {
   "cell_type": "raw",
   "metadata": {},
   "source": [
    "<configuration>\n",
    "  <property>\n",
    "    <name>mapred.job.tracker</name>\n",
    "    <value>localhost:9010</value>\n",
    "  </property>\n",
    "</configuration>"
   ]
  },
  {
   "cell_type": "markdown",
   "metadata": {},
   "source": [
    "HDFS-SITE.XML\n",
    "----"
   ]
  },
  {
   "cell_type": "raw",
   "metadata": {},
   "source": [
    "vi hdfs-site.xml"
   ]
  },
  {
   "cell_type": "markdown",
   "metadata": {},
   "source": [
    "The file can be located at -"
   ]
  },
  {
   "cell_type": "raw",
   "metadata": {},
   "source": [
    "/usr/local/Cellar/hadoop/2.7.2/libexec/etc/hadoop/hdfs-site.xml"
   ]
  },
  {
   "cell_type": "markdown",
   "metadata": {},
   "source": [
    "Add the following - "
   ]
  },
  {
   "cell_type": "raw",
   "metadata": {},
   "source": [
    "<configuration>\n",
    "  <property>\n",
    "    <name>dfs.replication</name>\n",
    "    <value>1</value>\n",
    "  </property>\n",
    "</configuration>"
   ]
  },
  {
   "cell_type": "markdown",
   "metadata": {},
   "source": [
    "Edit your ~/.profile\n",
    "---"
   ]
  },
  {
   "cell_type": "raw",
   "metadata": {},
   "source": [
    "vi ~/.profile"
   ]
  },
  {
   "cell_type": "markdown",
   "metadata": {},
   "source": [
    "Note your <b>~/.profile</b> might not exist. Add the following two lines - "
   ]
  },
  {
   "cell_type": "raw",
   "metadata": {},
   "source": [
    "alias hstart=\"/usr/local/Cellar/hadoop/2.7.2/sbin/start-dfs.sh;/usr/local/Cellar/hadoop/2.7.2/sbin/start-yarn.sh\"\n",
    "alias hstop=\"/usr/local/Cellar/hadoop/2.7.2/sbin/stop-yarn.sh;/usr/local/Cellar/hadoop/2.7.2/sbin/stop-dfs.sh\""
   ]
  },
  {
   "cell_type": "markdown",
   "metadata": {},
   "source": [
    "In order to execute do the following - "
   ]
  },
  {
   "cell_type": "raw",
   "metadata": {},
   "source": [
    "source ~/.profile"
   ]
  },
  {
   "cell_type": "raw",
   "metadata": {},
   "source": [
    "touch ~/.profile"
   ]
  },
  {
   "cell_type": "markdown",
   "metadata": {},
   "source": [
    "Format HDFS\n",
    "---"
   ]
  },
  {
   "cell_type": "markdown",
   "metadata": {},
   "source": [
    "Before you run Hadoop we need to format the Hadoop Distributed File System by doing the following -"
   ]
  },
  {
   "cell_type": "raw",
   "metadata": {},
   "source": [
    "hdfs namenode -format"
   ]
  },
  {
   "cell_type": "markdown",
   "metadata": {},
   "source": [
    "SSH Localhost\n",
    "---"
   ]
  },
  {
   "cell_type": "markdown",
   "metadata": {},
   "source": [
    "This step can be bypassed if you have already generated ssh keys. To check if you have done this step already run these commands - "
   ]
  },
  {
   "cell_type": "raw",
   "metadata": {},
   "source": [
    "ls -l ~/.ssh/id_rsa\n",
    "ls -l ~/.ssh/id_rsa.pub"
   ]
  },
  {
   "cell_type": "markdown",
   "metadata": {},
   "source": [
    "If these files do not exist run the following commands - "
   ]
  },
  {
   "cell_type": "raw",
   "metadata": {},
   "source": [
    "ssh-keygen -t rsa"
   ]
  },
  {
   "cell_type": "markdown",
   "metadata": {},
   "source": [
    "Enable Remote Login\n",
    "---"
   ]
  },
  {
   "cell_type": "markdown",
   "metadata": {},
   "source": [
    "Go to Mac OS X System Preferences."
   ]
  },
  {
   "cell_type": "markdown",
   "metadata": {},
   "source": [
    "![caption](files/remote_login.png)"
   ]
  },
  {
   "cell_type": "markdown",
   "metadata": {},
   "source": [
    "Authorize SSH Keys\n",
    "---\n",
    "To allow your system to accept login, we have to make it aware of the keys that will be used - "
   ]
  },
  {
   "cell_type": "raw",
   "metadata": {},
   "source": [
    "cat ~/.ssh/id_rsa.pub >> ~/.ssh/authorized_keys"
   ]
  },
  {
   "cell_type": "markdown",
   "metadata": {},
   "source": [
    "Now let's try to login - "
   ]
  },
  {
   "cell_type": "raw",
   "metadata": {},
   "source": [
    "$ ssh localhost\n",
    "Last login: Fri Mar  6 20:30:53 2015\n",
    "$ exit"
   ]
  },
  {
   "cell_type": "markdown",
   "metadata": {},
   "source": [
    "Starting Hadoop\n",
    "---"
   ]
  },
  {
   "cell_type": "markdown",
   "metadata": {},
   "source": [
    "We will be using our new alias scripts to start and stop HADOOP - "
   ]
  },
  {
   "cell_type": "raw",
   "metadata": {},
   "source": [
    "$ hstart \n",
    "$ hstop"
   ]
  },
  {
   "cell_type": "markdown",
   "metadata": {},
   "source": [
    "Use Web Interfaces\n",
    "---"
   ]
  },
  {
   "cell_type": "markdown",
   "metadata": {},
   "source": [
    "[Resource Manager](http://localhost:50070)<br><br>\n",
    "![caption](files/hadoop_resourcemgr.png)<br><br>\n",
    "[JobTracker](http://localhost:8088)<br><br>\n",
    "![caption](files/hadoop_namenode.png)\n",
    "[Specific Node Information](http://localhost:8042)<br><br>"
   ]
  },
  {
   "cell_type": "markdown",
   "metadata": {},
   "source": [
    "Useful Commands\n",
    "---"
   ]
  },
  {
   "cell_type": "raw",
   "metadata": {},
   "source": [
    "$ jps \n",
    "7379 DataNode\n",
    "7459 SecondaryNameNode\n",
    "7316 NameNode\n",
    "7636 NodeManager\n",
    "7562 ResourceManager\n",
    "7676 Jps\n",
    "\n",
    "$ yarn  // For resource management more information than the web interface. \n",
    "$ mapred  // Detailed information about jobs"
   ]
  },
  {
   "cell_type": "markdown",
   "metadata": {},
   "source": [
    "Browse HDFS\n",
    "---\n",
    "Access the HDFS filesystem, for any resulting output files via this web interface"
   ]
  },
  {
   "cell_type": "markdown",
   "metadata": {},
   "source": [
    "![caption](files/wpid-hdfs.png)"
   ]
  }
 ],
 "metadata": {
  "anaconda-cloud": {},
  "kernelspec": {
   "display_name": "Python [Root]",
   "language": "python",
   "name": "Python [Root]"
  },
  "language_info": {
   "codemirror_mode": {
    "name": "ipython",
    "version": 3
   },
   "file_extension": ".py",
   "mimetype": "text/x-python",
   "name": "python",
   "nbconvert_exporter": "python",
   "pygments_lexer": "ipython3",
   "version": "3.5.1"
  }
 },
 "nbformat": 4,
 "nbformat_minor": 0
}
