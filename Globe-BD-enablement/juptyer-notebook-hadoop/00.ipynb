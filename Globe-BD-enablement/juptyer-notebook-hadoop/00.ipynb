{
 "cells": [
  {
   "cell_type": "markdown",
   "metadata": {},
   "source": [
    "# Install and Configuration of Hadoop 2.7.2 (Mac OS X & Linux)\n",
    "# Install and Configuration of Hadoop 2.7.1 (Windows)\n",
    "Setting Up A Single Node Cluster\n",
    "--"
   ]
  },
  {
   "cell_type": "markdown",
   "metadata": {},
   "source": [
    "Install or Activate the Latest Java Development Kit\n",
    "---"
   ]
  },
  {
   "cell_type": "markdown",
   "metadata": {},
   "source": [
    "Must use minimum JRE 1.8 or Java 8.  \n",
    "\n",
    "<b>For Windows</b> -\n",
    "- Enable the latest installed version of Java in the Java Control Panel In the Java Control Panel, click on the Java tab. \n",
    "- Click View to display the Java Runtime Environment Settings. \n",
    "- Verify that the latest Java Runtime version is enabled by checking the Enabled box. \n",
    "- Click OK to save settings.\n",
    "\n",
    "<b>For Mac OS X and Linux</b> -\n",
    "- Use <b>Brew</b> or <b>Scoop</b> via OpenJDK or download from [here](http://www.oracle.com/technetwork/java/javase/downloads/jdk8-downloads-2133151.html).\n",
    "- Using <b>Brew</b> or <b>Linuxbrew</b> install [jenv](http://www.jenv.be/) which allows you to choose the Java version you want to use while having multiple versions installed."
   ]
  },
  {
   "cell_type": "markdown",
   "metadata": {},
   "source": [
    "Installation for Windows via Apache Hadoop\n",
    "---\n",
    "Download Apache Hadoop 2.7.1 tar file from [here](http://www.apache.org/dyn/closer.cgi/hadoop/common/hadoop-2.7.1/hadoop-2.7.1.tar.gz). Then extract tar file into the following directory. "
   ]
  },
  {
   "cell_type": "raw",
   "metadata": {},
   "source": [
    "mkdir DRIVE\\Globe\\hadoop\\2.7.1"
   ]
  },
  {
   "cell_type": "markdown",
   "metadata": {},
   "source": [
    "![caption](files/windows_tar.png)"
   ]
  },
  {
   "cell_type": "markdown",
   "metadata": {},
   "source": [
    "Create HDFS directory for use as a single node cluster."
   ]
  },
  {
   "cell_type": "raw",
   "metadata": {},
   "source": [
    "mkdir DRIVE\\Globe\\hadoop\\hdfs"
   ]
  },
  {
   "cell_type": "markdown",
   "metadata": {},
   "source": [
    "Error Extracting tar.gz\n",
    "---\n",
    "\n",
    "If extracting <b>.tar.gz</b> on Windows 10 using 7ZIP if you encounter the following error:"
   ]
  },
  {
   "cell_type": "markdown",
   "metadata": {},
   "source": [
    "![caption](files/7zip.png)"
   ]
  },
  {
   "cell_type": "raw",
   "metadata": {},
   "source": [
    "\"Cannot create symbolic link : Access is denied\""
   ]
  },
  {
   "cell_type": "markdown",
   "metadata": {},
   "source": [
    "You need to run 7-Zip File Manager in administrator mode.  Right-click the icon of 7-Zip File Manager, and then click \"Run as administrator\"."
   ]
  },
  {
   "cell_type": "markdown",
   "metadata": {
    "collapsed": true
   },
   "source": [
    "Installation for Mac OS X and Linux via Homebrew and Linuxbrew\n",
    "---"
   ]
  },
  {
   "cell_type": "markdown",
   "metadata": {},
   "source": [
    "For installation of Apache Hadoop 2.7.2 for Mac OS X and Linux we will be using Apache Hadoop 2.7.2 which you can manually download from [here](http://www.apache.org/dyn/closer.cgi/hadoop/common/hadoop-2.7.2/hadoop-2.7.2.tar.gz) or use the scripting framework of brew and Linuxbrew below."
   ]
  },
  {
   "cell_type": "raw",
   "metadata": {},
   "source": [
    "$ brew install hadoop"
   ]
  },
  {
   "cell_type": "markdown",
   "metadata": {},
   "source": [
    "Hadoop will be installed in the following directory"
   ]
  },
  {
   "cell_type": "raw",
   "metadata": {},
   "source": [
    "/usr/local/Cellar/hadoop"
   ]
  },
  {
   "cell_type": "raw",
   "metadata": {},
   "source": [
    "cd /usr/local/Cellar/hadoop\n",
    "mkdir hdfs"
   ]
  },
  {
   "cell_type": "markdown",
   "metadata": {},
   "source": [
    "![caption](files/dirs.png)"
   ]
  },
  {
   "cell_type": "markdown",
   "metadata": {},
   "source": [
    "Steps for Configuration & Startup\n",
    "---"
   ]
  },
  {
   "cell_type": "markdown",
   "metadata": {},
   "source": [
    "<b>For Windows</b>\n",
    "1. [HADOOP HOME Path Configuration](http://localhost:8888/notebooks/Globe/bigdata/hadoop/01w.ipynb)\n",
    "2. [HADOOP BIN Path Configuration](http://localhost:8888/notebooks/Globe/bigdata/hadoop/01w.ipynb)\n",
    "3. [HADOOP FILE Configuration](http://localhost:8888/notebooks/Globe/bigdata/hadoop/01w.ipynb)\n",
    "4. [Startup HADOOP](http://localhost:8888/notebooks/Globe/bigdata/hadoop/01w.ipynb)\n",
    "5. [Troubleshooting HADOOP](http://localhost:8888/notebooks/Globe/bigdata/hadoop/02w.ipynb)"
   ]
  },
  {
   "cell_type": "markdown",
   "metadata": {},
   "source": [
    "<b>For Mac OS X and Linux</b>\n",
    "1. [HADOOP HOME Path Configuration](http://localhost:8888/notebooks/Globe/bigdata/hadoop/01o.ipynb)\n",
    "2. [HADOOP BIN Path Configuration](http://localhost:8888/notebooks/Globe/bigdata/hadoop/01o.ipynb)\n",
    "3. [HADOOP FILE Configuration](http://localhost:8888/notebooks/Globe/bigdata/hadoop/01o.ipynb)\n",
    "4. [Startup HADOOP](http://localhost:8888/notebooks/Globe/bigdata/hadoop/01o.ipynb)\n",
    "5. [Troubleshooting HADOOP](http://localhost:8888/notebooks/Globe/bigdata/hadoop/02o.ipynb)"
   ]
  }
 ],
 "metadata": {
  "kernelspec": {
   "display_name": "Python [Root]",
   "language": "python",
   "name": "Python [Root]"
  },
  "language_info": {
   "codemirror_mode": {
    "name": "ipython",
    "version": 3
   },
   "file_extension": ".py",
   "mimetype": "text/x-python",
   "name": "python",
   "nbconvert_exporter": "python",
   "pygments_lexer": "ipython3",
   "version": "3.5.1"
  }
 },
 "nbformat": 4,
 "nbformat_minor": 0
}
