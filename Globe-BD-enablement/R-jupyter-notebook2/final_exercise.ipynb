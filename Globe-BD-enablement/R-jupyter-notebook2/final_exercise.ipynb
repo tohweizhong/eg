{
 "cells": [
  {
   "cell_type": "markdown",
   "metadata": {},
   "source": [
    "Final Exercise\n",
    "---\n",
    "Write a program that does the following -\n",
    "\n",
    "- Creates Data Frames per color subway line station and list all MRT station names and count number of stations\n",
    "- Create Data Frame called 'Your_Route' that melts the stations above and list all stations you have to travel to Bani and number of stops - list two trips - one for morning and one for evening"
   ]
  },
  {
   "cell_type": "code",
   "execution_count": 1,
   "metadata": {
    "collapsed": true
   },
   "outputs": [],
   "source": [
    "# R Exercise One\n",
    "# Creates Data Frames per subway line\n",
    "# List stations in Data Frames\n",
    "# Count number of Stations"
   ]
  },
  {
   "cell_type": "code",
   "execution_count": 2,
   "metadata": {
    "collapsed": true
   },
   "outputs": [],
   "source": [
    "# R Exercise Two\n",
    "# Create Your Route\n",
    "# Using Melt - List Stations to / from Bani Station in the morning and afternoon\n",
    "# Calculate the average Amount of Stations"
   ]
  },
  {
   "cell_type": "markdown",
   "metadata": {},
   "source": [
    "![caption](files/metro-manila.png)"
   ]
  },
  {
   "cell_type": "markdown",
   "metadata": {},
   "source": [
    "Hints About Solution Exercise\n",
    "---\n",
    "\n",
    "This program will use the following exercises -<br>\n",
    "- [Operators](http://localhost:8888/notebooks/Globe/datascience/r/04.ipynb)<br>\n",
    "- [Lists](http://localhost:8888/notebooks/Globe/datascience/r/09.ipynb)<br>\n",
    "- [Data Frames](http://localhost:8888/notebooks/Globe/datascience/r/13.ipynb)<br>\n",
    "- [Data Reshaping](http://localhost:8888/notebooks/Globe/datascience/r/14.ipynb)<br>"
   ]
  },
  {
   "cell_type": "code",
   "execution_count": 2,
   "metadata": {
    "collapsed": true
   },
   "outputs": [],
   "source": [
    "library(magrittr)\n",
    "yellow <-  c(\"Roosevelt\", \"Balintawak\", \"Monumento\",\n",
    "        \"5th Avenue\", \"R. Papa\", \"Abad Santos\",\n",
    "        \"Blumentritt\", \"Tayuman\", \"Bambang\",\n",
    "        \"Doroteo Jose\", \"Carriedo\", \"Central\",\n",
    "        \"UN Avenue\", \"Pedro Gil\", \"Quirino\",\n",
    "        \"Vito Cruz\", \"Gil Puyat\", \"Liberdad\",\n",
    "        \"EDSA\", \"Baclaran\") %>% data.frame\n",
    "blue <- c(\"North Avenue\", \"Quezon Avenue\", \"GMA Tamuning\",\n",
    "        \"Cubao\", \"Santolan\", \"Ortigas\", \"Shaw\",\n",
    "        \"Boni\", \"Guadalupe\", \"Buendia\", \"Ayala\",\n",
    "        \"Magellanes\", \"Taft Avenue\") %>%data.frame\n",
    "purple <- c(\"Santolan\", \"Katipuana\", \"Anonas\", \"Cubao\",\n",
    "        \"Betty Go Belmonte\", \"Gilmore\", \"J. Ruiz\",\n",
    "        \"V. Mapa\", \"Pureza\", \"Legarda\", \"Recto\") %>% data.frame"
   ]
  }
 ],
 "metadata": {
  "anaconda-cloud": {},
  "kernelspec": {
   "display_name": "R",
   "language": "R",
   "name": "ir"
  },
  "language_info": {
   "codemirror_mode": "r",
   "file_extension": ".r",
   "mimetype": "text/x-r-source",
   "name": "R",
   "pygments_lexer": "r",
   "version": "3.3.1"
  }
 },
 "nbformat": 4,
 "nbformat_minor": 0
}
