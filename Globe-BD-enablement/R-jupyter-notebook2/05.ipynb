{
 "cells": [
  {
   "cell_type": "markdown",
   "metadata": {},
   "source": [
    "Decision Making\n",
    "---"
   ]
  },
  {
   "cell_type": "markdown",
   "metadata": {},
   "source": [
    "There may be a situation when you need to execute a block of code several number of times. In general, statements are executed sequentially. The first statement in a function is executed first, followed by the second, and so on.\n",
    "\n",
    "Programming languages provide various control structures that allow for more complicated execution paths.\n",
    "\n",
    "A loop statement allows us to execute a statement or group of statements multiple times and the following is the general form of a loop statement in most of the programming languages −"
   ]
  },
  {
   "cell_type": "markdown",
   "metadata": {},
   "source": [
    "![caption](files/loop_architecture.jpg)"
   ]
  },
  {
   "cell_type": "markdown",
   "metadata": {},
   "source": [
    "R programming language provides the following kinds of loop to handle looping requirements. Click the following links to check their detail."
   ]
  },
  {
   "cell_type": "markdown",
   "metadata": {},
   "source": [
    "<table class=\"table table-bordered\">\n",
    "<tr>\n",
    "<th>Sr.No.</th>\n",
    "<th style=\"text-align:center;\">Loop Type &amp; Description</th>\n",
    "</tr>\n",
    "<tr>\n",
    "<td>1</td>\n",
    "<td>\n",
    "<a href=\"/r/r_repeat_loop.htm\">repeat loop</a>\n",
    "<p>Executes a sequence of statements multiple times and abbreviates the code that manages the loop variable.</p>\n",
    "</td>\n",
    "</tr>\n",
    "<tr>\n",
    "<td>2</td>\n",
    "<td>\n",
    "<a href=\"/r/r_while_loop.htm\">while loop</a>\n",
    "<p>Repeats a statement or group of statements while a given condition is true. It tests the condition before executing the loop body.</p>\n",
    "</td>\n",
    "</tr>\n",
    "<tr>\n",
    "<td>3</td>\n",
    "<td>\n",
    "<a href=\"/r/r_for_loop.htm\">for loop</a>\n",
    "<p>Like a while statement, except that it tests the condition at the end of the loop body.</p>\n",
    "</td>\n",
    "</tr>\n",
    "</table>"
   ]
  },
  {
   "cell_type": "markdown",
   "metadata": {},
   "source": [
    "<b>Loop Control Statements</b>\n",
    "\n",
    "Loop control statements change execution from its normal sequence. When execution leaves a scope, all automatic objects that were created in that scope are destroyed.\n",
    "\n",
    "R supports the following control statements. Click the following links to check their detail."
   ]
  },
  {
   "cell_type": "markdown",
   "metadata": {},
   "source": [
    "<table class=\"table table-bordered\">\n",
    "<tr>\n",
    "<th>Sr.No.</th>\n",
    "<th style=\"text-align:center;\">Control Statement &amp; Description</th>\n",
    "</tr>\n",
    "<tr>\n",
    "<td>1</td>\n",
    "<td>\n",
    "<a href=\"/r/r_break_statement.htm\">break statement</a>\n",
    "<p>Terminates the <b>loop</b> statement and transfers execution to the statement immediately following the loop.</p>\n",
    "</td>\n",
    "</tr>\n",
    "<tr>\n",
    "<td>2</td>\n",
    "<td>\n",
    "<a href=\"/r/r_next_statement.htm\">Next statement</a>\n",
    "<p>The <b>next</b> statement simulates the behavior of R switch.</p>\n",
    "</td>\n",
    "</tr>\n",
    "</table>"
   ]
  },
  {
   "cell_type": "code",
   "execution_count": null,
   "metadata": {
    "collapsed": true
   },
   "outputs": [],
   "source": []
  }
 ],
 "metadata": {
  "kernelspec": {
   "display_name": "R",
   "language": "R",
   "name": "ir"
  },
  "language_info": {
   "codemirror_mode": "r",
   "file_extension": ".r",
   "mimetype": "text/x-r-source",
   "name": "R",
   "pygments_lexer": "r",
   "version": "3.2.2"
  }
 },
 "nbformat": 4,
 "nbformat_minor": 0
}
