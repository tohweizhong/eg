{
 "cells": [
  {
   "cell_type": "markdown",
   "metadata": {},
   "source": [
    "Operators\n",
    "---"
   ]
  },
  {
   "cell_type": "markdown",
   "metadata": {},
   "source": [
    "Decision making structures require the programmer to specify one or more conditions to be evaluated or tested by the program, along with a statement or statements to be executed if the condition is determined to be true, and optionally, other statements to be executed if the condition is determined to be false.\n",
    "\n",
    "Following is the general form of a typical decision making structure found in most of the programming languages −"
   ]
  },
  {
   "cell_type": "markdown",
   "metadata": {},
   "source": [
    "![caption](files/r_decision_making.png)"
   ]
  },
  {
   "cell_type": "markdown",
   "metadata": {},
   "source": [
    "R provides the following types of decision making statements. Click the following links to check their detail."
   ]
  },
  {
   "cell_type": "markdown",
   "metadata": {},
   "source": [
    "<table class=\"table table-bordered\">\n",
    "<tr>\n",
    "<th>Sr.No.</th>\n",
    "<th style=\"text-align:center;\">Statement &amp; Description</th>\n",
    "</tr>\n",
    "<tr>\n",
    "<td>1</td>\n",
    "<td>\n",
    "<a href=\"/r/r_if_statement.htm\">if statement</a>\n",
    "<p>An <b>if</b> statement consists of a Boolean expression followed by one or more statements.</p>\n",
    "</td>\n",
    "</tr>\n",
    "<tr>\n",
    "<td>2</td>\n",
    "<td>\n",
    "<a href=\"/r/r_if_else_statement.htm\">if...else statement</a>\n",
    "<p>An <b>if</b> statement can be followed by an optional <b>else</b> statement, which executes when the Boolean expression is false.</p>\n",
    "</td>\n",
    "</tr>\n",
    "<tr>\n",
    "<td>3</td>\n",
    "<td>\n",
    "<a href=\"/r/r_switch_statement.htm\">switch statement</a>\n",
    "<p>A <b>switch</b> statement allows a variable to be tested for equality against a list of values.</p>\n",
    "</td>\n",
    "</tr>\n",
    "</table>"
   ]
  },
  {
   "cell_type": "code",
   "execution_count": null,
   "metadata": {
    "collapsed": true
   },
   "outputs": [],
   "source": []
  }
 ],
 "metadata": {
  "kernelspec": {
   "display_name": "R",
   "language": "R",
   "name": "ir"
  },
  "language_info": {
   "codemirror_mode": "r",
   "file_extension": ".r",
   "mimetype": "text/x-r-source",
   "name": "R",
   "pygments_lexer": "r",
   "version": "3.2.2"
  }
 },
 "nbformat": 4,
 "nbformat_minor": 0
}
