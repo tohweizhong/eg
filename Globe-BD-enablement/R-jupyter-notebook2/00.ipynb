{
 "cells": [
  {
   "cell_type": "markdown",
   "metadata": {},
   "source": [
    "# Installation of R"
   ]
  },
  {
   "cell_type": "markdown",
   "metadata": {},
   "source": [
    "# Starting R"
   ]
  },
  {
   "cell_type": "markdown",
   "metadata": {},
   "source": [
    "When using Mac OS, submit the following from any terminal session - "
   ]
  },
  {
   "cell_type": "raw",
   "metadata": {},
   "source": [
    "open -a /Applications/R.app"
   ]
  },
  {
   "cell_type": "markdown",
   "metadata": {},
   "source": [
    "# Packages"
   ]
  },
  {
   "cell_type": "markdown",
   "metadata": {},
   "source": [
    "R packages are a collection of R functions, complied code and sample data. They are stored under a directory called \"library\" in the R environment. By default, R installs a set of packages during installation. More packages are added later, when they are needed for some specific purpose. When we start the R console, only the default packages are available by default. Other packages which are already installed have to be loaded explicitly to be used by the R program that is going to use them.\n",
    "\n",
    "All the packages available in R language are listed at R Packages.\n",
    "\n",
    "Below is a list of commands to be used to check, verify and use the R packages.\n"
   ]
  },
  {
   "cell_type": "markdown",
   "metadata": {},
   "source": [
    "Check Available R Packages\n",
    "---\n",
    "\n",
    "Get library locations containing R packages"
   ]
  },
  {
   "cell_type": "code",
   "execution_count": 2,
   "metadata": {
    "collapsed": false
   },
   "outputs": [
    {
     "data": {
      "text/html": [
       "'/Users/garjac/anaconda/anaconda/lib/R/library'"
      ],
      "text/latex": [
       "'/Users/garjac/anaconda/anaconda/lib/R/library'"
      ],
      "text/markdown": [
       "'/Users/garjac/anaconda/anaconda/lib/R/library'"
      ],
      "text/plain": [
       "[1] \"/Users/garjac/anaconda/anaconda/lib/R/library\""
      ]
     },
     "execution_count": 2,
     "metadata": {},
     "output_type": "execute_result"
    }
   ],
   "source": [
    ".libPaths()"
   ]
  },
  {
   "cell_type": "markdown",
   "metadata": {},
   "source": [
    "Get the list of all the packages installed\n",
    "---"
   ]
  },
  {
   "cell_type": "code",
   "execution_count": 3,
   "metadata": {
    "collapsed": true
   },
   "outputs": [],
   "source": [
    "library()"
   ]
  },
  {
   "cell_type": "markdown",
   "metadata": {},
   "source": [
    "Get all packages currently loaded in the R environment\n",
    "---\n"
   ]
  },
  {
   "cell_type": "code",
   "execution_count": 4,
   "metadata": {
    "collapsed": false
   },
   "outputs": [
    {
     "data": {
      "text/html": [
       "<ol class=list-inline>\n",
       "\t<li>'.GlobalEnv'</li>\n",
       "\t<li>'package:stats'</li>\n",
       "\t<li>'package:graphics'</li>\n",
       "\t<li>'package:grDevices'</li>\n",
       "\t<li>'package:utils'</li>\n",
       "\t<li>'package:datasets'</li>\n",
       "\t<li>'package:methods'</li>\n",
       "\t<li>'Autoloads'</li>\n",
       "\t<li>'package:base'</li>\n",
       "</ol>\n"
      ],
      "text/latex": [
       "\\begin{enumerate*}\n",
       "\\item '.GlobalEnv'\n",
       "\\item 'package:stats'\n",
       "\\item 'package:graphics'\n",
       "\\item 'package:grDevices'\n",
       "\\item 'package:utils'\n",
       "\\item 'package:datasets'\n",
       "\\item 'package:methods'\n",
       "\\item 'Autoloads'\n",
       "\\item 'package:base'\n",
       "\\end{enumerate*}\n"
      ],
      "text/markdown": [
       "1. '.GlobalEnv'\n",
       "2. 'package:stats'\n",
       "3. 'package:graphics'\n",
       "4. 'package:grDevices'\n",
       "5. 'package:utils'\n",
       "6. 'package:datasets'\n",
       "7. 'package:methods'\n",
       "8. 'Autoloads'\n",
       "9. 'package:base'\n",
       "\n",
       "\n"
      ],
      "text/plain": [
       "[1] \".GlobalEnv\"        \"package:stats\"     \"package:graphics\" \n",
       "[4] \"package:grDevices\" \"package:utils\"     \"package:datasets\" \n",
       "[7] \"package:methods\"   \"Autoloads\"         \"package:base\"     "
      ]
     },
     "execution_count": 4,
     "metadata": {},
     "output_type": "execute_result"
    }
   ],
   "source": [
    "search()"
   ]
  },
  {
   "cell_type": "markdown",
   "metadata": {},
   "source": [
    "Install a New Package\n",
    "---\n",
    "\n",
    "There are two ways to add new R packages. One is installing directly from the CRAN directory and another is downloading the package to your local system and installing it manually.\n",
    "\n",
    "<b>Install Packages Directly from Cran</b>\n",
    "\n",
    "The following command gets the packages directly from CRAN webpage and installs the package in the R environment. You may be prompted to choose a nearest mirror. Choose the one appropriate to your location."
   ]
  },
  {
   "cell_type": "raw",
   "metadata": {},
   "source": [
    " install.packages(\"Package Name\")\n",
    "\n",
    "# Install the package named \"XML\".\n",
    "\n",
    " install.packages(\"XML\")"
   ]
  },
  {
   "cell_type": "markdown",
   "metadata": {},
   "source": [
    "<b>Install Packages Manually</b>"
   ]
  },
  {
   "cell_type": "markdown",
   "metadata": {},
   "source": [
    "[View Packages](https://cran.r-project.org/web/packages/available_packages_by_name.html)\n",
    "\n",
    "[View Documentation](https://cran.r-project.org/doc/manuals/r-release/R-admin.html)"
   ]
  },
  {
   "cell_type": "markdown",
   "metadata": {},
   "source": [
    "Save the package as a .zip file in a suitable location in the local system.\n",
    "\n",
    "Now you can run the following command to install this package in the R environment."
   ]
  },
  {
   "cell_type": "raw",
   "metadata": {},
   "source": [
    "install.packages(file_name_with_path, repos = NULL, type = \"source\")\n",
    "\n",
    "# Install the package named \"XML\"\n",
    "\n",
    "install.packages(\"E:/XML_3.98-1.3.zip\", repos = NULL, type = \"source\")"
   ]
  },
  {
   "cell_type": "markdown",
   "metadata": {},
   "source": [
    "Load Package to Library\n",
    "---\n",
    "\n",
    "Before a package can be used in the code, it must be loaded to the current R environment. You also need to load a package that is already installed previously but not available in the current environment.\n",
    "\n",
    "A package is loaded using the following command −"
   ]
  },
  {
   "cell_type": "raw",
   "metadata": {},
   "source": [
    "library(\"package Name\", lib.loc = \"path to library\")\n",
    "\n",
    "# Load the package named \"XML\"\n",
    "\n",
    "install.packages(\"E:/XML_3.98-1.3.zip\", repos = NULL, type = \"source\")"
   ]
  },
  {
   "cell_type": "markdown",
   "metadata": {},
   "source": [
    "Troubleshooting\n",
    "---\n",
    "\n",
    "When you install packages in R with Mac OS X (10.9), if you get this warning:"
   ]
  },
  {
   "cell_type": "raw",
   "metadata": {},
   "source": [
    "tar: Failed to set default locale"
   ]
  },
  {
   "cell_type": "markdown",
   "metadata": {},
   "source": [
    "In shell you have LANG set to en_US and LC_ALL set to en_US.UTF-8."
   ]
  },
  {
   "cell_type": "markdown",
   "metadata": {},
   "source": [
    "This command seems to fix it:"
   ]
  },
  {
   "cell_type": "raw",
   "metadata": {},
   "source": [
    "defaults write org.R-project.R force.LANG en_US.UTF-8"
   ]
  },
  {
   "cell_type": "markdown",
   "metadata": {},
   "source": [
    "![caption](files/fix.png)"
   ]
  },
  {
   "cell_type": "markdown",
   "metadata": {},
   "source": [
    "After restarting R, no more warnings about the default locale."
   ]
  },
  {
   "cell_type": "markdown",
   "metadata": {},
   "source": [
    "Most Common R Packages\n",
    "---"
   ]
  },
  {
   "cell_type": "markdown",
   "metadata": {},
   "source": [
    "![caption](files/packages.jpg)"
   ]
  },
  {
   "cell_type": "markdown",
   "metadata": {
    "collapsed": true
   },
   "source": [
    "Submit the following code / function to install load multiple packages at once"
   ]
  },
  {
   "cell_type": "raw",
   "metadata": {},
   "source": [
    "# ipak function: install and load multiple R packages.\n",
    "# check to see if packages are installed. Install them if they are not, then load them into the R session.\n",
    "LSMeans, Comparision, RegTest, ACD, Bison\n",
    "ipak <- function(pkg){\n",
    "    new.pkg <- pkg[!(pkg %in% installed.packages()[, \"Package\"])]\n",
    "    if (length(new.pkg)) \n",
    "        install.packages(new.pkg, dependencies = TRUE)\n",
    "    sapply(pkg, require, character.only = TRUE)\n",
    "}\n",
    "\n",
    "# usage\n",
    "packages <- c(\"ggplot2\", \"plyr\", \"reshape2\", \"RColorBrewer\", \"scales\", \"grid\")\n",
    "\n",
    "#pre-modeling stage\n",
    "#packages\n",
    "\n",
    "#modeling stage\n",
    "#packages\n",
    "\n",
    "#post modeling stage\n",
    "#packages\n",
    "\n",
    "# other libraries\n",
    "# packages <- c(\"rcpp\", \"parallel\", \"XML\", \"jasonlite\", \"httr\", \"shiny\", \"RMarkdown\", \"tm\", \"twitterR\", \"sqldf\" \"ROBDC\", RMongo\", \"swirl\", \"reshape2\", \"qcc\")\n",
    "\n",
    "ipak(packages)"
   ]
  },
  {
   "cell_type": "markdown",
   "metadata": {},
   "source": [
    "Exercises\n",
    "---\n",
    "\n",
    "1. [Basic Syntax](http://localhost:8888/notebooks/Globe/datascience/r/01.ipynb)\n",
    "2. [Data Types](http://localhost:8888/notebooks/Globe/datascience/r/02.ipynb)\n",
    "3. [Variables](http://localhost:8888/notebooks/Globe/datascience/r/03.ipynb)\n",
    "4. [Operators](http://localhost:8888/notebooks/Globe/datascience/r/04.ipynb)\n",
    "5. [Decision Making](http://localhost:8888/notebooks/Globe/datascience/r/05.ipynb)\n",
    "6. [Functions](http://localhost:8888/notebooks/Globe/datascience/r/06.ipynb)\n",
    "7. [Strings](http://localhost:8888/notebooks/Globe/datascience/r/07.ipynb)\n",
    "8. [Vectors](http://localhost:8888/notebooks/Globe/datascience/r/08.ipynb)\n",
    "9. [Lists](http://localhost:8888/notebooks/Globe/datascience/r/09.ipynb)\n",
    "10. [Matrices](http://localhost:8888/notebooks/Globe/datascience/r/10.ipynb)\n",
    "11. [Arrays](http://localhost:8888/notebooks/Globe/datascience/r11.ipynb)\n",
    "12. [Factors](http://localhost:8888/notebooks/Globe/datascience/r/12.ipynb)\n",
    "13. [Data Frames](http://localhost:8888/notebooks/Globe/datascience/r/13.ipynb)\n",
    "14. [Data Reshaping](http://localhost:8888/notebooks/Globe/datascience/r/14.ipynb)\n",
    "<br><br>\n",
    "15. [FINAL EXERCISE](http://localhost:8888/notebooks/Globe/datascience/python/final_exercise.ipynb)"
   ]
  },
  {
   "cell_type": "code",
   "execution_count": null,
   "metadata": {
    "collapsed": true
   },
   "outputs": [],
   "source": []
  }
 ],
 "metadata": {
  "kernelspec": {
   "display_name": "R",
   "language": "R",
   "name": "ir"
  },
  "language_info": {
   "codemirror_mode": "r",
   "file_extension": ".r",
   "mimetype": "text/x-r-source",
   "name": "R",
   "pygments_lexer": "r",
   "version": "3.3.1"
  }
 },
 "nbformat": 4,
 "nbformat_minor": 0
}
