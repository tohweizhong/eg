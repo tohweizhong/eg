{
 "cells": [
  {
   "cell_type": "markdown",
   "metadata": {},
   "source": [
    "# HBase Shell Commands"
   ]
  },
  {
   "cell_type": "markdown",
   "metadata": {},
   "source": [
    "HBase contains a shell using which you can communicate with HBase. HBase uses the Hadoop File System to store its data. It will have a master server and region servers. The data storage will be in the form of regions (tables). These regions will be split up and stored in region servers.\n",
    "\n",
    "The master server manages these region servers and all these tasks take place on HDFS. Given below are some of the commands supported by HBase Shell.\n",
    "\n",
    "<b>General Commands</b><br>\n",
    "- status - Provides the status of HBase, for example, the number of servers.\n",
    "\n",
    "- version - Provides the version of HBase being used.\n",
    "\n",
    "- table_help - Provides help for table-reference commands.\n",
    "\n",
    "- whoami - Provides information about the user.\n",
    "\n",
    "<b>Data Definition Language</b><br>\n",
    "These are the commands that operate on the tables in HBase.\n",
    "\n",
    "- create - Creates a table.\n",
    "\n",
    "- list - Lists all the tables in HBase.\n",
    "\n",
    "- disable - Disables a table.\n",
    "\n",
    "- is_disabled - Verifies whether a table is disabled.\n",
    "\n",
    "- enable - Enables a table.\n",
    "\n",
    "- is_enabled - Verifies whether a table is enabled.\n",
    "\n",
    "- describe - Provides the description of a table.\n",
    "\n",
    "- alter - Alters a table.\n",
    "\n",
    "- exists - Verifies whether a table exists.\n",
    "\n",
    "- drop - Drops a table from HBase.\n",
    "\n",
    "- drop_all - Drops the tables matching the ‘regex’ given in the command.\n",
    "\n",
    "- Java Admin API - Prior to all the above commands, Java provides an Admin API to achieve DDL functionalities through programming. Under org.apache.hadoop.hbase.client package, HBaseAdmin and HTableDescriptor are the two important classes in this package that provide DDL functionalities.\n",
    "\n",
    "<b>Data Manipulation Language</b><br>\n",
    "- put - Puts a cell value at a specified column in a specified row in a particular table.\n",
    "\n",
    "- get - Fetches the contents of row or a cell.\n",
    "\n",
    "- delete - Deletes a cell value in a table.\n",
    "\n",
    "- deleteall - Deletes all the cells in a given row.\n",
    "\n",
    "- scan - Scans and returns the table data.\n",
    "\n",
    "- count - Counts and returns the number of rows in a table.\n",
    "\n",
    "- truncate - Disables, drops, and recreates a specified table.\n",
    "\n",
    "- Java client API - Prior to all the above commands, Java provides a client API to achieve DML functionalities, CRUD (Create Retrieve Update Delete) operations and more through programming, under org.apache.hadoop.hbase.client package. HTable Put and Get are the important classes in this package."
   ]
  },
  {
   "cell_type": "code",
   "execution_count": null,
   "metadata": {
    "collapsed": true
   },
   "outputs": [],
   "source": []
  }
 ],
 "metadata": {
  "kernelspec": {
   "display_name": "Python 3",
   "language": "python",
   "name": "python3"
  },
  "language_info": {
   "codemirror_mode": {
    "name": "ipython",
    "version": 3
   },
   "file_extension": ".py",
   "mimetype": "text/x-python",
   "name": "python",
   "nbconvert_exporter": "python",
   "pygments_lexer": "ipython3",
   "version": "3.5.2"
  }
 },
 "nbformat": 4,
 "nbformat_minor": 0
}
