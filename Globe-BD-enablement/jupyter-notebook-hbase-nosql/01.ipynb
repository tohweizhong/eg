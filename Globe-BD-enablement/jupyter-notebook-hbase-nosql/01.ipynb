{
 "cells": [
  {
   "cell_type": "markdown",
   "metadata": {},
   "source": [
    "# Installation of HBase 1.1.5 (Mac OS X & Linux)"
   ]
  },
  {
   "cell_type": "markdown",
   "metadata": {},
   "source": [
    "Pre-Installation Setup\n",
    "---\n",
    "Before installing Hadoop into Linux environment, we need to set up Linux using ssh (Secure Shell). Follow the steps given below for setting up the Linux environment.\n",
    "\n",
    "Creating a User\n",
    "First of all, it is recommended to create a separate user for Hadoop to isolate the Hadoop file system from the Unix file system. Follow the steps given below to create a user.\n",
    "\n",
    "Open the root using the command “su”.\n",
    "- Create a user from the root account using the command “useradd username”.\n",
    "- Now you can open an existing user account using the command “su username”.\n",
    "- Open the Linux terminal and type the following commands to create a user."
   ]
  },
  {
   "cell_type": "raw",
   "metadata": {},
   "source": [
    "$ su\n",
    "password:\n",
    "# useradd hadoop\n",
    "# passwd hadoop\n",
    "New passwd:\n",
    "Retype new passwd"
   ]
  },
  {
   "cell_type": "markdown",
   "metadata": {},
   "source": [
    "SSH Setup and Key Generation\n",
    "---\n",
    "SSH setup is required to perform different operations on the cluster such as start, stop, and distributed daemon shell operations. To authenticate different users of Hadoop, it is required to provide public/private key pair for a Hadoop user and share it with different users.\n",
    "\n",
    "The following commands are used to generate a key value pair using SSH. Copy the public keys form id_rsa.pub to authorized_keys, and provide owner, read and write permissions to authorized_keys file respectively."
   ]
  },
  {
   "cell_type": "raw",
   "metadata": {},
   "source": [
    "$ ssh-keygen -t rsa\n",
    "$ cat ~/.ssh/id_rsa.pub >> ~/.ssh/authorized_keys\n",
    "$ chmod 0600 ~/.ssh/authorized_keys"
   ]
  },
  {
   "cell_type": "markdown",
   "metadata": {},
   "source": [
    "<b>Verify ssh</b>"
   ]
  },
  {
   "cell_type": "raw",
   "metadata": {},
   "source": [
    "ssh localhost"
   ]
  },
  {
   "cell_type": "markdown",
   "metadata": {},
   "source": [
    "Verifying Java\n",
    "---"
   ]
  },
  {
   "cell_type": "raw",
   "metadata": {},
   "source": [
    "$ java -version"
   ]
  },
  {
   "cell_type": "markdown",
   "metadata": {},
   "source": [
    "Startup Hadoop\n",
    "---"
   ]
  },
  {
   "cell_type": "raw",
   "metadata": {},
   "source": [
    "cd /usr/Local/Cellar/hadoop/2.7.2\n",
    "./start-all.sh"
   ]
  },
  {
   "cell_type": "markdown",
   "metadata": {},
   "source": [
    "Accessing Hadoop on Browser\n",
    "---\n",
    "The default port number to access Hadoop is 50070. Use the following url to get Hadoop services on your browser."
   ]
  },
  {
   "cell_type": "markdown",
   "metadata": {},
   "source": [
    "http://localhost:50070"
   ]
  },
  {
   "cell_type": "markdown",
   "metadata": {
    "collapsed": true
   },
   "source": [
    "![caption](files/hadoop_browser.jpg)"
   ]
  },
  {
   "cell_type": "markdown",
   "metadata": {},
   "source": [
    "Verify all Applications of Cluster\n",
    "---\n",
    "The default port number to access all the applications of cluster is 8088. Use the following url to visit this service."
   ]
  },
  {
   "cell_type": "raw",
   "metadata": {},
   "source": [
    "http://localhost:8088/"
   ]
  },
  {
   "cell_type": "markdown",
   "metadata": {},
   "source": [
    "![caption](files/hadoop_application_cluster.jpg)"
   ]
  },
  {
   "cell_type": "markdown",
   "metadata": {},
   "source": [
    "Installing HBase\n",
    "---"
   ]
  },
  {
   "cell_type": "markdown",
   "metadata": {},
   "source": [
    "If you haven't already you want to use BREW to download the latest version of HBASE. "
   ]
  },
  {
   "cell_type": "raw",
   "metadata": {},
   "source": [
    "cd /usr/Local/Cellar/hbase"
   ]
  },
  {
   "cell_type": "markdown",
   "metadata": {},
   "source": [
    "If not you can download Hbase 1.1.5_1 from [here](http://mirror.rise.ph/apache/hbase/1.1.5/)."
   ]
  },
  {
   "cell_type": "raw",
   "metadata": {},
   "source": [
    "mkdir /usr/local/Cellar/hbase/1.1.5_1"
   ]
  },
  {
   "cell_type": "markdown",
   "metadata": {},
   "source": [
    "Configuring HBase in Standalone Mode\n",
    "---\n",
    "Before proceeding with HBase, you have to edit the following files and configure HBase.\n",
    "\n",
    "<b>hbase-env.sh</b><br>\n",
    "Set the java Home for HBase and open hbase-env.sh file from the conf folder. Edit JAVA_HOME environment variable and change the existing path to your current JAVA_HOME variable as shown below."
   ]
  },
  {
   "cell_type": "raw",
   "metadata": {},
   "source": [
    "cd /usr/Local/Cellar/Hbase/1.1.5_1/conf\n",
    "vi hbase-env.sh"
   ]
  },
  {
   "cell_type": "markdown",
   "metadata": {},
   "source": [
    "Replace the existing JAVA_HOME value with your current value as shown below."
   ]
  },
  {
   "cell_type": "raw",
   "metadata": {},
   "source": [
    "NOTE: /usr/bin/java -> /System/Library/Frameworks/JavaVM.framework/Versions/Current/Commands/java"
   ]
  },
  {
   "cell_type": "raw",
   "metadata": {},
   "source": [
    "export JAVA_HOME=/usr/lib/jvm/java-1.7.0"
   ]
  },
  {
   "cell_type": "markdown",
   "metadata": {},
   "source": [
    "<b>hbase-site.xml</b><br>\n",
    "This is the main configuration file of HBase. Set the data directory to an appropriate location by opening the HBase home folder in /usr/local/HBase. Inside the conf folder, you will find several files, open the hbase-site.xml file as shown below."
   ]
  },
  {
   "cell_type": "raw",
   "metadata": {},
   "source": [
    "cd /usr/local/Cellar/hbase/1.1.5_1/conf\n",
    "vi hbase-site.xml"
   ]
  },
  {
   "cell_type": "raw",
   "metadata": {},
   "source": [
    "mkdir /usr/local/Cellar/hbase/hfiles\n",
    "mkdir /usr/Local/Cellar/hadoop/zookeeper"
   ]
  },
  {
   "cell_type": "markdown",
   "metadata": {},
   "source": [
    "Inside the hbase-site.xml file, you will find the <configuration> and </configuration> tags. Within them, set the HBase directory under the property key with the name “hbase.rootdir” as shown below."
   ]
  },
  {
   "cell_type": "raw",
   "metadata": {},
   "source": [
    "<configuration>\n",
    "   //Here you have to set the path where you want HBase to store its files.\n",
    "   <property>\n",
    "      <name>hbase.rootdir</name>\n",
    "      <value>file:/usr/local/Cellar/hbase/hfiles</value>\n",
    "   </property>\t\n",
    "   //Here you have to set the path where you want HBase to store its built in zookeeper  files.\n",
    "   <property>\n",
    "      <name>hbase.zookeeper.property.dataDir</name>\n",
    "      <value>/usr/Local/Cellar/hadoop/zookeeper</value>\n",
    "   </property>\n",
    "</configuration>"
   ]
  },
  {
   "cell_type": "markdown",
   "metadata": {},
   "source": [
    "With this, the HBase installation and configuration part is successfully complete. We can start HBase by using start-hbase.sh script provided in the bin folder of HBase. For that, open HBase Home Folder and run HBase start script as shown below."
   ]
  },
  {
   "cell_type": "markdown",
   "metadata": {},
   "source": [
    "Starting Hbase\n",
    "---"
   ]
  },
  {
   "cell_type": "raw",
   "metadata": {},
   "source": [
    "cd /usr/Local/cellar/hBase/1.1.5_1/bin\n",
    "$./start-hbase.sh"
   ]
  },
  {
   "cell_type": "markdown",
   "metadata": {},
   "source": [
    "If everything goes well, when you try to run HBase start script, it will prompt you a message saying that HBase has started."
   ]
  },
  {
   "cell_type": "raw",
   "metadata": {},
   "source": [
    "starting master, logging to /usr/Local/Cellar/hBase/1.1.5_1/bin/../logs/hbase-tpmaster-localhost.localdomain.out"
   ]
  },
  {
   "cell_type": "markdown",
   "metadata": {},
   "source": [
    "Starting HBaseShell\n",
    "---"
   ]
  },
  {
   "cell_type": "markdown",
   "metadata": {},
   "source": [
    "After Installing HBase successfully, you can start HBase Shell. Below given are the sequence of steps that are to be followed to start the HBase shell. \n",
    "\n",
    "Start HBaseShell using the following command - "
   ]
  },
  {
   "cell_type": "raw",
   "metadata": {},
   "source": [
    "cd /usr/Local/Cellar/hbase/1.1.5_1/bin\n",
    "./hbase shell"
   ]
  },
  {
   "cell_type": "raw",
   "metadata": {},
   "source": [
    "2014-12-09 14:24:27,526 INFO [main] Configuration.deprecation:\n",
    "hadoop.native.lib is deprecated. Instead, use io.native.lib.available\n",
    "HBase Shell; enter 'help<RETURN>' for list of supported commands.\n",
    "Type \"exit<RETURN>\" to leave the HBase Shell\n",
    "Version 0.98.8-hadoop2, r6cfc8d064754251365e070a10a82eb169956d5fe, Fri\n",
    "Nov 14 18:26:29 PST 2014\n",
    "\n",
    "hbase(main):001:0>"
   ]
  },
  {
   "cell_type": "markdown",
   "metadata": {},
   "source": [
    "HBase Web Interface\n",
    "---\n",
    "\n",
    "To access the web interface of HBase, type the following url in the browser."
   ]
  },
  {
   "cell_type": "markdown",
   "metadata": {},
   "source": [
    "http://localhost:60010"
   ]
  },
  {
   "cell_type": "markdown",
   "metadata": {},
   "source": [
    "HBase Region servers and Backup Masters"
   ]
  },
  {
   "cell_type": "markdown",
   "metadata": {},
   "source": [
    "![caption](files/hbase_servers.jpg)"
   ]
  },
  {
   "cell_type": "markdown",
   "metadata": {},
   "source": [
    "Hbase Tables"
   ]
  },
  {
   "cell_type": "markdown",
   "metadata": {},
   "source": [
    "![caption](files/hbase_tables.jpg)"
   ]
  },
  {
   "cell_type": "markdown",
   "metadata": {},
   "source": [
    "Setting Java Environment\n",
    "---\n",
    "We can also communicate with HBase using Java libraries, but before accessing HBase using Java API you need to set classpath for those libraries.\n",
    "\n",
    "<b>Setting the Classpath</b><br>\n",
    "Before proceeding with programming, set the classpath to HBase libraries in .bashrc file. Open .bashrc in any of the editors as shown below."
   ]
  },
  {
   "cell_type": "raw",
   "metadata": {},
   "source": [
    "vi ~/.bashrc"
   ]
  },
  {
   "cell_type": "raw",
   "metadata": {},
   "source": [
    "export CLASSPATH = $CLASSPATH://home/hadoop/hbase/lib/*"
   ]
  },
  {
   "cell_type": "markdown",
   "metadata": {},
   "source": [
    "Demo of HBase Functionalities\n",
    "---"
   ]
  },
  {
   "cell_type": "markdown",
   "metadata": {},
   "source": [
    "List is a command used to get the list of all the tables in HBase. First of all, verify the installation and the configuration of HBase in your system using this command as shown below."
   ]
  },
  {
   "cell_type": "raw",
   "metadata": {},
   "source": [
    "hbase(main):001:0> list"
   ]
  },
  {
   "cell_type": "raw",
   "metadata": {},
   "source": [
    "TABLE"
   ]
  },
  {
   "cell_type": "markdown",
   "metadata": {},
   "source": [
    "Create a TABLE"
   ]
  },
  {
   "cell_type": "raw",
   "metadata": {},
   "source": [
    "hbase(main):001:0> create 'test', 'cf'\n",
    "0 row(s) in 0.4170 seconds\n",
    "\n",
    "=> Hbase::Table - test"
   ]
  },
  {
   "cell_type": "markdown",
   "metadata": {},
   "source": [
    "LIST a TABLE"
   ]
  },
  {
   "cell_type": "raw",
   "metadata": {},
   "source": [
    "hbase(main):002:0> list 'test'\n",
    "TABLE\n",
    "test\n",
    "1 row(s) in 0.0180 seconds\n",
    "\n",
    "=> [\"test\"]"
   ]
  },
  {
   "cell_type": "markdown",
   "metadata": {},
   "source": [
    "Put data into TABLE"
   ]
  },
  {
   "cell_type": "raw",
   "metadata": {},
   "source": [
    "hbase(main):003:0> put 'test', 'row1', 'cf:a', 'value1'\n",
    "0 row(s) in 0.0850 seconds\n",
    "\n",
    "hbase(main):004:0> put 'test', 'row2', 'cf:b', 'value2'\n",
    "0 row(s) in 0.0110 seconds\n",
    "\n",
    "hbase(main):005:0> put 'test', 'row3', 'cf:c', 'value3'\n",
    "0 row(s) in 0.0100 seconds"
   ]
  },
  {
   "cell_type": "markdown",
   "metadata": {},
   "source": [
    "SCAN TABLE for all data all at once"
   ]
  },
  {
   "cell_type": "raw",
   "metadata": {},
   "source": [
    "hbase(main):006:0> scan 'test'\n",
    "ROW                                      COLUMN+CELL\n",
    " row1                                    column=cf:a, timestamp=1421762485768, value=value1\n",
    " row2                                    column=cf:b, timestamp=1421762491785, value=value2\n",
    " row3                                    column=cf:c, timestamp=1421762496210, value=value3\n",
    "3 row(s) in 0.0230 seconds"
   ]
  },
  {
   "cell_type": "markdown",
   "metadata": {},
   "source": [
    "Get a single ROW of data at a time"
   ]
  },
  {
   "cell_type": "raw",
   "metadata": {},
   "source": [
    "hbase(main):007:0> get 'test', 'row1'\n",
    "COLUMN                                   CELL\n",
    " cf:a                                    timestamp=1421762485768, value=value1\n",
    "1 row(s) in 0.0350 seconds"
   ]
  },
  {
   "cell_type": "markdown",
   "metadata": {},
   "source": [
    "Disable A Table<br><br>\n",
    "If you want to delete a table or change its settings, as well as in some other situations, you need to disable the table first, using the disable command. You can re-enable it using the enable command."
   ]
  },
  {
   "cell_type": "raw",
   "metadata": {},
   "source": [
    "hbase(main):008:0> disable 'test'\n",
    "0 row(s) in 1.1820 seconds\n",
    "\n",
    "hbase(main):009:0> enable 'test'\n",
    "0 row(s) in 0.1770 seconds"
   ]
  },
  {
   "cell_type": "markdown",
   "metadata": {},
   "source": [
    "DISABLE TABLE again"
   ]
  },
  {
   "cell_type": "raw",
   "metadata": {},
   "source": [
    "hbase(main):010:0> disable 'test'\n",
    "0 row(s) in 1.1820 seconds"
   ]
  },
  {
   "cell_type": "markdown",
   "metadata": {},
   "source": [
    "DROP (delete) a TABLE"
   ]
  },
  {
   "cell_type": "raw",
   "metadata": {},
   "source": [
    "hbase(main):011:0> drop 'test'\n",
    "0 row(s) in 0.1370 seconds"
   ]
  },
  {
   "cell_type": "markdown",
   "metadata": {},
   "source": [
    "EXIT HBASE"
   ]
  },
  {
   "cell_type": "markdown",
   "metadata": {},
   "source": [
    "To exit the HBase Shell and disconnect from your cluster, use the quit command. HBase is still running in the background."
   ]
  },
  {
   "cell_type": "markdown",
   "metadata": {},
   "source": [
    "Stopping HBase\n",
    "---"
   ]
  },
  {
   "cell_type": "raw",
   "metadata": {},
   "source": [
    "$ ./usr/Local/Cellar/hbase/1.1.5_1/bin/stop-hbase.sh\n",
    "stopping hbase...................."
   ]
  }
 ],
 "metadata": {
  "anaconda-cloud": {},
  "kernelspec": {
   "display_name": "Python [Root]",
   "language": "python",
   "name": "Python [Root]"
  },
  "language_info": {
   "codemirror_mode": {
    "name": "ipython",
    "version": 3
   },
   "file_extension": ".py",
   "mimetype": "text/x-python",
   "name": "python",
   "nbconvert_exporter": "python",
   "pygments_lexer": "ipython3",
   "version": "3.5.1"
  }
 },
 "nbformat": 4,
 "nbformat_minor": 0
}
