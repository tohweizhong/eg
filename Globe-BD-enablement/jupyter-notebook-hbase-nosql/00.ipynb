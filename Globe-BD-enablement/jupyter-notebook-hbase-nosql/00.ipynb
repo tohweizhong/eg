{
 "cells": [
  {
   "cell_type": "markdown",
   "metadata": {},
   "source": [
    "# HBase Architecture"
   ]
  },
  {
   "cell_type": "markdown",
   "metadata": {},
   "source": [
    "In HBase, tables are split into regions and are served by the region servers. Regions are vertically divided by column families into “Stores”. Stores are saved as files in HDFS. Shown below is the architecture of HBase."
   ]
  },
  {
   "cell_type": "raw",
   "metadata": {},
   "source": [
    "Note: The term ‘store’ is used for regions to explain the storage structure."
   ]
  },
  {
   "cell_type": "markdown",
   "metadata": {},
   "source": [
    "![caption](files/architecture.jpg)"
   ]
  },
  {
   "cell_type": "markdown",
   "metadata": {},
   "source": [
    "HBase has three major components: the client library, a master server, and region servers. Region servers can be added or removed as per requirement."
   ]
  },
  {
   "cell_type": "markdown",
   "metadata": {},
   "source": [
    "MasterServer\n",
    "---\n",
    "The master server -\n",
    "\n",
    "- Assigns regions to the region servers and takes the help of Apache ZooKeeper for this task.\n",
    "\n",
    "- Handles load balancing of the regions across region servers. It unloads the busy servers and shifts the regions to less occupied servers.\n",
    "\n",
    "- Maintains the state of the cluster by negotiating the load balancing.\n",
    "\n",
    "- Is responsible for schema changes and other metadata operations such as creation of tables and column families."
   ]
  },
  {
   "cell_type": "markdown",
   "metadata": {},
   "source": [
    "Regions\n",
    "---\n",
    "Regions are nothing but tables that are split up and spread across the region servers.\n",
    "\n",
    "Region server\n",
    "---\n",
    "The region servers have regions that -\n",
    "\n",
    "- Communicate with the client and handle data-related operations.\n",
    "- Handle read and write requests for all the regions under it.\n",
    "- Decide the size of the region by following the region size thresholds.\n",
    "- When we take a deeper look into the region server, it contain regions and stores as shown below:"
   ]
  },
  {
   "cell_type": "markdown",
   "metadata": {},
   "source": [
    "![caption](files/regional_server.jpg)"
   ]
  },
  {
   "cell_type": "markdown",
   "metadata": {},
   "source": [
    "The store contains memory store and HFiles. Memstore is just like a cache memory. Anything that is entered into the HBase is stored here initially. Later, the data is transferred and saved in Hfiles as blocks and the memstore is flushed."
   ]
  },
  {
   "cell_type": "markdown",
   "metadata": {},
   "source": [
    "Zookeeper\n",
    "---\n",
    "Zookeeper is an open-source project that provides services like maintaining configuration information, naming, providing distributed synchronization, etc.\n",
    "\n",
    "Zookeeper has ephemeral nodes representing different region servers. Master servers use these nodes to discover available servers.\n",
    "\n",
    "In addition to availability, the nodes are also used to track server failures or network partitions.\n",
    "\n",
    "Clients communicate with region servers via zookeeper.\n",
    "\n",
    "In pseudo and standalone modes, HBase itself will take care of zookeeper."
   ]
  },
  {
   "cell_type": "markdown",
   "metadata": {
    "collapsed": true
   },
   "source": [
    "Exercises\n",
    "---\n",
    "\n",
    "1. [HBase Installation & Demo](http://localhost:8888/notebooks/Globe/bigdata/nosql/01.ipynb)\n",
    "2. [HBase Shell Commands](http://localhost:8888/notebooks/Globe/bigdata/nosql/02.ipynb)\n",
    "3. [HBase General Commands](http://localhost:8888/notebooks/Globe/bigdata/nosql/02.ipynb)\n"
   ]
  }
 ],
 "metadata": {
  "anaconda-cloud": {},
  "kernelspec": {
   "display_name": "Python [Root]",
   "language": "python",
   "name": "Python [Root]"
  },
  "language_info": {
   "codemirror_mode": {
    "name": "ipython",
    "version": 3
   },
   "file_extension": ".py",
   "mimetype": "text/x-python",
   "name": "python",
   "nbconvert_exporter": "python",
   "pygments_lexer": "ipython3",
   "version": "3.5.1"
  }
 },
 "nbformat": 4,
 "nbformat_minor": 0
}
