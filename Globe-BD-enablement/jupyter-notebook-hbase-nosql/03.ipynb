{
 "cells": [
  {
   "cell_type": "markdown",
   "metadata": {},
   "source": [
    "# HBase General Commands"
   ]
  },
  {
   "cell_type": "markdown",
   "metadata": {},
   "source": [
    "The general commands in HBase are status, version, table_help, and whoami. This chapter explains these commands.\n",
    "\n",
    "<b>status</b><br>\n",
    "- This command returns the status of the system including the details of the servers running on the system. Its syntax is as follows:"
   ]
  },
  {
   "cell_type": "raw",
   "metadata": {},
   "source": [
    "hbase(main):009:0> status"
   ]
  },
  {
   "cell_type": "markdown",
   "metadata": {},
   "source": [
    "<b>version</b><br>\n",
    "- This command returns the version of HBase used in your system. Its syntax is as follows:"
   ]
  },
  {
   "cell_type": "raw",
   "metadata": {},
   "source": [
    "hbase(main):010:0> version"
   ]
  },
  {
   "cell_type": "markdown",
   "metadata": {},
   "source": [
    "<b>table_help</b><br>\n",
    "- This command guides you what and how to use table-referenced commands. Given below is the syntax to use this command."
   ]
  },
  {
   "cell_type": "raw",
   "metadata": {},
   "source": [
    "hbase(main):02:0> table_help"
   ]
  },
  {
   "cell_type": "markdown",
   "metadata": {},
   "source": [
    "When you use this command, it shows help topics for table-related commands. Given below is the partial output of this command."
   ]
  },
  {
   "cell_type": "raw",
   "metadata": {},
   "source": [
    "hbase(main):002:0> table_help\n",
    "Help for table-reference commands.\n",
    "You can either create a table via 'create' and then manipulate the table\n",
    "via commands like 'put', 'get', etc.\n",
    "See the standard help information for how to use each of these commands.\n",
    "However, as of 0.96, you can also get a reference to a table, on which\n",
    "you can invoke commands.\n",
    "For instance, you can get create a table and keep around a reference to\n",
    "it via:\n",
    " hbase> t = create 't', 'cf'…..."
   ]
  },
  {
   "cell_type": "markdown",
   "metadata": {},
   "source": [
    "<b>whoami</b><br>\n",
    "- This command returns the user details of HBase. If you execute this command, returns the current HBase user as shown below."
   ]
  },
  {
   "cell_type": "raw",
   "metadata": {},
   "source": [
    "hbase(main):008:0> whoami\n",
    "hadoop (auth:SIMPLE)\n",
    "groups: hadoop"
   ]
  }
 ],
 "metadata": {
  "kernelspec": {
   "display_name": "Python 3",
   "language": "python",
   "name": "python3"
  },
  "language_info": {
   "codemirror_mode": {
    "name": "ipython",
    "version": 3
   },
   "file_extension": ".py",
   "mimetype": "text/x-python",
   "name": "python",
   "nbconvert_exporter": "python",
   "pygments_lexer": "ipython3",
   "version": "3.5.2"
  }
 },
 "nbformat": 4,
 "nbformat_minor": 0
}
