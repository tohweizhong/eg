{
 "cells": [
  {
   "cell_type": "markdown",
   "metadata": {},
   "source": [
    "# Quick Start"
   ]
  },
  {
   "cell_type": "markdown",
   "metadata": {},
   "source": [
    "Start experimenting with SparkR on the command shell and in RStudio using the example provided below. You can monitor your Spark jobs using the Spark UI at http://localhost:4040"
   ]
  },
  {
   "cell_type": "raw",
   "metadata": {},
   "source": [
    "# Set the system environment variables\n",
    "Sys.setenv(SPARK_HOME = \"C:/Apache/spark-1.4.1\")\n",
    ".libPaths(c(file.path(Sys.getenv(\"SPARK_HOME\"), \"R\", \"lib\"), .libPaths()))\n"
   ]
  },
  {
   "cell_type": "raw",
   "metadata": {},
   "source": [
    "#load the Sparkr library\n",
    "library(SparkR)\n"
   ]
  },
  {
   "cell_type": "raw",
   "metadata": {},
   "source": [
    "# Create a spark context and a SQL context\n",
    "sc <- sparkR.init(master = \"local\")\n",
    "sqlContext <- sparkRSQL.init(sc)\n"
   ]
  },
  {
   "cell_type": "raw",
   "metadata": {},
   "source": [
    "#create a sparkR DataFrame\n",
    "DF <- createDataFrame(sqlContext, faithful)\n",
    "head(DF)\n"
   ]
  },
  {
   "cell_type": "raw",
   "metadata": {},
   "source": [
    "# Create a simple local data.frame\n",
    "localDF <- data.frame(name=c(\"John\", \"Smith\", \"Sarah\"), age=c(19, 23, 18))\n"
   ]
  },
  {
   "cell_type": "raw",
   "metadata": {},
   "source": [
    "# Convert local data frame to a SparkR DataFrame\n",
    "df <- createDataFrame(sqlContext, localDF)\n"
   ]
  },
  {
   "cell_type": "raw",
   "metadata": {},
   "source": [
    "# Print its schema\n",
    "printSchema(df)\n",
    "# root\n",
    "#  |-- name: string (nullable = true)\n",
    "#  |-- age: double (nullable = true)\n"
   ]
  },
  {
   "cell_type": "raw",
   "metadata": {},
   "source": [
    "# Create a DataFrame from a JSON file\n",
    "path <- file.path(Sys.getenv(\"SPARK_HOME\"), \"usr/Local/Cellar/spark/data/people.json\")\n",
    "peopleDF <- jsonFile(sqlContext, path)\n",
    "printSchema(peopleDF)\n"
   ]
  },
  {
   "cell_type": "raw",
   "metadata": {},
   "source": [
    "# Register this DataFrame as a table.\n",
    "registerTempTable(peopleDF, \"people\")\n"
   ]
  },
  {
   "cell_type": "raw",
   "metadata": {},
   "source": [
    "# SQL statements can be run by using the sql methods provided by sqlContext\n",
    "teenagers <- sql(sqlContext, \"SELECT name FROM people WHERE age >= 13 AND age <= 19\")\n"
   ]
  },
  {
   "cell_type": "raw",
   "metadata": {},
   "source": [
    "# Call collect to get a local data.frame\n",
    "teenagersLocalDF <- collect(teenagers)\n"
   ]
  },
  {
   "cell_type": "raw",
   "metadata": {},
   "source": [
    "# Print the teenagers in our dataset \n",
    "print(teenagersLocalDF)\n"
   ]
  },
  {
   "cell_type": "raw",
   "metadata": {},
   "source": [
    "# Stop the SparkContext now\n",
    "sparkR.stop()\n"
   ]
  }
 ],
 "metadata": {
  "anaconda-cloud": {},
  "kernelspec": {
   "display_name": "R",
   "language": "R",
   "name": "ir"
  },
  "language_info": {
   "codemirror_mode": "r",
   "file_extension": ".r",
   "mimetype": "text/x-r-source",
   "name": "R",
   "pygments_lexer": "r",
   "version": "3.3.1"
  }
 },
 "nbformat": 4,
 "nbformat_minor": 0
}
