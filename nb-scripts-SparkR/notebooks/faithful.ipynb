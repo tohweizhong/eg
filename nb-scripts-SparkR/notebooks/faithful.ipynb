{
 "cells": [
  {
   "cell_type": "code",
   "execution_count": 2,
   "metadata": {
    "collapsed": false
   },
   "outputs": [
    {
     "name": "stderr",
     "output_type": "stream",
     "text": [
      "\n",
      "Attaching package: 'SparkR'\n",
      "\n",
      "The following objects are masked from 'package:stats':\n",
      "\n",
      "    cov, filter, lag, na.omit, predict, sd, var\n",
      "\n",
      "The following objects are masked from 'package:base':\n",
      "\n",
      "    colnames, colnames<-, endsWith, intersect, rank, rbind, sample,\n",
      "    startsWith, subset, summary, table, transform\n",
      "\n"
     ]
    }
   ],
   "source": [
    "Sys.setenv(SPARK_HOME = \"C:/stack/spark-1.6.2-bin-hadoop2.6\")\n",
    ".libPaths(c(file.path(Sys.getenv(\"SPARK_HOME\", \"R\", \"lib\")), .libPaths()))\n",
    "\n",
    "library(SparkR)"
   ]
  },
  {
   "cell_type": "code",
   "execution_count": 3,
   "metadata": {
    "collapsed": false
   },
   "outputs": [
    {
     "name": "stdout",
     "output_type": "stream",
     "text": [
      "Launching java with spark-submit command C:/stack/spark-1.6.2-bin-hadoop2.6/bin/spark-submit.cmd   sparkr-shell C:\\Users\\WEIZHO~1\\AppData\\Local\\Temp\\Rtmp6rr5tz\\backend_port29244af56544 \n"
     ]
    }
   ],
   "source": [
    "sc <- sparkR.init(master = \"local\")\n",
    "sqlContext <- sparkRSQL.init(sc)"
   ]
  },
  {
   "cell_type": "code",
   "execution_count": 4,
   "metadata": {
    "collapsed": false
   },
   "outputs": [
    {
     "data": {
      "text/html": [
       "<table>\n",
       "<thead><tr><th></th><th scope=col>eruptions</th><th scope=col>waiting</th></tr></thead>\n",
       "<tbody>\n",
       "\t<tr><th scope=row>1</th><td> 3.6</td><td>79.0</td></tr>\n",
       "\t<tr><th scope=row>2</th><td> 1.8</td><td>54.0</td></tr>\n",
       "\t<tr><th scope=row>3</th><td> 3.333</td><td>74.000</td></tr>\n",
       "\t<tr><th scope=row>4</th><td> 2.283</td><td>62.000</td></tr>\n",
       "\t<tr><th scope=row>5</th><td> 4.533</td><td>85.000</td></tr>\n",
       "\t<tr><th scope=row>6</th><td> 2.883</td><td>55.000</td></tr>\n",
       "</tbody>\n",
       "</table>\n"
      ],
      "text/latex": [
       "\\begin{tabular}{r|ll}\n",
       "  & eruptions & waiting\\\\\n",
       "\\hline\n",
       "\t1 &  3.6 & 79.0\\\\\n",
       "\t2 &  1.8 & 54.0\\\\\n",
       "\t3 &  3.333 & 74.000\\\\\n",
       "\t4 &  2.283 & 62.000\\\\\n",
       "\t5 &  4.533 & 85.000\\\\\n",
       "\t6 &  2.883 & 55.000\\\\\n",
       "\\end{tabular}\n"
      ],
      "text/plain": [
       "  eruptions waiting\n",
       "1     3.600      79\n",
       "2     1.800      54\n",
       "3     3.333      74\n",
       "4     2.283      62\n",
       "5     4.533      85\n",
       "6     2.883      55"
      ]
     },
     "metadata": {},
     "output_type": "display_data"
    }
   ],
   "source": [
    "#create a sparkR DataFrame\n",
    "DF <- createDataFrame(sqlContext, faithful)\n",
    "head(DF)"
   ]
  },
  {
   "cell_type": "code",
   "execution_count": 6,
   "metadata": {
    "collapsed": false
   },
   "outputs": [],
   "source": [
    "mod <- glm(eruptions ~ waiting, family = \"gaussian\", DF)"
   ]
  },
  {
   "cell_type": "code",
   "execution_count": 7,
   "metadata": {
    "collapsed": false
   },
   "outputs": [
    {
     "data": {
      "text/html": [
       "<dl>\n",
       "\t<dt>$devianceResiduals</dt>\n",
       "\t\t<dd><table>\n",
       "<thead><tr><th></th><th scope=col>Min</th><th scope=col>Max</th></tr></thead>\n",
       "<tbody>\n",
       "\t<tr><th scope=row></th><td>-1.299173</td><td> 1.193292</td></tr>\n",
       "</tbody>\n",
       "</table>\n",
       "</dd>\n",
       "\t<dt>$coefficients</dt>\n",
       "\t\t<dd><table>\n",
       "<thead><tr><th></th><th scope=col>Estimate</th><th scope=col>Std. Error</th><th scope=col>t value</th><th scope=col>Pr(&gt;|t|)</th></tr></thead>\n",
       "<tbody>\n",
       "\t<tr><th scope=row>(Intercept)</th><td> -1.8740160</td><td>  0.1601433</td><td>-11.7021190</td><td>  0.0000000</td></tr>\n",
       "\t<tr><th scope=row>waiting</th><td> 0.075627948</td><td> 0.002218541</td><td>34.089039851</td><td> 0.000000000</td></tr>\n",
       "</tbody>\n",
       "</table>\n",
       "</dd>\n",
       "</dl>\n"
      ],
      "text/latex": [
       "\\begin{description}\n",
       "\\item[\\$devianceResiduals] \\begin{tabular}{r|ll}\n",
       "  & Min & Max\\\\\n",
       "\\hline\n",
       "\t & -1.299173 &  1.193292\\\\\n",
       "\\end{tabular}\n",
       "\n",
       "\\item[\\$coefficients] \\begin{tabular}{r|llll}\n",
       "  & Estimate & Std. Error & t value & Pr(>\\textbar{}t\\textbar{})\\\\\n",
       "\\hline\n",
       "\t(Intercept) &  -1.8740160 &   0.1601433 & -11.7021190 &   0.0000000\\\\\n",
       "\twaiting &  0.075627948 &  0.002218541 & 34.089039851 &  0.000000000\\\\\n",
       "\\end{tabular}\n",
       "\n",
       "\\end{description}\n"
      ],
      "text/markdown": [
       "$devianceResiduals\n",
       ":   1. -1.29917268250848\n",
       "2. 1.19329194206918\n",
       "\n",
       "\n",
       "\n",
       "$coefficients\n",
       ":   1. -1.87401598641068\n",
       "2. 0.075627947951862\n",
       "3. 0.160143302304238\n",
       "4. 0.00221854145151768\n",
       "5. -11.7021190361771\n",
       "6. 34.0890398509911\n",
       "7. 0\n",
       "8. 0\n",
       "\n",
       "\n",
       "\n",
       "\n",
       "\n"
      ],
      "text/plain": [
       "$devianceResiduals\n",
       " Min       Max     \n",
       " -1.299173 1.193292\n",
       "\n",
       "$coefficients\n",
       "            Estimate   Std. Error  t value   Pr(>|t|)\n",
       "(Intercept) -1.874016  0.1601433   -11.70212 0       \n",
       "waiting     0.07562795 0.002218541 34.08904  0       \n"
      ]
     },
     "metadata": {},
     "output_type": "display_data"
    }
   ],
   "source": [
    "summary(mod)"
   ]
  },
  {
   "cell_type": "code",
   "execution_count": null,
   "metadata": {
    "collapsed": true
   },
   "outputs": [],
   "source": [
    "sparkR.stop()"
   ]
  }
 ],
 "metadata": {
  "anaconda-cloud": {},
  "kernelspec": {
   "display_name": "R",
   "language": "R",
   "name": "ir"
  },
  "language_info": {
   "codemirror_mode": "r",
   "file_extension": ".r",
   "mimetype": "text/x-r-source",
   "name": "R",
   "pygments_lexer": "r",
   "version": "3.3.1"
  }
 },
 "nbformat": 4,
 "nbformat_minor": 0
}
