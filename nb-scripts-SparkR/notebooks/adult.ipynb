{
 "cells": [
  {
   "cell_type": "code",
   "execution_count": 1,
   "metadata": {
    "collapsed": true
   },
   "outputs": [],
   "source": [
    "# demonstration of sparkR\n",
    "# what's here:\n",
    "# @ Setting up (setting SPARK_HOME etc.)\n",
    "# @ Initiation of local cluster (find out exactly what's happening under the hood)\n",
    "# @ import a dataset, minor manipulation\n",
    "# @ run both OLS, logistic regression\n",
    "# @ (kmeans and NBC only available on spark 2.0 onwards)"
   ]
  },
  {
   "cell_type": "code",
   "execution_count": 2,
   "metadata": {
    "collapsed": false
   },
   "outputs": [
    {
     "name": "stderr",
     "output_type": "stream",
     "text": [
      "\n",
      "Attaching package: 'SparkR'\n",
      "\n",
      "The following objects are masked from 'package:stats':\n",
      "\n",
      "    cov, filter, lag, na.omit, predict, sd, var\n",
      "\n",
      "The following objects are masked from 'package:base':\n",
      "\n",
      "    colnames, colnames<-, endsWith, intersect, rank, rbind, sample,\n",
      "    startsWith, subset, summary, table, transform\n",
      "\n",
      "Loading required package: lattice\n",
      "Loading required package: ggplot2\n"
     ]
    }
   ],
   "source": [
    "# envt setup\n",
    "Sys.setenv(SPARK_HOME = \"C:/stack/spark-1.6.2-bin-hadoop2.6\") # <--- change this to connect to server\n",
    ".libPaths(c(file.path(Sys.getenv(\"SPARK_HOME\", \"R\", \"lib\")), .libPaths()))\n",
    "\n",
    "library(SparkR)\n",
    "library(caret)\n",
    "library(magrittr)"
   ]
  },
  {
   "cell_type": "code",
   "execution_count": 3,
   "metadata": {
    "collapsed": false
   },
   "outputs": [
    {
     "name": "stdout",
     "output_type": "stream",
     "text": [
      "Launching java with spark-submit command C:/stack/spark-1.6.2-bin-hadoop2.6/bin/spark-submit.cmd   sparkr-shell C:\\Users\\WEIZHO~1\\AppData\\Local\\Temp\\Rtmpy85NUd\\backend_port2f4c7f616c0c \n"
     ]
    }
   ],
   "source": [
    "# initialize local spark cluster and SQL context\n",
    "sc <- sparkR.init(master = \"local\")\n",
    "sqlContext <- sparkRSQL.init(sc)"
   ]
  },
  {
   "cell_type": "code",
   "execution_count": 4,
   "metadata": {
    "collapsed": false
   },
   "outputs": [],
   "source": [
    "# read local file\n",
    "adult <- read.csv(\"C:/development/SparkR-nb-scripts/data/adult.csv\")"
   ]
  },
  {
   "cell_type": "code",
   "execution_count": 5,
   "metadata": {
    "collapsed": false
   },
   "outputs": [],
   "source": [
    "# create an ID column to create training/testing sets later\n",
    "adult$id <- seq(1, nrow(adult))"
   ]
  },
  {
   "cell_type": "code",
   "execution_count": 6,
   "metadata": {
    "collapsed": false
   },
   "outputs": [
    {
     "name": "stderr",
     "output_type": "stream",
     "text": [
      "Warning message:\n",
      "In FUN(X[[i]], ...): Use education_num instead of education.num  as column nameWarning message:\n",
      "In FUN(X[[i]], ...): Use marital_status instead of marital.status  as column nameWarning message:\n",
      "In FUN(X[[i]], ...): Use capital_gain instead of capital.gain  as column nameWarning message:\n",
      "In FUN(X[[i]], ...): Use capital_loss instead of capital.loss  as column nameWarning message:\n",
      "In FUN(X[[i]], ...): Use hours_per_week instead of hours.per.week  as column nameWarning message:\n",
      "In FUN(X[[i]], ...): Use native_country instead of native.country  as column name"
     ]
    },
    {
     "data": {
      "text/html": [
       "<table>\n",
       "<thead><tr><th></th><th scope=col>age</th><th scope=col>workclass</th><th scope=col>fnlwgt</th><th scope=col>education</th><th scope=col>education_num</th><th scope=col>marital_status</th><th scope=col>occupation</th><th scope=col>relationship</th><th scope=col>race</th><th scope=col>sex</th><th scope=col>capital_gain</th><th scope=col>capital_loss</th><th scope=col>hours_per_week</th><th scope=col>native_country</th><th scope=col>income</th><th scope=col>id</th></tr></thead>\n",
       "<tbody>\n",
       "\t<tr><th scope=row>1</th><td>39            </td><td> State-gov    </td><td>77516         </td><td> Bachelors    </td><td>13            </td><td> Never-married</td><td> Adm-clerical </td><td> Not-in-family</td><td> White        </td><td> Male         </td><td>2174          </td><td>0             </td><td>40            </td><td> United-States</td><td> &lt;=50K     </td><td>1             </td></tr>\n",
       "\t<tr><th scope=row>2</th><td>50                 </td><td> Self-emp-not-inc  </td><td>83311              </td><td> Bachelors         </td><td>13                 </td><td> Married-civ-spouse</td><td> Exec-managerial   </td><td> Husband           </td><td> White             </td><td> Male              </td><td>0                  </td><td>0                  </td><td>13                 </td><td> United-States     </td><td> &lt;=50K          </td><td>2                  </td></tr>\n",
       "\t<tr><th scope=row>3</th><td>38                </td><td> Private          </td><td>215646            </td><td> HS-grad          </td><td>9                 </td><td> Divorced         </td><td> Handlers-cleaners</td><td> Not-in-family    </td><td> White            </td><td> Male             </td><td>0                 </td><td>0                 </td><td>40                </td><td> United-States    </td><td> &lt;=50K         </td><td>3                 </td></tr>\n",
       "\t<tr><th scope=row>4</th><td>53                 </td><td> Private           </td><td>234721             </td><td> 11th              </td><td>7                  </td><td> Married-civ-spouse</td><td> Handlers-cleaners </td><td> Husband           </td><td> Black             </td><td> Male              </td><td>0                  </td><td>0                  </td><td>40                 </td><td> United-States     </td><td> &lt;=50K          </td><td>4                  </td></tr>\n",
       "\t<tr><th scope=row>5</th><td>28                 </td><td> Private           </td><td>338409             </td><td> Bachelors         </td><td>13                 </td><td> Married-civ-spouse</td><td> Prof-specialty    </td><td> Wife              </td><td> Black             </td><td> Female            </td><td>0                  </td><td>0                  </td><td>40                 </td><td> Cuba              </td><td> &lt;=50K          </td><td>5                  </td></tr>\n",
       "\t<tr><th scope=row>6</th><td>37                 </td><td> Private           </td><td>284582             </td><td> Masters           </td><td>14                 </td><td> Married-civ-spouse</td><td> Exec-managerial   </td><td> Wife              </td><td> White             </td><td> Female            </td><td>0                  </td><td>0                  </td><td>40                 </td><td> United-States     </td><td> &lt;=50K          </td><td>6                  </td></tr>\n",
       "</tbody>\n",
       "</table>\n"
      ],
      "text/latex": [
       "\\begin{tabular}{r|llllllllllllllll}\n",
       "  & age & workclass & fnlwgt & education & education\\_num & marital\\_status & occupation & relationship & race & sex & capital\\_gain & capital\\_loss & hours\\_per\\_week & native\\_country & income & id\\\\\n",
       "\\hline\n",
       "\t1 & 39             &  State-gov     & 77516          &  Bachelors     & 13             &  Never-married &  Adm-clerical  &  Not-in-family &  White         &  Male          & 2174           & 0              & 40             &  United-States &  <=50K         & 1             \\\\\n",
       "\t2 & 50                  &  Self-emp-not-inc   & 83311               &  Bachelors          & 13                  &  Married-civ-spouse &  Exec-managerial    &  Husband            &  White              &  Male               & 0                   & 0                   & 13                  &  United-States      &  <=50K              & 2                  \\\\\n",
       "\t3 & 38                 &  Private           & 215646             &  HS-grad           & 9                  &  Divorced          &  Handlers-cleaners &  Not-in-family     &  White             &  Male              & 0                  & 0                  & 40                 &  United-States     &  <=50K             & 3                 \\\\\n",
       "\t4 & 53                  &  Private            & 234721              &  11th               & 7                   &  Married-civ-spouse &  Handlers-cleaners  &  Husband            &  Black              &  Male               & 0                   & 0                   & 40                  &  United-States      &  <=50K              & 4                  \\\\\n",
       "\t5 & 28                  &  Private            & 338409              &  Bachelors          & 13                  &  Married-civ-spouse &  Prof-specialty     &  Wife               &  Black              &  Female             & 0                   & 0                   & 40                  &  Cuba               &  <=50K              & 5                  \\\\\n",
       "\t6 & 37                  &  Private            & 284582              &  Masters            & 14                  &  Married-civ-spouse &  Exec-managerial    &  Wife               &  White              &  Female             & 0                   & 0                   & 40                  &  United-States      &  <=50K              & 6                  \\\\\n",
       "\\end{tabular}\n"
      ],
      "text/plain": [
       "  age         workclass fnlwgt  education education_num      marital_status\n",
       "1  39         State-gov  77516  Bachelors            13       Never-married\n",
       "2  50  Self-emp-not-inc  83311  Bachelors            13  Married-civ-spouse\n",
       "3  38           Private 215646    HS-grad             9            Divorced\n",
       "4  53           Private 234721       11th             7  Married-civ-spouse\n",
       "5  28           Private 338409  Bachelors            13  Married-civ-spouse\n",
       "6  37           Private 284582    Masters            14  Married-civ-spouse\n",
       "          occupation   relationship   race     sex capital_gain capital_loss\n",
       "1       Adm-clerical  Not-in-family  White    Male         2174            0\n",
       "2    Exec-managerial        Husband  White    Male            0            0\n",
       "3  Handlers-cleaners  Not-in-family  White    Male            0            0\n",
       "4  Handlers-cleaners        Husband  Black    Male            0            0\n",
       "5     Prof-specialty           Wife  Black  Female            0            0\n",
       "6    Exec-managerial           Wife  White  Female            0            0\n",
       "  hours_per_week native_country income id\n",
       "1             40  United-States  <=50K  1\n",
       "2             13  United-States  <=50K  2\n",
       "3             40  United-States  <=50K  3\n",
       "4             40  United-States  <=50K  4\n",
       "5             40           Cuba  <=50K  5\n",
       "6             40  United-States  <=50K  6"
      ]
     },
     "metadata": {},
     "output_type": "display_data"
    },
    {
     "name": "stdout",
     "output_type": "stream",
     "text": [
      "'DataFrame': 16 variables:\n",
      " $ age           : int 39 50 38 53 28 37\n",
      " $ workclass     : chr \" State-gov\" \" Self-emp-not-inc\" \" Private\" \" Private\" \" Private\" \" Private\"\n",
      " $ fnlwgt        : int 77516 83311 215646 234721 338409 284582\n",
      " $ education     : chr \" Bachelors\" \" Bachelors\" \" HS-grad\" \" 11th\" \" Bachelors\" \" Masters\"\n",
      " $ education_num : int 13 13 9 7 13 14\n",
      " $ marital_status: chr \" Never-married\" \" Married-civ-spouse\" \" Divorced\" \" Married-civ-spouse\" \" Married-civ-spouse\" \" \n",
      " $ occupation    : chr \" Adm-clerical\" \" Exec-managerial\" \" Handlers-cleaners\" \" Handlers-cleaners\" \" Prof-specialty\" \" \n",
      " $ relationship  : chr \" Not-in-family\" \" Husband\" \" Not-in-family\" \" Husband\" \" Wife\" \" Wife\"\n",
      " $ race          : chr \" White\" \" White\" \" White\" \" Black\" \" Black\" \" White\"\n",
      " $ sex           : chr \" Male\" \" Male\" \" Male\" \" Male\" \" Female\" \" Female\"\n",
      " $ capital_gain  : int 2174 0 0 0 0 0\n",
      " $ capital_loss  : int 0 0 0 0 0 0\n",
      " $ hours_per_week: int 40 13 40 40 40 40\n",
      " $ native_country: chr \" United-States\" \" United-States\" \" United-States\" \" United-States\" \" Cuba\" \" United-States\"\n",
      " $ income        : chr \" <=50K\" \" <=50K\" \" <=50K\" \" <=50K\" \" <=50K\" \" <=50K\"\n",
      " $ id            : int 1 2 3 4 5 6\n",
      "root\n",
      " |-- age: integer (nullable = true)\n",
      " |-- workclass: string (nullable = true)\n",
      " |-- fnlwgt: integer (nullable = true)\n",
      " |-- education: string (nullable = true)\n",
      " |-- education_num: integer (nullable = true)\n",
      " |-- marital_status: string (nullable = true)\n",
      " |-- occupation: string (nullable = true)\n",
      " |-- relationship: string (nullable = true)\n",
      " |-- race: string (nullable = true)\n",
      " |-- sex: string (nullable = true)\n",
      " |-- capital_gain: integer (nullable = true)\n",
      " |-- capital_loss: integer (nullable = true)\n",
      " |-- hours_per_week: integer (nullable = true)\n",
      " |-- native_country: string (nullable = true)\n",
      " |-- income: string (nullable = true)\n",
      " |-- id: integer (nullable = true)\n"
     ]
    }
   ],
   "source": [
    "# create a data frame in sparkR\n",
    "DF <- createDataFrame(sqlContext, adult)\n",
    "head(DF)\n",
    "str(DF)\n",
    "printSchema(DF)"
   ]
  },
  {
   "cell_type": "code",
   "execution_count": 11,
   "metadata": {
    "collapsed": false
   },
   "outputs": [],
   "source": [
    "# some minor manipulation\n",
    "#DF$income <- as.factor(DF$income) # <- is this necessary? No\n",
    "\n",
    "# Doesnt work:\n",
    "#idx <- which(DF$education == \" Bachelors\")\n",
    "#idx <- which(DF[,\"education\"] == \" Bachelors\")\n",
    "#idx <- which(DF[,4] == \" Bachelors\")\n",
    "\n",
    "# This doesnt works:\n",
    "#DF2 <- subset(DF, DF$education == \" Bachelors\")\n",
    "#dim(DF2) # takes awhile\n",
    "\n",
    "# Doesnt work\n",
    "#DF$income %>% as.character\n",
    "#unclass(DF$age) %>% head"
   ]
  },
  {
   "cell_type": "code",
   "execution_count": 7,
   "metadata": {
    "collapsed": true
   },
   "outputs": [],
   "source": [
    "# Cross validation\n",
    "# Need to create an ID column and do matching\n",
    "trainDF <- SparkR::sample(DF, FALSE, 0.7)\n",
    "trainID <- SparkR::collect(select(trainDF, \"id\"))$id\n",
    "testID <- setdiff(1:nrow(DF), trainID)\n",
    "registerTempTable(DF, \"DF\")\n",
    "query <- paste(\"SELECT * FROM DF WHERE id in (\",\n",
    "               paste(shQuote(testID, type = \"sh\"), collapse = ', '), \")\")\n",
    "testDF <- sql(sqlContext, query)"
   ]
  },
  {
   "cell_type": "code",
   "execution_count": 13,
   "metadata": {
    "collapsed": false
   },
   "outputs": [
    {
     "data": {
      "text/html": [
       "<dl>\n",
       "\t<dt>$devianceResiduals</dt>\n",
       "\t\t<dd><table>\n",
       "<thead><tr><th></th><th scope=col>Min</th><th scope=col>Max</th></tr></thead>\n",
       "<tbody>\n",
       "\t<tr><th scope=row></th><td>-26.17678</td><td> 54.35031</td></tr>\n",
       "</tbody>\n",
       "</table>\n",
       "</dd>\n",
       "\t<dt>$coefficients</dt>\n",
       "\t\t<dd><table>\n",
       "<thead><tr><th></th><th scope=col>Estimate</th><th scope=col>Std. Error</th><th scope=col>t value</th><th scope=col>Pr(&gt;|t|)</th></tr></thead>\n",
       "<tbody>\n",
       "\t<tr><th scope=row>(Intercept)</th><td> 47.0957816</td><td>  0.4535186</td><td>103.8453130</td><td>  0.0000000</td></tr>\n",
       "\t<tr><th scope=row>income_ &lt;=50K</th><td> -8.0878313</td><td>  0.2177393</td><td>-37.1445578</td><td>  0.0000000</td></tr>\n",
       "\t<tr><th scope=row>education_num</th><td>-2.398758e-01</td><td> 3.591054e-02</td><td>-6.679814e+00</td><td> 2.447398e-11</td></tr>\n",
       "</tbody>\n",
       "</table>\n",
       "</dd>\n",
       "</dl>\n"
      ],
      "text/latex": [
       "\\begin{description}\n",
       "\\item[\\$devianceResiduals] \\begin{tabular}{r|ll}\n",
       "  & Min & Max\\\\\n",
       "\\hline\n",
       "\t & -26.17678 &  54.35031\\\\\n",
       "\\end{tabular}\n",
       "\n",
       "\\item[\\$coefficients] \\begin{tabular}{r|llll}\n",
       "  & Estimate & Std. Error & t value & Pr(>\\textbar{}t\\textbar{})\\\\\n",
       "\\hline\n",
       "\t(Intercept) &  47.0957816 &   0.4535186 & 103.8453130 &   0.0000000\\\\\n",
       "\tincome\\_ <=50K &  -8.0878313 &   0.2177393 & -37.1445578 &   0.0000000\\\\\n",
       "\teducation\\_num & -2.398758e-01 &  3.591054e-02 & -6.679814e+00 &  2.447398e-11\\\\\n",
       "\\end{tabular}\n",
       "\n",
       "\\end{description}\n"
      ],
      "text/markdown": [
       "$devianceResiduals\n",
       ":   1. -26.1767755528993\n",
       "2. 54.3503102579482\n",
       "\n",
       "\n",
       "\n",
       "$coefficients\n",
       ":   1. 47.0957816057844\n",
       "2. -8.08783127118366\n",
       "3. -0.239875756610638\n",
       "4. 0.453518606117297\n",
       "5. 0.217739333692164\n",
       "6. 0.035910542747867\n",
       "7. 103.845313004873\n",
       "8. -37.1445578253587\n",
       "9. -6.67981429004958\n",
       "10. 0\n",
       "11. 0\n",
       "12. 2.44739783994419e-11\n",
       "\n",
       "\n",
       "\n",
       "\n",
       "\n"
      ],
      "text/plain": [
       "$devianceResiduals\n",
       " Min       Max     \n",
       " -26.17678 54.35031\n",
       "\n",
       "$coefficients\n",
       "              Estimate   Std. Error t value   Pr(>|t|)    \n",
       "(Intercept)   47.09578   0.4535186  103.8453  0           \n",
       "income_ <=50K -8.087831  0.2177393  -37.14456 0           \n",
       "education_num -0.2398758 0.03591054 -6.679814 2.447398e-11\n"
      ]
     },
     "metadata": {},
     "output_type": "display_data"
    },
    {
     "data": {
      "text/html": [
       "13.2986695798895"
      ],
      "text/latex": [
       "13.2986695798895"
      ],
      "text/markdown": [
       "13.2986695798895"
      ],
      "text/plain": [
       "[1] 13.29867"
      ]
     },
     "metadata": {},
     "output_type": "display_data"
    }
   ],
   "source": [
    "# Run the following algorithms\n",
    "# @ OLS\n",
    "# @ logistic regression\n",
    "\n",
    "# ====\n",
    "\n",
    "ols0 <- SparkR::glm(data = trainDF, age ~ income + education_num,\n",
    "                    family = \"gaussian\")\n",
    "summary(ols0)\n",
    "\n",
    "ols0_pred <- SparkR::predict(ols0, testDF)\n",
    "ols0_pred <- select(ols0_pred, \"prediction\") %>% collect\n",
    "\n",
    "Metrics::rmse(predicted = ols0_pred[,1],\n",
    "              actual = (select(testDF, \"age\") %>% collect)[,1])"
   ]
  },
  {
   "cell_type": "code",
   "execution_count": 8,
   "metadata": {
    "collapsed": false
   },
   "outputs": [
    {
     "data": {
      "text/html": [
       "<strong>$coefficients</strong> = <table>\n",
       "<thead><tr><th></th><th scope=col>Estimate</th></tr></thead>\n",
       "<tbody>\n",
       "\t<tr><th scope=row>(Intercept)</th><td>-14.62882</td></tr>\n",
       "\t<tr><th scope=row>age</th><td>0.04264282</td></tr>\n",
       "\t<tr><th scope=row>education_ HS-grad</th><td>11.17897</td></tr>\n",
       "\t<tr><th scope=row>education_ Some-college</th><td>11.56282</td></tr>\n",
       "\t<tr><th scope=row>education_ Bachelors</th><td>12.62883</td></tr>\n",
       "\t<tr><th scope=row>education_ Masters</th><td>13.01264</td></tr>\n",
       "\t<tr><th scope=row>education_ Assoc-voc</th><td>11.98121</td></tr>\n",
       "\t<tr><th scope=row>education_ 11th</th><td>10.07293</td></tr>\n",
       "\t<tr><th scope=row>education_ Assoc-acdm</th><td>11.89117</td></tr>\n",
       "\t<tr><th scope=row>education_ 10th</th><td>10.1759</td></tr>\n",
       "\t<tr><th scope=row>education_ 7th-8th</th><td>9.682702</td></tr>\n",
       "\t<tr><th scope=row>education_ Prof-school</th><td>13.65749</td></tr>\n",
       "\t<tr><th scope=row>education_ 9th</th><td>9.715749</td></tr>\n",
       "\t<tr><th scope=row>education_ Doctorate</th><td>13.63889</td></tr>\n",
       "\t<tr><th scope=row>education_ 12th</th><td>10.87088</td></tr>\n",
       "\t<tr><th scope=row>education_ 5th-6th</th><td>9.685361</td></tr>\n",
       "\t<tr><th scope=row>education_ 1st-4th</th><td>8.860859</td></tr>\n",
       "</tbody>\n",
       "</table>\n"
      ],
      "text/latex": [
       "\\textbf{\\$coefficients} = \\begin{tabular}{r|l}\n",
       "  & Estimate\\\\\n",
       "\\hline\n",
       "\t(Intercept) & -14.62882\\\\\n",
       "\tage & 0.04264282\\\\\n",
       "\teducation\\_ HS-grad & 11.17897\\\\\n",
       "\teducation\\_ Some-college & 11.56282\\\\\n",
       "\teducation\\_ Bachelors & 12.62883\\\\\n",
       "\teducation\\_ Masters & 13.01264\\\\\n",
       "\teducation\\_ Assoc-voc & 11.98121\\\\\n",
       "\teducation\\_ 11th & 10.07293\\\\\n",
       "\teducation\\_ Assoc-acdm & 11.89117\\\\\n",
       "\teducation\\_ 10th & 10.1759\\\\\n",
       "\teducation\\_ 7th-8th & 9.682702\\\\\n",
       "\teducation\\_ Prof-school & 13.65749\\\\\n",
       "\teducation\\_ 9th & 9.715749\\\\\n",
       "\teducation\\_ Doctorate & 13.63889\\\\\n",
       "\teducation\\_ 12th & 10.87088\\\\\n",
       "\teducation\\_ 5th-6th & 9.685361\\\\\n",
       "\teducation\\_ 1st-4th & 8.860859\\\\\n",
       "\\end{tabular}\n"
      ],
      "text/markdown": [
       "**$coefficients** = 1. -14.628823208467\n",
       "2. 0.0426428152351477\n",
       "3. 11.1789732888067\n",
       "4. 11.5628184967508\n",
       "5. 12.6288348368203\n",
       "6. 13.0126405875074\n",
       "7. 11.9812119733903\n",
       "8. 10.0729324308758\n",
       "9. 11.8911708145133\n",
       "10. 10.1758998994085\n",
       "11. 9.68270215164719\n",
       "12. 13.6574873927714\n",
       "13. 9.71574916840181\n",
       "14. 13.6388906830491\n",
       "15. 10.8708826089533\n",
       "16. 9.68536081056173\n",
       "17. 8.86085899954313\n",
       "\n",
       "\n"
      ],
      "text/plain": [
       "$coefficients\n",
       "                            Estimate\n",
       "(Intercept)             -14.62882321\n",
       "age                       0.04264282\n",
       "education_ HS-grad       11.17897329\n",
       "education_ Some-college  11.56281850\n",
       "education_ Bachelors     12.62883484\n",
       "education_ Masters       13.01264059\n",
       "education_ Assoc-voc     11.98121197\n",
       "education_ 11th          10.07293243\n",
       "education_ Assoc-acdm    11.89117081\n",
       "education_ 10th          10.17589990\n",
       "education_ 7th-8th        9.68270215\n",
       "education_ Prof-school   13.65748739\n",
       "education_ 9th            9.71574917\n",
       "education_ Doctorate     13.63889068\n",
       "education_ 12th          10.87088261\n",
       "education_ 5th-6th        9.68536081\n",
       "education_ 1st-4th        8.86085900\n"
      ]
     },
     "metadata": {},
     "output_type": "display_data"
    },
    {
     "data": {
      "text/html": [
       "<table>\n",
       "<thead><tr><th></th><th scope=col>prediction</th></tr></thead>\n",
       "<tbody>\n",
       "\t<tr><th scope=row>1</th><td>0</td></tr>\n",
       "\t<tr><th scope=row>2</th><td>1</td></tr>\n",
       "\t<tr><th scope=row>3</th><td>0</td></tr>\n",
       "\t<tr><th scope=row>4</th><td>0</td></tr>\n",
       "\t<tr><th scope=row>5</th><td>0</td></tr>\n",
       "\t<tr><th scope=row>6</th><td>0</td></tr>\n",
       "</tbody>\n",
       "</table>\n"
      ],
      "text/latex": [
       "\\begin{tabular}{r|l}\n",
       "  & prediction\\\\\n",
       "\\hline\n",
       "\t1 & 0\\\\\n",
       "\t2 & 1\\\\\n",
       "\t3 & 0\\\\\n",
       "\t4 & 0\\\\\n",
       "\t5 & 0\\\\\n",
       "\t6 & 0\\\\\n",
       "\\end{tabular}\n"
      ],
      "text/plain": [
       "  prediction\n",
       "1          0\n",
       "2          1\n",
       "3          0\n",
       "4          0\n",
       "5          0\n",
       "6          0"
      ]
     },
     "metadata": {},
     "output_type": "display_data"
    }
   ],
   "source": [
    "lg0 <- SparkR::glm(data = trainDF, income ~ age + education,\n",
    "                   family = \"binomial\")\n",
    "summary(lg0)\n",
    "\n",
    "lg0_pred_prob <- SparkR::predict(lg0, testDF)\n",
    "lg0_pred_prob %>% select(., \"prediction\") %>% collect %>% head\n",
    "lg0_pred_prob <- lg0_pred_prob %>% select(., \"prediction\") %>% collect\n",
    "\n",
    "#confusionMatrix(lg0_pred_prob, select(testDF, \"income\") %>% collect)\n",
    "# will need to change the target variable in the original dataset to {0,1}"
   ]
  },
  {
   "cell_type": "code",
   "execution_count": null,
   "metadata": {
    "collapsed": true
   },
   "outputs": [],
   "source": [
    "sparkR.stop()"
   ]
  },
  {
   "cell_type": "code",
   "execution_count": null,
   "metadata": {
    "collapsed": true
   },
   "outputs": [],
   "source": []
  }
 ],
 "metadata": {
  "kernelspec": {
   "display_name": "R",
   "language": "R",
   "name": "ir"
  },
  "language_info": {
   "codemirror_mode": "r",
   "file_extension": ".r",
   "mimetype": "text/x-r-source",
   "name": "R",
   "pygments_lexer": "r",
   "version": "3.3.1"
  }
 },
 "nbformat": 4,
 "nbformat_minor": 0
}
